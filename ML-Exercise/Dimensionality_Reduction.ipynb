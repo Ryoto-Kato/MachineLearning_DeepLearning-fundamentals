{
 "cells": [
  {
   "attachments": {},
   "cell_type": "markdown",
   "metadata": {},
   "source": [
    "# Dimensionality reduction 1"
   ]
  },
  {
   "cell_type": "code",
   "execution_count": 1,
   "metadata": {},
   "outputs": [],
   "source": [
    "import numpy as np\n",
    "import matplotlib.pyplot as plt\n",
    "\n",
    "%matplotlib inline"
   ]
  },
  {
   "cell_type": "code",
   "execution_count": null,
   "metadata": {},
   "outputs": [],
   "source": []
  },
  {
   "attachments": {},
   "cell_type": "markdown",
   "metadata": {},
   "source": [
    "## Principal Component Analysis\n",
    "- Linear dimensionality reduction method\n",
    "- Find optimal orthogonal transformation such that covariance between the new dimensions is 0\n",
    "    - Exploits eigen decomposition\n",
    "    - By the orthogonal transformation, we could ignore the low variance direction to reduce the dimensionality of the features.\n",
    "- Transformations\n",
    "    - Find the basis (eigen vector of covariance matrix) such that independent each other\n",
    "    - Diagonalization by changing the basis (inner-product of the original matrix and basis (new coordinate system)) \n",
    "    $$\n",
    "    \\mathbf{X} \\text{: Data original coordinates}\n",
    "    \\\\\n",
    "    \\hat{\\mathbf{X}} \\text{: Centralized dataset}\n",
    "    \\\\\n",
    "    \\mathbf{\\Gamma} \\text{: New coordinate system (Eigen vectors matrix)}\n",
    "    \\\\\n",
    "    \\mathbf{\\Lambda} \\text{: Variance of respective direction (Eigen values matrix)}\n",
    "    \\\\\n",
    "    $$\n",
    "    Eigen Decomposition of covariance matrix of original data\n",
    "    $$\n",
    "    \\Sigma_{\\hat{\\mathbf{X}}} =  \\mathbf{\\Gamma} \\mathbf{\\Lambda} \\mathbf{\\Gamma}^T\n",
    "    $$\n",
    "    \n",
    "        New coordinate system\n",
    "    $$\\mathbf{\\Gamma}$$\n",
    "\n",
    "        Variance of each direction\n",
    "        Covariance matrix on the new coordinate\n",
    "    $$\\mathbf{\\Lambda}$$\n",
    "    $$"
   ]
  },
  {
   "attachments": {},
   "cell_type": "markdown",
   "metadata": {},
   "source": [
    "    Transformed dataset\n",
    "$$\\mathbf{Y}=\\mathbf{X}\\mathbf{\\Gamma}$$\n",
    "    Covariance matrix of transformed dataset\n",
    "$$\\mathbf{\\Sigma_\\mathbf{Y}}=\\mathbf{\\Lambda}=\\mathbf{\\Gamma}^T{\\mathbf{\\Sigma_{\\hat{\\mathbf{X}}}}}\\mathbf{\\Gamma}$$"
   ]
  },
  {
   "attachments": {},
   "cell_type": "markdown",
   "metadata": {},
   "source": [
    "$$\n",
    "\n",
    "$$"
   ]
  }
 ],
 "metadata": {
  "kernelspec": {
   "display_name": "dlml",
   "language": "python",
   "name": "python3"
  },
  "language_info": {
   "codemirror_mode": {
    "name": "ipython",
    "version": 3
   },
   "file_extension": ".py",
   "mimetype": "text/x-python",
   "name": "python",
   "nbconvert_exporter": "python",
   "pygments_lexer": "ipython3",
   "version": "3.10.9"
  },
  "orig_nbformat": 4,
  "vscode": {
   "interpreter": {
    "hash": "e6b7a25b8b2426eb550c8146811605d9bdb61f23d99ada7f1c3a4f71b608de8f"
   }
  }
 },
 "nbformat": 4,
 "nbformat_minor": 2
}
