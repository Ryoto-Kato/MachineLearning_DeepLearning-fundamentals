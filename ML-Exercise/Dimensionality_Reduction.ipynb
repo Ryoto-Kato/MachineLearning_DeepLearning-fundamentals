{
 "cells": [
  {
   "attachments": {},
   "cell_type": "markdown",
   "metadata": {},
   "source": [
    "# Dimensionality reduction 1\n",
    "## PCA and SVD\n",
    "    Linear dimensionality reduction"
   ]
  },
  {
   "cell_type": "code",
   "execution_count": 1,
   "metadata": {},
   "outputs": [],
   "source": [
    "import numpy as np\n",
    "import matplotlib.pyplot as plt\n",
    "\n",
    "%matplotlib inline"
   ]
  },
  {
   "attachments": {},
   "cell_type": "markdown",
   "metadata": {},
   "source": [
    "## Principal Component Analysis\n",
    "- Linear dimensionality reduction method\n",
    "- Find optimal orthogonal transformation such that covariance between the new dimensions is 0\n",
    "    - Exploits eigen decomposition\n",
    "    - By the orthogonal transformation, we could ignore the low variance direction to reduce the dimensionality of the features.\n",
    "- Transformations\n",
    "    - Find the basis (eigen vector of covariance matrix) such that independent each other\n",
    "    - Diagonalization by changing the basis (inner-product of the original matrix and basis (new coordinate system)) \n",
    "    $\n",
    "    \\mathbf{X} \\text{: Data original coordinates}\n",
    "    \\\\\n",
    "    \\hat{\\mathbf{X}} \\text{: Centralized dataset}\n",
    "    \\\\\n",
    "    \\mathbf{\\Gamma} \\text{: New coordinate system (Eigen vectors matrix)}\n",
    "    \\\\\n",
    "    \\mathbf{\\Lambda} \\text{: Variance of respective direction (Eigen values matrix)}\n",
    "    \\\\\n",
    "    $$\n",
    "    Eigen Decomposition of covariance matrix of original data\n",
    "    $$\n",
    "    \\Sigma_{\\hat{\\mathbf{X}}} =  \\mathbf{\\Gamma} \\mathbf{\\Lambda} \\mathbf{\\Gamma}^T\n",
    "    $\n",
    "    \n",
    "        New coordinate system\n",
    "    $$\\mathbf{\\Gamma}$$\n",
    "\n",
    "        Variance of each direction\n",
    "        Covariance matrix on the new coordinate\n",
    "    $$\\mathbf{\\Lambda}$$\n",
    "    $$"
   ]
  },
  {
   "attachments": {},
   "cell_type": "markdown",
   "metadata": {},
   "source": [
    "# PCA\n",
    "### Process of principal component analysis\n",
    "Given input\n",
    "Args\n",
    "$\\mathbf{X} \\text{: array, shape[N, D]}$\n",
    "- N : #samples, D : features dimensions\n",
    "\n",
    "1. Calculate the mean over samples\n",
    "$$\\mathbf{x_m} \\text{: array, shape [D, 1]}$$\n",
    "\n",
    "2. Centralized (Standardized) the given data matrix around the mean $\\mathbf{x_m}$\n",
    "$$\\hat{\\mathbf{X}} = X - x_m[\\text{none}, :]$$\n",
    "$$\\text{or}$$\n",
    "$$\\hat{\\mathbf{X}} = X -  1_N@x_m^T$$\n",
    "\n",
    "3. Calculate the covariance matrix of the centralized data matrix \n",
    "$$\\Sigma_{\\hat{\\mathbf{X}}} = \\frac{1}{N}\\hat{\\mathbf{X}}^T\\hat{\\mathbf{X}}$$\n",
    "\n",
    "4. Eigendecomposition\n",
    "   - Derived the eigen values and eigenvectos of $\\Sigma_{\\hat{\\mathbf{X}}}$ \n",
    "$$\n",
    "\\Sigma_{\\hat{\\mathbf{X}}} = \\mathbf{\\Gamma}\\mathbf{\\Lambda}\\mathbf{\\Gamma^T}\n",
    "$$\n",
    "\n",
    "   - $\\mathbf{\\Gamma}$ : Eigenvector matrix, shape[D, D]\n",
    "     - Orthonormal matrix\n",
    "       - All rows are independent with each other.\n",
    "   - $\\mathbf{\\Lambda}$ : Eigenvalue matrix, dig(1, .... , D)\n",
    "     - variance of each direction\n",
    "     - none-covariance between the direction\n",
    "     - Directions (new coordinate systems) are independent with each other\n",
    "\n",
    "5. Plot the original data $\\mathbf{X}$ and the eigenvectors to a single diagram\n",
    "   - To obtain optimal diagonal transformation system onto M-dim space\n",
    "   - We need to prune the eigenvectors' matrix leaving out only corresponding M the largest eigenvalues\n",
    "   - We could obtain the \n",
    "   - $\\mathbf{\\Gamma_{prune}}$: some columns are zero\n",
    "\n",
    "\n",
    "6. Transform all vectors in X in this new subspace by expressing all vectors in X in this new basis (project the vectors in $\\mathbf{X}$ onto the M-dim subspace)."
   ]
  },
  {
   "attachments": {},
   "cell_type": "markdown",
   "metadata": {},
   "source": [
    "    Transformed dataset\n",
    "$$\\mathbf{Y}=\\mathbf{X}\\mathbf{\\Gamma}$$\n",
    "    Covariance matrix of transformed dataset\n",
    "$$\\mathbf{\\Sigma_\\mathbf{Y}}=\\mathbf{\\Lambda}=\\mathbf{\\Gamma}^T{\\mathbf{\\Sigma_{\\hat{\\mathbf{X}}}}}\\mathbf{\\Gamma}$$"
   ]
  },
  {
   "attachments": {},
   "cell_type": "markdown",
   "metadata": {},
   "source": [
    "The given data X"
   ]
  },
  {
   "cell_type": "code",
   "execution_count": 2,
   "metadata": {},
   "outputs": [
    {
     "name": "stdout",
     "output_type": "stream",
     "text": [
      "shape: (17, 2)\n",
      "sample: 17\n",
      "features: 2\n",
      "    [-3 -2]\n",
      "    [-2 -1]\n",
      "    [-1  0]\n",
      "    [0 1]\n",
      "    [1 2]\n",
      "    [2 3]\n",
      "    [-2 -2]\n",
      "    [-1 -1]\n",
      "    [0 0]\n",
      "    [1 1]\n",
      "    [2 2]\n",
      "    [-2 -3]\n",
      "    [-1 -2]\n",
      "    [ 0 -1]\n",
      "    [1 0]\n",
      "    [2 1]\n",
      "    [3 2]\n"
     ]
    }
   ],
   "source": [
    "X = np.array([(-3,-2),(-2,-1),(-1,0),(0,1),\n",
    "              (1,2),(2,3),(-2,-2),(-1,-1),\n",
    "              (0,0),(1,1),(2,2), (-2,-3),\n",
    "              (-1,-2),(0,-1),(1,0), (2,1),(3,2)])\n",
    "\n",
    "N, D = X.shape[0], X.shape[1]\n",
    "\n",
    "print(f\"shape: {X.shape}\")\n",
    "print(f\"sample: {N}\")\n",
    "print(f\"features: {D}\")\n",
    "\n",
    "for idx, x in enumerate(X):\n",
    "    print(f'    {x}')"
   ]
  },
  {
   "attachments": {},
   "cell_type": "markdown",
   "metadata": {},
   "source": [
    "1. Calculate the mean over samples\n",
    "$$\\mathbf{x_m} \\text{: array, shape [D, 1]}$$"
   ]
  },
  {
   "cell_type": "code",
   "execution_count": 3,
   "metadata": {},
   "outputs": [
    {
     "name": "stdout",
     "output_type": "stream",
     "text": [
      "[0. 0.]\n",
      "shape: (2,)\n"
     ]
    }
   ],
   "source": [
    "# Axis = over which axis we take mean\n",
    "# Keepdims(False) for the subsequent operation\n",
    "# To use augumentation in the following operation, \n",
    "# we should squeeze the dimension of the derived mean of data vectors over samples\n",
    "x_m = X.mean(0, keepdims=False)\n",
    "print(x_m)\n",
    "print(f\"shape: {x_m.shape}\")"
   ]
  },
  {
   "attachments": {},
   "cell_type": "markdown",
   "metadata": {},
   "source": [
    "2. Centralized (Standardized) the given data matrix around the mean $\\mathbf{x_m}$\n",
    "$$\\hat{\\mathbf{X}} = X - x_m[None, :]$$\n",
    "$$\\text{or}$$\n",
    "$$\\hat{\\mathbf{X}} = X - x_m^T 1_N$$"
   ]
  },
  {
   "cell_type": "code",
   "execution_count": 4,
   "metadata": {},
   "outputs": [
    {
     "name": "stdout",
     "output_type": "stream",
     "text": [
      "[[-3. -2.]\n",
      " [-2. -1.]\n",
      " [-1.  0.]\n",
      " [ 0.  1.]\n",
      " [ 1.  2.]\n",
      " [ 2.  3.]\n",
      " [-2. -2.]\n",
      " [-1. -1.]\n",
      " [ 0.  0.]\n",
      " [ 1.  1.]\n",
      " [ 2.  2.]\n",
      " [-2. -3.]\n",
      " [-1. -2.]\n",
      " [ 0. -1.]\n",
      " [ 1.  0.]\n",
      " [ 2.  1.]\n",
      " [ 3.  2.]]\n",
      "shape: (17, 2)\n"
     ]
    }
   ],
   "source": [
    "X_hat = X - x_m[None, :]\n",
    "## alternative\n",
    "# rx_m = X.mean(0, keepdims=True)\n",
    "# one_n = np.ones((N, 1))\n",
    "# print(f\"1_N shape: {one_n.shape}\")\n",
    "# X_hat = X - one_n @ rx_m\n",
    "print(X_hat)\n",
    "print(f\"shape: {X_hat.shape}\")"
   ]
  },
  {
   "attachments": {},
   "cell_type": "markdown",
   "metadata": {},
   "source": [
    "3. Calculate the covariance matrix of the centralized data matrix \n",
    "$$\\Sigma_{\\hat{\\mathbf{X}}} = \\frac{1}{N}\\hat{\\mathbf{X^T}}\\hat{\\mathbf{X}}$$"
   ]
  },
  {
   "cell_type": "code",
   "execution_count": 5,
   "metadata": {},
   "outputs": [
    {
     "name": "stdout",
     "output_type": "stream",
     "text": [
      "shape: (2, 2)\n"
     ]
    }
   ],
   "source": [
    "C_X = X_hat.transpose() @ X_hat\n",
    "C_X = C_X * (1/N)\n",
    "# print(C_X)\n",
    "print(f\"shape: {C_X.shape}\")"
   ]
  },
  {
   "attachments": {},
   "cell_type": "markdown",
   "metadata": {},
   "source": [
    "# Function to get covariance matrix"
   ]
  },
  {
   "cell_type": "code",
   "execution_count": 6,
   "metadata": {},
   "outputs": [],
   "source": [
    "def get_covariance(X):\n",
    "    \"\"\"\n",
    "    Args:\n",
    "        X: array[N, D]\n",
    "        data matrix including each data vectors on original space (Usually, Cartesian Space)\n",
    "    Return:\n",
    "        C_X: array[N, N]\n",
    "        covariance matrix of the centralized data of given data matrix X\n",
    "    \"\"\"\n",
    "\n",
    "    # taking mean over samples\n",
    "    # x_m: array(D)\n",
    "\n",
    "    x_m = X.mean(0, keepdims=False)\n",
    "    \n",
    "    # Centralized X\n",
    "    # X_hat: array[N, D], dtype=Float\n",
    "\n",
    "    X_hat = X - x_m[None, :]\n",
    "\n",
    "    # Calculating the covariance matrix of the centralized data X_hat\n",
    "    # C_X: array[N, N], dtype=Float\n",
    "\n",
    "    C_X = X_hat.transpose() @ X_hat\n",
    "    # Normalization\n",
    "    C_X *= (1/N)\n",
    "\n",
    "    return C_X"
   ]
  },
  {
   "attachments": {},
   "cell_type": "markdown",
   "metadata": {},
   "source": [
    "4. Eigendecomposition\n",
    "   - Derived the eigen values and eigenvectos of $\\Sigma_{\\hat{\\mathbf{X}}}$ \n",
    "$$\n",
    "\\Sigma_{\\hat{\\mathbf{X}}} = \\mathbf{\\Gamma}\\mathbf{\\Lambda}\\mathbf{\\Gamma^T}\n",
    "$$\n",
    "\n",
    "   - $\\mathbf{\\Gamma}$ : Eigenvector matrix, shape[D, D]\n",
    "     - Orthonormal matrix\n",
    "       - All rows are independent with each other.\n",
    "   - $\\mathbf{\\Lambda}$ : Eigenvalue matrix, dig(1, .... , D)\n",
    "     - variance of each direction\n",
    "     - none-covariance between the direction\n",
    "     - Directions (new coordinate systems) are independent with each other"
   ]
  },
  {
   "attachments": {},
   "cell_type": "markdown",
   "metadata": {},
   "source": [
    "Using Numpy eigendecomposition function\n",
    "- numpy.linalg.eig function"
   ]
  },
  {
   "cell_type": "code",
   "execution_count": 7,
   "metadata": {},
   "outputs": [
    {
     "name": "stdout",
     "output_type": "stream",
     "text": [
      "Gamma:(2, 2)\n",
      " [[ 0.70710678 -0.70710678]\n",
      " [ 0.70710678  0.70710678]]\n",
      "Lammda:(2,)\n",
      " [5.29411765 0.35294118]\n",
      "0\n"
     ]
    }
   ],
   "source": [
    "eig_values, eig_vectors = np.linalg.eig(C_X)\n",
    "print(f\"Gamma:{eig_vectors.shape}\\n {eig_vectors}\")\n",
    "print(f\"Lammda:{eig_values.shape}\\n {eig_values}\")\n",
    "max_dim = np.argmax(eig_values)\n",
    "print(max_dim)"
   ]
  },
  {
   "cell_type": "code",
   "execution_count": 8,
   "metadata": {},
   "outputs": [
    {
     "name": "stdout",
     "output_type": "stream",
     "text": [
      "(2, 2)\n",
      "diagonal mat\n",
      " [[5.29411765 0.        ]\n",
      " [0.         0.35294118]]\n"
     ]
    }
   ],
   "source": [
    "I = np.eye(len(eig_values))\n",
    "print(I.shape)\n",
    "\n",
    "_dig_eig_values = I * eig_values\n",
    "print(f\"diagonal mat\\n {_dig_eig_values}\")"
   ]
  },
  {
   "cell_type": "code",
   "execution_count": 9,
   "metadata": {},
   "outputs": [],
   "source": [
    "def get_eigen(Cov_x):\n",
    "    \"\"\"\n",
    "    Args (1):\n",
    "        Cov_x : array[D, D]\n",
    "            Covariance matrix of the standardized given data matrix X\n",
    "    \n",
    "    Returns (2):\n",
    "        g : array[D, D]\n",
    "            eigen_vectors matrix\n",
    "        \n",
    "        l : array[D, D]\n",
    "            eigen_values diagonal matrix\n",
    "    \"\"\"\n",
    "\n",
    "    D = Cov_x.shape[0]\n",
    "\n",
    "    l, g = np.linalg.eig(Cov_x)\n",
    "    I = np.eye(D)\n",
    "    l = I * l[None, :]\n",
    "\n",
    "    return g, l\n"
   ]
  },
  {
   "attachments": {},
   "cell_type": "markdown",
   "metadata": {},
   "source": [
    "5. Plot the original data $\\mathbf{X}$ and the eigenvectors to a single diagram\n",
    "   - To obtain optimal diagonal transformation system onto M-dim space\n",
    "   - We need to prune the eigenvectors' matrix leaving out only corresponding M the largest eigenvalues\n",
    "   - We could obtain the \n",
    "   - $\\mathbf{\\Gamma_{prune}}$: some columns are zero"
   ]
  },
  {
   "cell_type": "code",
   "execution_count": 10,
   "metadata": {},
   "outputs": [
    {
     "data": {
      "text/plain": [
       "(-3.3, 3.3, -3.3, 3.3)"
      ]
     },
     "execution_count": 10,
     "metadata": {},
     "output_type": "execute_result"
    },
    {
     "data": {
      "image/png": "[encoded data removed]",
      "text/plain": [
       "<Figure size 640x480 with 1 Axes>"
      ]
     },
     "metadata": {},
     "output_type": "display_data"
    }
   ],
   "source": [
    "# plot given data\n",
    "plt.scatter(X[:, 0], X[:, 1])\n",
    "plt.axis('equal')"
   ]
  },
  {
   "cell_type": "code",
   "execution_count": 11,
   "metadata": {},
   "outputs": [
    {
     "data": {
      "text/plain": [
       "[<matplotlib.lines.Line2D at 0x7fed36af01c0>]"
      ]
     },
     "execution_count": 11,
     "metadata": {},
     "output_type": "execute_result"
    },
    {
     "data": {
      "image/png": "[encoded data removed]",
      "text/plain": [
       "<Figure size 640x480 with 1 Axes>"
      ]
     },
     "metadata": {},
     "output_type": "display_data"
    }
   ],
   "source": [
    "# plot the mean of the data\n",
    "mean = X.mean(0)\n",
    "plt.plot(mean[0], mean[1], 'o', markersize=10, color='red', alpha=0.25)"
   ]
  },
  {
   "cell_type": "code",
   "execution_count": 12,
   "metadata": {},
   "outputs": [
    {
     "data": {
      "image/png": "[encoded data removed]",
      "text/plain": [
       "<Figure size 640x480 with 1 Axes>"
      ]
     },
     "metadata": {},
     "output_type": "display_data"
    }
   ],
   "source": [
    "# plot summery\n",
    "\n",
    "plt.scatter(X[:, 0], X[:, 1])\n",
    "plt.axis('equal')\n",
    "\n",
    "mean = X.mean(0)\n",
    "plt.plot(mean[0], mean[1], 'o', markersize=10, color='red', alpha=0.5)\n",
    "\n",
    "Sigma = get_covariance(X)\n",
    "g, l = get_eigen(Sigma)\n",
    "\n",
    "max_dim = np.argmax(l)\n",
    "\n",
    "for i in range(l.shape[0]):\n",
    "    variance = l[i][i]\n",
    "    value = str(np.round(variance, 2))\n",
    "    if i == max_dim:\n",
    "        plt.arrow(mean[0], mean[1], g[0][i], g[1][i], width=0.05, color='red', alpha=0.5)\n",
    "        plt.annotate(f'PC\\n{value}' , [g[0][i], g[1][i]])\n",
    "    else:\n",
    "        plt.arrow(mean[0], mean[1], g[0][i], g[1][i], width=0.05, color='blue', alpha=0.5)\n",
    "        plt.annotate(f'{value}', [g[0][i], g[1][i]])\n"
   ]
  },
  {
   "attachments": {},
   "cell_type": "markdown",
   "metadata": {},
   "source": [
    "## Singular Value Decomposition (SVD)\n",
    "\n",
    "$$\n",
    "\\mathbf{M} = \\mathbf{U} \\cdot \\mathbf{\\Sigma} \\cdot \\mathbf{V}\n",
    "$$\n",
    "\n",
    "- $\\mathbf{U}$: array[N, D]\n",
    "    - Left Singular Matrix\n",
    "- $\\mathbf{\\Sigma}$: array [D, D]\n",
    "    - Singular Matrix\n",
    "- $\\mathbf{V}$: array[D, D]\n",
    "    - Right Singular Matrix"
   ]
  },
  {
   "attachments": {},
   "cell_type": "markdown",
   "metadata": {},
   "source": [
    "## PCA and SVD\n",
    "- Relationship\n",
    "$$\\lambda_i = \\frac{s_i^2}{N}$$"
   ]
  },
  {
   "cell_type": "code",
   "execution_count": 13,
   "metadata": {},
   "outputs": [
    {
     "name": "stdout",
     "output_type": "stream",
     "text": [
      "shape: (3, 2)\n",
      "sample: 17\n",
      "features: 2\n",
      "    [1 2]\n",
      "    [6 3]\n",
      "    [0 2]\n"
     ]
    }
   ],
   "source": [
    "# Given data\n",
    "M = np.array([[1, 2], [6, 3], [0, 2]])\n",
    "\n",
    "N, D = X.shape[0], X.shape[1]\n",
    "\n",
    "print(f\"shape: {M.shape}\")\n",
    "print(f\"sample: {N}\")\n",
    "print(f\"features: {D}\")\n",
    "\n",
    "for _, m in enumerate(M):\n",
    "    print(f'    {m}')"
   ]
  },
  {
   "attachments": {},
   "cell_type": "markdown",
   "metadata": {},
   "source": [
    "Using numpy linalg library\n",
    "- np.linalg.svd"
   ]
  },
  {
   "cell_type": "code",
   "execution_count": 14,
   "metadata": {},
   "outputs": [
    {
     "name": "stdout",
     "output_type": "stream",
     "text": [
      "(17, 17)\n",
      "(2,)\n",
      "<class 'numpy.ndarray'>\n",
      "[9.48683298 2.44948974]\n",
      "(2, 2)\n",
      "[[ 0.70710678  0.70710678]\n",
      " [ 0.70710678 -0.70710678]]\n"
     ]
    }
   ],
   "source": [
    "u, s, v = np.linalg.svd(X)\n",
    "print(u.shape)\n",
    "print(s.shape)\n",
    "print(type(s))\n",
    "print(s)\n",
    "print(v.shape)\n",
    "print(v)"
   ]
  },
  {
   "cell_type": "code",
   "execution_count": 15,
   "metadata": {},
   "outputs": [
    {
     "name": "stdout",
     "output_type": "stream",
     "text": [
      "[0. 0.]\n",
      "0\n"
     ]
    },
    {
     "data": {
      "image/png": "[encoded data removed]",
      "text/plain": [
       "<Figure size 640x480 with 1 Axes>"
      ]
     },
     "metadata": {},
     "output_type": "display_data"
    }
   ],
   "source": [
    "plt.scatter(X[:, 0], X[:, 1])\n",
    "plt.axis('equal')\n",
    "\n",
    "mean = X.mean(0)\n",
    "print(mean)\n",
    "plt.plot(mean[0], mean[1], 'o', markersize = 10, color='red', alpha=0.5)\n",
    "\n",
    "max_dim = np.argmax(s)\n",
    "print(max_dim)\n",
    "\n",
    "for i in range(len(s)):\n",
    "    variance = s[i]**2 / (N)\n",
    "    value = str(np.round(variance, 2))\n",
    "    if i == max_dim:\n",
    "        plt.arrow(mean[0], mean[1], v[i][0], v[i][1], width=0.05, color='red', alpha=0.5)\n",
    "        plt.annotate(f'PC\\n{value}' , [v[i][0], v[i][1]])\n",
    "    else:\n",
    "        plt.arrow(mean[0], mean[1], v[i][0], v[i][1], width=0.05, color='blue', alpha=0.5)\n",
    "        plt.annotate(f'{value}', [v[i][0], v[i][1]])\n"
   ]
  },
  {
   "attachments": {},
   "cell_type": "markdown",
   "metadata": {},
   "source": [
    "# Dimensionality reduction 2\n",
    "## Matrix Factorization\n",
    "    Non-linear dimensionality reduction"
   ]
  },
  {
   "cell_type": "code",
   "execution_count": 16,
   "metadata": {},
   "outputs": [],
   "source": [
    "import time\n",
    "import scipy.sparse as sp\n",
    "import numpy as np\n",
    "from scipy.sparse.linalg import svds\n",
    "from sklearn.linear_model import Ridge\n",
    "\n",
    "import matplotlib.pyplot as plt\n",
    "%matplotlib inline"
   ]
  },
  {
   "attachments": {},
   "cell_type": "markdown",
   "metadata": {},
   "source": [
    "# Recommendation system\n",
    "- Restaurant recommendation system\n",
    "- Primary optimization problem\n",
    "  - [Goal] minimize the reconstruction error\n",
    "    - Matrix $\\mathbf{R}$ completion task\n",
    "  - Predict the ratings a user will give to a restaurant they have not yet rated based on a latent factor model\n",
    "  - We are going to factorize the rating matrix by $\\mathbf{Q}$ and $\\mathbf{P}$ given $\\mathbf{R}$\n",
    "  - Given $\\mathbf{R}$\n",
    "    - $\\mathbf{r_{ui}}$ : ratings to item i by user u\n",
    "- Args\n",
    "  - $\\mathbf{R}$: array[N, D]\n",
    "    - rating matrix, sparse\n",
    "  - S={(u, i)|$r_{ui}$ != None} \n",
    "- Returns (optimum solution)\n",
    "  - $\\mathbf{Q}$: array[N, K]\n",
    "    - $\\mathbf{q}_u$ : Latent factor for user $u$\n",
    "  - $\\mathbf{P}$: array[K, D]\n",
    "    - $\\mathbf{p}_i$ : Latent factor for item $i$\n",
    "\n",
    "- Objective function (minimization of reconstruction error)\n",
    "  - including the regularization term\n",
    "    - If R is too sparse to reconstruct, \n",
    "      - Regularization term becomes __Dominant__\n",
    "        - push latent factors to the undetermined area (minimize the length)\n",
    "    - Else,\n",
    "      - Sum of Squared loss becomes __Dominant__\n",
    "\n",
    "$$\n",
    "\\mathcal{L} = \\min{P, Q}_{\\sum{(u, i) \\in S}} (R_{ui} - \\mathbf{q}_u\\mathbf{p}_i^T)^2 + \\lambda [\\sum_i{\\left\\lVert \\mathbf{p}_i \\right\\rVert}^2 + \\sum_u{\\left\\lVert \\mathbf{q}_u \\right\\rVert}^2]\n",
    "$$ \n"
   ]
  },
  {
   "attachments": {},
   "cell_type": "markdown",
   "metadata": {},
   "source": [
    "## How to solve this minimization problem\n",
    "- Problem to solve\n",
    "  - We need to optimize __TWO VARIABLES__ {P and Q} at the same time\n",
    "$$\n",
    "\\mathcal{L} = \\min{P, Q}_{\\sum{(u, i) \\in S}} (R_{ui} - \\mathbf{q}_u\\mathbf{p}_i^T)^2 + \\lambda [\\sum_i{\\left\\lVert \\mathbf{p}_i \\right\\rVert}^2 + \\sum_u{\\left\\lVert \\mathbf{q}_u \\right\\rVert}^2]\n",
    "$$ \n",
    "\n",
    "### Methods\n",
    "1. Alternating optimization\n",
    "   - We assume that one of the free parameters is given\n",
    "   - Optimize the two parameters in turns\n",
    "2. Stochastic gradient descent (SGD)\n",
    "   - Sample $\\mathbf{r}_{ui}$ (mini-batch)\n",
    "   - Optimize the parameters by approximating the loss of all data samples with sampled dataset."
   ]
  },
  {
   "attachments": {},
   "cell_type": "markdown",
   "metadata": {},
   "source": [
    "## Load and Pre-process the Data"
   ]
  },
  {
   "cell_type": "code",
   "execution_count": 17,
   "metadata": {},
   "outputs": [],
   "source": [
    "ratings = np.load(\"yelp-dataset.npy\")\n",
    "\n",
    "## given data interior\n",
    "## [user_id, restaurant, ratings]\n",
    "#   [[101968   1880      1]\n",
    "#   [101968    284      5]\n",
    "#   [101968   1378      2]\n",
    "#   ...\n",
    "#   [ 72452   2100      4]\n",
    "#   [ 72452   2050      5]\n",
    "#   [ 74861   3979      5]]"
   ]
  },
  {
   "cell_type": "code",
   "execution_count": 18,
   "metadata": {},
   "outputs": [
    {
     "name": "stdout",
     "output_type": "stream",
     "text": [
      "#users: 337867\n",
      "#items (restaurants): 5899\n",
      "data type: <class 'numpy.ndarray'>\n"
     ]
    }
   ],
   "source": [
    "# shape of the rating matrix\n",
    "# Given matrix is containing the ratings by each user\n",
    "\n",
    "n_users, n_rests = np.max(ratings[:,0]), np.max(ratings[:, 1])\n",
    "print(f'#users: {n_users + 1}')\n",
    "print(f'#items (restaurants): {n_rests + 1}')\n",
    "print(f'data type: {type(ratings)}')"
   ]
  },
  {
   "cell_type": "code",
   "execution_count": 19,
   "metadata": {},
   "outputs": [],
   "source": [
    "# We need to store this matrix as a sparse matrix to avoid out-of-memory issues\n",
    "R = sp.coo_matrix((ratings[:, 2], (ratings[:, 0], ratings[:, 1])), shape = (n_users+1, n_rests+1)).tocsr()\n",
    "# R interior\n",
    "#  (User_id, restaurant), rating\n",
    "#     (0, 2050)\t        5\n",
    "#     (1, 36)\t        1\n",
    "#     (1, 580)\t        5\n",
    "#     (1, 628)\t        5\n",
    "#     (1, 703)\t        1\n",
    "#     (1, 774)\t        5\n",
    "#     (1, 1303)\t        4\n",
    "#     (1, 2345)\t        4\n",
    "#     (1, 2809)\t        5\n",
    "#     (1, 3870)\t        4\n",
    "#     (1, 4193)\t        5\n",
    "#     (1, 5256)\t        5\n",
    "#     (1, 5344)\t        4\n",
    "#     (1, 5703)\t        4\n",
    "#     (1, 5890)\t        5\n",
    "#     (2, 3694)\t        5"
   ]
  },
  {
   "attachments": {},
   "cell_type": "markdown",
   "metadata": {},
   "source": [
    "## Solution for the cold start problem\n",
    "- Cold start problem\n",
    "  - When a new user is coming into the recommendation system, we can not predict about his/her future rating because there is no history\n",
    "- In preprocessing step\n",
    "  - We recursively remove all users and restaurants with 10 or less ratings\n",
    "  - Then, we randomly select 200 data points for the validation and tests sets, respectively\n",
    "  - After this, we subtract the mean rating for each user to account for this global effects (standardize)\n",
    "\n",
    "\n",
    "__NOTE__:\n",
    "  Zero in R is the rating with 0 not the 'unknown' zeros in the matrix. We store the indices for which we are rating data available in a separate variable"
   ]
  },
  {
   "cell_type": "code",
   "execution_count": 20,
   "metadata": {},
   "outputs": [],
   "source": [
    "def cold_start_preprocessing(matrix, min_entries):\n",
    "    \"\"\"\n",
    "    Recursively removes rows and columns from the input matrix\n",
    "    which have less ratings than min_entries\n",
    "\n",
    "    Args:\n",
    "        matrix: array[n_users, n_items]\n",
    "            rating data matrix R\n",
    "        min_entries: int\n",
    "            minimum entries to be arrowed to exist in the matrix\n",
    "    \n",
    "    Returns:\n",
    "        matrix: sp.spmatrix, shape[N', D']\n",
    "        The pre-processed matrix -> where N' <= N, D' <= D\n",
    "    \"\"\"\n",
    "    print(\"shape before: {}\".format(matrix.shape))\n",
    "    print(\"----------- V -----------\")\n",
    "\n",
    "    shape = (-1, -1)\n",
    "    while matrix.shape != shape:\n",
    "        shape = matrix.shape\n",
    "        # Make stencil buffer (mask) masking more than 0 entries\n",
    "        nnz = matrix > 0\n",
    "        # Make stencil buffer masking the row which has less than minimum entries\n",
    "        # .A1 returns flatten matrix\n",
    "        row_ixs = nnz.sum(1).A1 > min_entries\n",
    "        # Only leave out the rows having more than minimum entries\n",
    "        matrix = matrix[row_ixs]\n",
    "\n",
    "        # Make stencil buffer masking more than 0 entries\n",
    "        nnz = matrix > 0\n",
    "        # Make stencil buffer masking the column which has less than minimum entries\n",
    "        # .A1 returns flatten matrix\n",
    "        col_ixs = nnz.sum(0).A1 > min_entries\n",
    "        # Only leave out the columns having more than minimum entries\n",
    "        matrix = matrix[:, col_ixs]\n",
    "    print(\"shape after: {}\".format(matrix.shape))\n",
    "    nnz = matrix > 0\n",
    "\n",
    "    assert (nnz.sum(0).A1 > min_entries).all()\n",
    "    assert (nnz.sum(1).A1 > min_entries).all()\n",
    "\n",
    "    return matrix\n"
   ]
  },
  {
   "cell_type": "code",
   "execution_count": 21,
   "metadata": {},
   "outputs": [
    {
     "name": "stdout",
     "output_type": "stream",
     "text": [
      "shape before: (337867, 5899)\n",
      "----------- V -----------\n",
      "shape after: (11275, 3531)\n"
     ]
    },
    {
     "data": {
      "text/plain": [
       "<11275x3531 sparse matrix of type '<class 'numpy.int64'>'\n",
       "\twith 285343 stored elements in Compressed Sparse Row format>"
      ]
     },
     "execution_count": 21,
     "metadata": {},
     "output_type": "execute_result"
    }
   ],
   "source": [
    "cold_start_preprocessing(R, 10)"
   ]
  },
  {
   "attachments": {},
   "cell_type": "markdown",
   "metadata": {},
   "source": [
    "## Subtraction the mean user rating from the sparse rating matrix"
   ]
  },
  {
   "cell_type": "code",
   "execution_count": 22,
   "metadata": {},
   "outputs": [
    {
     "name": "stdout",
     "output_type": "stream",
     "text": [
      "shape before: (337867, 5899)\n",
      "----------- V -----------\n",
      "shape after: (11275, 3531)\n"
     ]
    }
   ],
   "source": [
    "dev_mat = cold_start_preprocessing(R, 10)"
   ]
  },
  {
   "cell_type": "code",
   "execution_count": 23,
   "metadata": {},
   "outputs": [
    {
     "name": "stdout",
     "output_type": "stream",
     "text": [
      "11275, 3531\n"
     ]
    }
   ],
   "source": [
    "n_users, n_rests = dev_mat.shape\n",
    "print(f'{n_users}, {n_rests}')"
   ]
  },
  {
   "cell_type": "code",
   "execution_count": 24,
   "metadata": {},
   "outputs": [
    {
     "name": "stdout",
     "output_type": "stream",
     "text": [
      "num_nnz: 13\n",
      "sum_ratings: 52\n",
      "mean ratings over a user\n",
      "[4.         4.4        3.72727273 ... 3.5        4.11764706 2.1       ]\n",
      "shape: (11275,)\n",
      "\n",
      "mean ratings over an item\n",
      "[[0.01800443 0.00381375 0.04399113 ... 0.00629712 0.00700665 0.01649667]]\n",
      "shape: (1, 3531)\n",
      "\n"
     ]
    }
   ],
   "source": [
    "# mean ratings over a user\n",
    "row = dev_mat.getrow(0)\n",
    "sum_ratings = row.sum()\n",
    "num_nnz = row.count_nonzero()\n",
    "\n",
    "print(f'num_nnz: {num_nnz}')\n",
    "print(f'sum_ratings: {sum_ratings}')\n",
    "\n",
    "\n",
    "mean_over_u = np.zeros(n_users)\n",
    "\n",
    "for u in range(n_users):\n",
    "    row = dev_mat.getrow(u)\n",
    "    sum_ratings = row.sum()\n",
    "    num_nnz = row.count_nonzero()\n",
    "    mean_user = sum_ratings/num_nnz\n",
    "    mean_over_u[u] = mean_user\n",
    "\n",
    "print('mean ratings over a user')\n",
    "print(mean_over_u)\n",
    "print(f'shape: {mean_over_u.shape}\\n')\n",
    "\n",
    "\n",
    "# mean ratings over an item\\\n",
    "print('mean ratings over an item')\n",
    "mean_over_i = dev_mat.mean(0)\n",
    "print(mean_over_i)\n",
    "print(f'shape: {mean_over_i.shape}\\n')"
   ]
  },
  {
   "cell_type": "code",
   "execution_count": 25,
   "metadata": {},
   "outputs": [
    {
     "name": "stdout",
     "output_type": "stream",
     "text": [
      "(11275,)\n"
     ]
    }
   ],
   "source": [
    "# flatten the mean ratings over a user\n",
    "f_mou = mean_over_u.flatten()\n",
    "print(f_mou.shape)"
   ]
  },
  {
   "cell_type": "code",
   "execution_count": 26,
   "metadata": {},
   "outputs": [
    {
     "name": "stdout",
     "output_type": "stream",
     "text": [
      "[[-3.98527329]\n",
      " [-4.38130841]\n",
      " [-3.71566129]\n",
      " ...\n",
      " [-3.48810535]\n",
      " [-4.09782265]\n",
      " [-2.07621071]]\n"
     ]
    }
   ],
   "source": [
    "# Standardization\n",
    "std_mat = dev_mat - f_mou[:, None]\n",
    "# mean ratings over a user should be close to zero\n",
    "eps = 1e-10\n",
    "print(std_mat.mean(1))\n",
    "assert (std_mat.mean(1).A1 < eps).all()"
   ]
  },
  {
   "cell_type": "code",
   "execution_count": 27,
   "metadata": {},
   "outputs": [
    {
     "data": {
      "text/plain": [
       "scipy.sparse._csr.csr_matrix"
      ]
     },
     "execution_count": 27,
     "metadata": {},
     "output_type": "execute_result"
    }
   ],
   "source": [
    "type(dev_mat)"
   ]
  },
  {
   "attachments": {},
   "cell_type": "markdown",
   "metadata": {},
   "source": [
    "## function 1: Centralization\n",
    "    for subtraction the man rating per user from the non-zero elements in the input matrix"
   ]
  },
  {
   "cell_type": "code",
   "execution_count": 28,
   "metadata": {},
   "outputs": [],
   "source": [
    "def centralization(matrix):\n",
    "    \"\"\"\n",
    "    Subtract the mean rating per user from the non-zero elements\n",
    "\n",
    "    Args:\n",
    "    matrix: sp.spmatrix, shape [N, D]\n",
    "            Input sparse matrix\n",
    "\n",
    "    Retuns:\n",
    "    matrix: sp.spmatrix, shape[N, D]\n",
    "            centralized input matrix at 0 (the mean-shifted ones)\n",
    "    user_means: np.array, shape[N, 1]\n",
    "                The mean rating per user that can be used to recover the absolute ratings from the mean-shifted ones.\n",
    "    \"\"\"\n",
    "    n_users, n_items = matrix.shape\n",
    "    print(n_users)\n",
    "    print(n_items)\n",
    "\n",
    "    # Create mask of non_zero entries\n",
    "    nnz_mask = matrix > 0\n",
    "\n",
    "    # Take mean per user\n",
    "    # uer_means: matrix [n_users, 1]\n",
    "    user_means = matrix.sum(1) / nnz_mask.sum(1)\n",
    "    print(type(user_means))\n",
    "    print()\n",
    "    print(user_means.shape)\n",
    "\n",
    "    # cerate a compressed sparse row matrix(csr_matrix, same type with input matrix\n",
    "    #  \n",
    "    subtract_mask = sp.csr_matrix(user_means).multiply(nnz_mask)\n",
    "\n",
    "    cent_mat = matrix - subtract_mask\n",
    "\n",
    "#     assert np.all(np.isclose(matrix.mean(1), 0))\n",
    "    return cent_mat, user_means"
   ]
  },
  {
   "cell_type": "code",
   "execution_count": 29,
   "metadata": {},
   "outputs": [
    {
     "name": "stdout",
     "output_type": "stream",
     "text": [
      "11275\n",
      "3531\n",
      "<class 'numpy.matrix'>\n",
      "\n",
      "(11275, 1)\n"
     ]
    }
   ],
   "source": [
    "cent_mat, user_means = centralization(dev_mat)"
   ]
  },
  {
   "attachments": {},
   "cell_type": "markdown",
   "metadata": {},
   "source": [
    "## Split the data into a train, validation and test set"
   ]
  },
  {
   "cell_type": "code",
   "execution_count": 30,
   "metadata": {},
   "outputs": [
    {
     "name": "stdout",
     "output_type": "stream",
     "text": [
      "(array([ 9813,   819,  7109,  1342,  1912,  6580,  4207,  9765, 10625,\n",
      "        5032,  8653,  1413,  6345,  1642,  4863, 10822,  1720,  1359,\n",
      "        2856,  8381, 10236,  5407,  7803,  7577,  4004, 11153,  9981,\n",
      "        2777, 10751,  9129,  4295,  8102,  2304,  3637,  1095,  1371,\n",
      "        2790,  1744,  7593,  2960, 10879,  4088,  1661,  6916, 11228,\n",
      "        5439,  1322,  8028,    15, 10508,  6525,  6792,  2986,  8832,\n",
      "        3963,  4072,   347, 10229,  7882,  2876,  4376,  8473,  6214,\n",
      "        4886,  4622,  8562,  5735,  3424,  3864,  8399,  8926,  7703,\n",
      "        3625,  5425,  8861,  9384,  7171,  5104,  1944,  3271,   493,\n",
      "       10042,  5321,  9024,   975,  5694,  6363,  2121,  4929, 10648,\n",
      "        8765,  2576,  2357,  9860,  5303,  6188,  5069,  9153,  9572,\n",
      "        9224], dtype=int32), array([ 224, 2136, 1569,  699, 1309,  865,  679,    2, 1005,  503, 1985,\n",
      "        326, 1390,  449, 2029,  561, 2063, 1903, 2694,  538,  866, 2763,\n",
      "       2955, 1059,  531, 3464, 2011, 2128, 1815,  690, 2892, 2096, 1034,\n",
      "       1214,  799,  775, 1516, 1545, 1467, 1079, 2079, 2133, 2242,  307,\n",
      "         91, 3184, 1564, 1497, 1699,  577, 1140, 2788, 1651, 1097, 2004,\n",
      "       3387,  810, 2537, 1245, 1534,  288, 1245, 2170, 2862,  423,  423,\n",
      "        845, 3046, 3168,  162,  821, 3218, 1232, 3069, 2128, 1023, 1006,\n",
      "       2205, 2457, 1155, 3295, 1097,  286, 3163, 1892,  224, 1653,  893,\n",
      "       2001, 3133,  682, 3137,  818, 2135, 2534, 2511,  684, 3304, 2960,\n",
      "       2388], dtype=int32))\n",
      "(array([ 1322,  3117,  2883,  5853,  2828,  5643,  9974,  9719,  3260,\n",
      "        1542,    45,  3910,  1048,  1152,  1995,   603, 10321,  7709,\n",
      "        9111,  4689,  7124,  9101,  1456,  3782,  2983,  9180,  4411,\n",
      "        5629, 10223,  2527,  8381,  3664,  5044,  8188,   658,  1998,\n",
      "        5479,  9726,  7533,  6242,  4282,  2890,  2634,  5210,  2488,\n",
      "        7797,  9527,  6547,  7900,  6206,  1669,  9039,  9707,  8929,\n",
      "        1848,  5865,  3087,  1620,  3146,  1700,  9666,   380,  2127,\n",
      "       10133,  5434,  1902,  9797,  1488,  7394,  5927,   946,  6682,\n",
      "       10383,  6361,  2990,  9838,  8986,  2790,  8641,  3393,  7168,\n",
      "       10566,  3636,  5270,  1992,  3071,   160,   277, 10838,   849,\n",
      "        2957, 11027,  9464,  2580,  9237, 11206,  8968,  6510,  6032,\n",
      "        1071], dtype=int32), array([1498, 1833, 2508, 3425, 2649, 1144,  117, 1519, 2987, 1655, 3340,\n",
      "        248, 1817, 2347, 3440, 1495, 1743,  294,  440, 1044,  914, 1288,\n",
      "       2882, 2944, 3200, 2250,  159,  748, 1768, 1011, 1259, 2056, 2288,\n",
      "        627, 2571, 2704, 2639, 1802,  892,  699,   80, 2044, 3095, 3224,\n",
      "       1401, 2799, 2913, 1505,  957, 2739, 2945, 3507, 3457, 1721, 3320,\n",
      "       2096, 2846, 1815, 3032, 1068, 2378,  424, 1340,  491,  632, 1320,\n",
      "        485, 2987, 1421, 1833, 3286, 1553, 3027, 2010,  932, 1719, 2087,\n",
      "       3510, 1538, 1532, 3407, 1255,  756,  609, 1582, 1825,  771, 1743,\n",
      "       1721, 1332, 1967,   47, 2306,  161, 1721, 1041,   56, 1528, 1202,\n",
      "       3029], dtype=int32))\n",
      "(11275, 3531)\n"
     ]
    }
   ],
   "source": [
    "# create train, valid, and test dataset\n",
    "# create dataloader\n",
    "\n",
    "# Here we are using sparse matrix, then we need to sample train, valid, and test data samples randomly.\n",
    "\n",
    "# Configuration\n",
    "# The number of the valid and test samples\n",
    "\n",
    "n_validation = 100\n",
    "n_test = 100\n",
    "\n",
    "# copy centralized matrix\n",
    "matrix_cp = cent_mat.copy()\n",
    "# obtain the index lists which are containing non-zero variable\n",
    "non_zero_idx = np.argwhere(matrix_cp)\n",
    "\n",
    "# sample indices randomly (user u, item i)\n",
    "ixs = np.random.permutation(non_zero_idx)\n",
    "\n",
    "# obtain u-index list and i-index list as tuple (u, i)\n",
    "val_idx = tuple(ixs[:n_validation].T)\n",
    "test_idx = tuple(ixs[n_validation:n_validation + n_test].T)\n",
    "\n",
    "print(val_idx)\n",
    "print(test_idx)\n",
    "\n",
    "# obtain the array (flatten) \n",
    "val_values = matrix_cp[val_idx].A1\n",
    "test_values = matrix_cp[test_idx].A1\n",
    "\n",
    "# Eliminate valid and test samples and obtain train data.\n",
    "matrix_cp[val_idx] = matrix_cp[test_idx] = 0\n",
    "print(matrix_cp.shape)\n",
    "matrix_cp.eliminate_zeros()\n"
   ]
  },
  {
   "cell_type": "code",
   "execution_count": 31,
   "metadata": {},
   "outputs": [
    {
     "name": "stdout",
     "output_type": "stream",
     "text": [
      "train sample\n",
      "  (0, 3526)\t1.0\n",
      "  (0, 3120)\t1.0\n",
      "  (0, 2508)\t1.0\n",
      "  (0, 1694)\t1.0\n",
      "  (0, 461)\t1.0\n",
      "  (0, 416)\t-3.0\n",
      "  (0, 368)\t1.0\n",
      "  (0, 22)\t-3.0\n",
      "valid sample\n",
      "(9813, 224):-1.0\n",
      "test sample\n",
      "(1322, 1498):0.4545454545454546\n"
     ]
    }
   ],
   "source": [
    "for t, train in enumerate(matrix_cp):\n",
    "    if t > 0:\n",
    "        break\n",
    "    print('train sample')\n",
    "    print(train)\n",
    "    print('valid sample')\n",
    "    print(f'({val_idx[0][t]}, {val_idx[1][t]}):{val_values[t]}')\n",
    "    print('test sample')\n",
    "    print(f'({test_idx[0][t]}, {test_idx[1][t]}):{test_values[t]}')"
   ]
  },
  {
   "attachments": {},
   "cell_type": "markdown",
   "metadata": {},
   "source": [
    "### Function 2: split the centralized data into train, valid, and test"
   ]
  },
  {
   "cell_type": "code",
   "execution_count": 32,
   "metadata": {},
   "outputs": [],
   "source": [
    "def split_data(matrix, n_val, n_test):\n",
    "    \"\"\"\n",
    "    Extract validation and test entries from the input matrix\n",
    "\n",
    "    Args:\n",
    "        matrix: sp.spmatrix, shape [N, D]\n",
    "                The input data matrix\n",
    "        n_val:  int\n",
    "                The number of validation entries to extract\n",
    "        n_test: int\n",
    "                The number fo test entries to extract\n",
    "        \n",
    "    Returns:\n",
    "        matrix_split:   sp.spmatrix, shape [N, D]\n",
    "                        a copy of the input matrix in which the validation and \n",
    "\n",
    "        val_idx:        tuple, shape [2, n_val]\n",
    "                        The indices of the validation entries\n",
    "\n",
    "        test_idx:       tuple, shape [2, n_test]\n",
    "                        The indices of the test entries\n",
    "\n",
    "        val_values:     np.array, shape [n_val]\n",
    "                        The values of the input matrix at the validation indices\n",
    "\n",
    "        test_values:    np.array, shape [n_train]\n",
    "                        The values of the input matrix at the test indices\n",
    "    \"\"\"\n",
    "\n",
    "    # copy the input matrix\n",
    "    matrix_cp = matrix.copy()\n",
    "\n",
    "    # obtain indices pair (User u, Item i)\n",
    "    non_zero_idx = np.argwhere(matrix_cp)\n",
    "\n",
    "    # random permutation of the list of indices pair\n",
    "    ixs = np.random.permutation(non_zero_idx)\n",
    "\n",
    "    # obtain a tuple [n_val, 2] for u and i, respectively\n",
    "    val_idx =tuple(ixs[:n_val].T)\n",
    "    test_idx = tuple(ixs[n_val:n_val + n_test].T)\n",
    "\n",
    "    # obtain the ratings for the validation data\n",
    "    val_values = matrix_cp[val_idx].A1\n",
    "\n",
    "    # obtain the ratings for the test data\n",
    "    test_values = matrix_cp[test_idx].A1\n",
    "\n",
    "    # Set zero to entries which are assigned as valid or test data\n",
    "    matrix_cp[val_idx] = matrix_cp[test_idx] = 0\n",
    "\n",
    "    # Eliminate zero entries\n",
    "    matrix_cp.eliminate_zeros()\n",
    "\n",
    "    return matrix_cp, val_idx, test_idx, val_values, test_values"
   ]
  },
  {
   "cell_type": "code",
   "execution_count": 33,
   "metadata": {},
   "outputs": [
    {
     "name": "stdout",
     "output_type": "stream",
     "text": [
      "shape before: (337867, 5899)\n",
      "----------- V -----------\n",
      "shape after: (3529, 2072)\n"
     ]
    }
   ],
   "source": [
    "dev_mat = cold_start_preprocessing(R, 20)"
   ]
  },
  {
   "cell_type": "code",
   "execution_count": 34,
   "metadata": {},
   "outputs": [],
   "source": [
    "n_val = 200\n",
    "n_test = 200\n",
    "# split data\n",
    "R_train, val_idx, test_idx, val_values, test_values = split_data(dev_mat, n_val, n_test)"
   ]
  },
  {
   "cell_type": "code",
   "execution_count": 35,
   "metadata": {},
   "outputs": [
    {
     "name": "stdout",
     "output_type": "stream",
     "text": [
      "3529\n",
      "2072\n",
      "<class 'numpy.matrix'>\n",
      "\n",
      "(3529, 1)\n"
     ]
    }
   ],
   "source": [
    "# Centralization\n",
    "non_zero_indices = np.argwhere(R_train)\n",
    "R_shifted, user_means = centralization(R_train)\n",
    "\n",
    "# Apply the same shift to the validation and test data\n",
    "val_values_shifted = val_values - np.ravel(user_means[np.array(val_idx).T[:, 0]])\n",
    "test_values_shifted = test_values - np.ravel(user_means[np.array(test_idx).T[:, 0]])"
   ]
  },
  {
   "cell_type": "code",
   "execution_count": 36,
   "metadata": {},
   "outputs": [],
   "source": [
    "def loss(values, ixs, Q, P, reg_lambda):\n",
    "    \"\"\"\n",
    "    Compute the loss of the latent factor model (at indices ixs)\n",
    "\n",
    "    Args:\n",
    "        values (list of R_ui): np.array, shape[n_ixs, ]\n",
    "                The array with the ground-truth values\n",
    "        ixs (list of ui itself):    tuple, shape[2, n_ixs]\n",
    "                The indices at which we want to evaluate the loss(usually the nonzero indices of the unshifted data matrix)\n",
    "        Q:  np.array, shape [N. k]\n",
    "            The matrix Q of a latent factor model\n",
    "        P:  np.array, shape [k, D]\n",
    "            The matrix P of a latent factor model\n",
    "        reg_lambda: float\n",
    "            The regulation strength\n",
    "    \n",
    "    Returns:\n",
    "        loss:   float\n",
    "                The loss of the latent factor model\n",
    "    \"\"\"\n",
    "\n",
    "    # mean of sum of squared error\n",
    "    sse_loss = np.sum((values - Q.dot(P)[ixs])**2)\n",
    "    # regularization term \n",
    "    regularization_loss = reg_lambda * (np.sum(np.linalg.norm(P, axis = 0)**2) + np.sum(np.linalg.norm(Q, axis = 0)**2))\n",
    "\n",
    "    return sse_loss + regularization_loss"
   ]
  },
  {
   "attachments": {},
   "cell_type": "markdown",
   "metadata": {},
   "source": [
    "## Initialization of the Q and P for optimization"
   ]
  },
  {
   "cell_type": "code",
   "execution_count": 37,
   "metadata": {},
   "outputs": [
    {
     "name": "stdout",
     "output_type": "stream",
     "text": [
      "(3529, 2072)\n",
      "<class 'numpy.ndarray'>\n",
      "(3529, 2072)\n",
      "<class 'numpy.ndarray'>\n",
      "(2072, 2072)\n"
     ]
    }
   ],
   "source": [
    "print(R_train.shape)\n",
    "N, D = R_train.shape\n",
    "k = D\n",
    "Q = np.random.rand(N, k)\n",
    "print(type(Q))\n",
    "print(Q.shape)\n",
    "P = np.random.rand(k, D)\n",
    "print(type(P))\n",
    "print(P.shape)"
   ]
  },
  {
   "cell_type": "code",
   "execution_count": 38,
   "metadata": {},
   "outputs": [
    {
     "name": "stdout",
     "output_type": "stream",
     "text": [
      "(3529, 2072)\n",
      "<class 'scipy.sparse._csr.csr_matrix'>\n",
      "  (0, 3)\t5.0\n",
      "  (0, 24)\t3.0\n",
      "  (0, 219)\t4.0\n",
      "  (0, 333)\t2.0\n",
      "  (0, 344)\t3.0\n",
      "  (0, 393)\t5.0\n",
      "  (0, 470)\t4.0\n",
      "  (0, 530)\t5.0\n",
      "  (0, 570)\t3.0\n",
      "  (0, 585)\t3.0\n",
      "  (0, 657)\t4.0\n",
      "  (0, 664)\t4.0\n",
      "  (0, 711)\t5.0\n",
      "  (0, 799)\t4.0\n",
      "  (0, 825)\t3.0\n",
      "  (0, 872)\t4.0\n",
      "  (0, 1069)\t4.0\n",
      "  (0, 1120)\t5.0\n",
      "  (0, 1188)\t5.0\n",
      "  (0, 1323)\t4.0\n",
      "  (0, 1627)\t2.0\n",
      "  (0, 1648)\t4.0\n",
      "  (0, 1768)\t4.0\n",
      "  (0, 1865)\t4.0\n",
      "  (0, 1946)\t2.0\n",
      "  :\t:\n",
      "  (3528, 735)\t2.0\n",
      "  (3528, 795)\t1.0\n",
      "  (3528, 818)\t1.0\n",
      "  (3528, 839)\t4.0\n",
      "  (3528, 899)\t4.0\n",
      "  (3528, 936)\t1.0\n",
      "  (3528, 1001)\t2.0\n",
      "  (3528, 1005)\t1.0\n",
      "  (3528, 1070)\t4.0\n",
      "  (3528, 1130)\t2.0\n",
      "  (3528, 1144)\t2.0\n",
      "  (3528, 1170)\t2.0\n",
      "  (3528, 1175)\t2.0\n",
      "  (3528, 1215)\t2.0\n",
      "  (3528, 1252)\t2.0\n",
      "  (3528, 1332)\t3.0\n",
      "  (3528, 1363)\t1.0\n",
      "  (3528, 1395)\t3.0\n",
      "  (3528, 1682)\t3.0\n",
      "  (3528, 1685)\t4.0\n",
      "  (3528, 1689)\t2.0\n",
      "  (3528, 1798)\t1.0\n",
      "  (3528, 1945)\t5.0\n",
      "  (3528, 1954)\t4.0\n",
      "  (3528, 1998)\t1.0\n",
      "2072\n"
     ]
    }
   ],
   "source": [
    "f_R_train = R_train.astype(float)\n",
    "print(f_R_train.shape)\n",
    "print(type(f_R_train))\n",
    "print(f_R_train)\n",
    "print(k)"
   ]
  },
  {
   "cell_type": "code",
   "execution_count": 39,
   "metadata": {},
   "outputs": [],
   "source": [
    "# When we use svds function from the scipy.sparse.linalg, we need to set k as following\n",
    "# `k` must be an integer satisfying `0 < k < min(A.shape)`.\n",
    "U, s, V = svds(f_R_train, k=100)\n",
    "S = np.diag(s)\n",
    "Q = U.dot(S)\n",
    "P = V"
   ]
  },
  {
   "cell_type": "code",
   "execution_count": 40,
   "metadata": {},
   "outputs": [
    {
     "name": "stdout",
     "output_type": "stream",
     "text": [
      "(3529, 100)\n",
      "(100,)\n",
      "(100, 2072)\n"
     ]
    }
   ],
   "source": [
    "print(U.shape)\n",
    "print(s.shape)\n",
    "print(V.shape)"
   ]
  },
  {
   "cell_type": "code",
   "execution_count": 41,
   "metadata": {},
   "outputs": [
    {
     "name": "stdout",
     "output_type": "stream",
     "text": [
      "(3529, 100)\n",
      "(100, 2072)\n"
     ]
    }
   ],
   "source": [
    "S = np.diag(s)\n",
    "Q = U.dot(S)\n",
    "print(Q.shape)\n",
    "P = V\n",
    "print(P.shape)"
   ]
  },
  {
   "cell_type": "code",
   "execution_count": 42,
   "metadata": {},
   "outputs": [
    {
     "data": {
      "text/plain": [
       "dtype('int64')"
      ]
     },
     "execution_count": 42,
     "metadata": {},
     "output_type": "execute_result"
    }
   ],
   "source": [
    "R_train.dtype"
   ]
  },
  {
   "attachments": {},
   "cell_type": "markdown",
   "metadata": {},
   "source": [
    "### Function that initialize the latent factors Q and P\n"
   ]
  },
  {
   "cell_type": "code",
   "execution_count": 43,
   "metadata": {},
   "outputs": [],
   "source": [
    "def initialize_Q_P(matrix, k, init = 'random'):\n",
    "    \"\"\"\n",
    "    Initialize the matrices Q and P for a latent factor model\n",
    "    Initialize them by using SVD or random\n",
    "\n",
    "    Args:\n",
    "        matrix: sp.spmatrix, shape [N, D]\n",
    "                The matrix to be factorized\n",
    "        k:      int\n",
    "                The number of latent dimension\n",
    "        init:   str in ['svd', 'random'], default:'random'\n",
    "                The initialization strategy. 'svd' means that we use SVD to initialize P and Q\n",
    "                'random' means we initialize the entries in P and Q randomly in the interval [0. 1)\n",
    "                -> numpy.random.rand(shape)\n",
    "    Returns:\n",
    "        Q:  np.print(U.shape)\n",
    "            The initialized matrix Q of a latent factor model\n",
    "        P:  np.array, shape[k, D]\n",
    "            The initialized matrix P of a latent factor model\n",
    "    \"\"\" \n",
    "\n",
    "    N, D = matrix.shape\n",
    "\n",
    "    np.random.seed(0)\n",
    "\n",
    "    if matrix.dtype != float:\n",
    "        matrix = matrix.astype(float)\n",
    "\n",
    "    if init=='random':\n",
    "        Q = np.random.random((N, k))\n",
    "        P = np.random.random((k, D))\n",
    "    elif init=='svd':\n",
    "        U, s, V = svds(matrix, k=k)\n",
    "        S = np.diag(s)\n",
    "        Q = U.dot(S)\n",
    "        P = V\n",
    "    else:\n",
    "        raise ValueError\n",
    "    \n",
    "    assert Q.shape == (N, k)\n",
    "    assert P.shape == (k, D)\n",
    "    return Q, P"
   ]
  },
  {
   "cell_type": "code",
   "execution_count": 44,
   "metadata": {},
   "outputs": [],
   "source": [
    "Q, P = initialize_Q_P(R_train, k = 100, init='svd')"
   ]
  },
  {
   "cell_type": "code",
   "execution_count": 45,
   "metadata": {},
   "outputs": [
    {
     "name": "stdout",
     "output_type": "stream",
     "text": [
      "(3529, 100)\n",
      "(100, 2072)\n"
     ]
    }
   ],
   "source": [
    "print(f'{Q.shape}')\n",
    "print(f'{P.shape}')"
   ]
  },
  {
   "attachments": {},
   "cell_type": "markdown",
   "metadata": {},
   "source": [
    "## Optimization\n",
    "- Alternating optimization\n",
    "    - We need to optimize Q and P simultaneously in the primary optimization problem\n",
    "    - But this is really difficult to implement\n",
    "    - We are going to pretend knowing either Q or P at a moment and optimize the other variable\n"
   ]
  },
  {
   "cell_type": "code",
   "execution_count": 46,
   "metadata": {},
   "outputs": [
    {
     "name": "stdout",
     "output_type": "stream",
     "text": [
      "[[1 0 1 0]\n",
      " [0 1 0 0]\n",
      " [0 0 0 0]\n",
      " [0 0 0 1]]\n",
      "  (0, 0)\t1\n",
      "  (0, 2)\t1\n",
      "  (1, 1)\t1\n",
      "  (3, 3)\t1\n",
      "=list=\n",
      "[list([0, 2]) list([1]) list([]) list([3])]\n",
      "---------------------------\n",
      "[[1 0 1 0]\n",
      " [0 1 0 0]\n",
      " [0 0 0 0]\n",
      " [0 0 0 1]]\n",
      "  (0, 0)\t1\n",
      "  (1, 1)\t1\n",
      "  (0, 2)\t1\n",
      "  (3, 3)\t1\n",
      "=list=\n",
      "[list([0, 2]) list([1]) list([]) list([3])]\n"
     ]
    }
   ],
   "source": [
    "row  = np.array([0, 0, 1, 3])\n",
    "col  = np.array([0, 2, 1, 3])\n",
    "data = np.array([1, 1, 1, 1])\n",
    "\n",
    "A = sp.coo_matrix((data, (row, col)), shape=(4, 4)).tocsr()\n",
    "print(A.toarray())\n",
    "print(A)\n",
    "list_rows = A.tolil().rows\n",
    "print('=list=')\n",
    "print(list_rows)\n",
    "\n",
    "print('---------------------------')\n",
    "\n",
    "A = A.tocsc()\n",
    "print(A.toarray())\n",
    "print(A)\n",
    "list_colums = A.tolil().rows\n",
    "print('=list=')\n",
    "print(list_colums)\n",
    "\n"
   ]
  },
  {
   "attachments": {},
   "cell_type": "markdown",
   "metadata": {},
   "source": [
    "## Scipy sparse \n",
    "    csc vs csr\n",
    "- CSC: Compressed sparse column\n",
    "  - Sorted in the column indices \n",
    "- CSR: Compressed sparse row\n",
    "  - Sorted in the row indices \n",
    "They are used for write-once-read-many-tasks\n"
   ]
  },
  {
   "attachments": {},
   "cell_type": "markdown",
   "metadata": {},
   "source": [
    "# Original data matrix"
   ]
  },
  {
   "cell_type": "code",
   "execution_count": 47,
   "metadata": {},
   "outputs": [
    {
     "name": "stdout",
     "output_type": "stream",
     "text": [
      "  (0, 2050)\t5\n",
      "  (1, 36)\t1\n",
      "  (1, 580)\t5\n",
      "  (1, 628)\t5\n",
      "  (1, 703)\t1\n",
      "  (1, 774)\t5\n",
      "  (1, 1303)\t4\n",
      "  (1, 2345)\t4\n",
      "  (1, 2809)\t5\n",
      "  (1, 3870)\t4\n",
      "  (1, 4193)\t5\n",
      "  (1, 5256)\t5\n",
      "  (1, 5344)\t4\n",
      "  (1, 5703)\t4\n",
      "  (1, 5890)\t5\n",
      "  (2, 3694)\t5\n",
      "  (3, 774)\t1\n",
      "  (3, 1291)\t1\n",
      "  (3, 2221)\t4\n",
      "  (4, 2894)\t5\n",
      "  (5, 1446)\t4\n",
      "  (5, 1648)\t4\n",
      "  (5, 1777)\t3\n",
      "  (5, 2008)\t5\n",
      "  (5, 2067)\t4\n",
      "  :\t:\n",
      "  (337859, 3443)\t2\n",
      "  (337859, 3567)\t2\n",
      "  (337859, 3802)\t3\n",
      "  (337859, 3898)\t1\n",
      "  (337859, 3971)\t3\n",
      "  (337859, 4794)\t3\n",
      "  (337859, 4800)\t4\n",
      "  (337859, 4816)\t2\n",
      "  (337859, 5198)\t1\n",
      "  (337859, 5579)\t5\n",
      "  (337859, 5601)\t4\n",
      "  (337859, 5700)\t1\n",
      "  (337860, 4943)\t5\n",
      "  (337861, 5675)\t5\n",
      "  (337862, 493)\t3\n",
      "  (337862, 1281)\t5\n",
      "  (337862, 2814)\t4\n",
      "  (337863, 1026)\t4\n",
      "  (337863, 2127)\t5\n",
      "  (337863, 2416)\t4\n",
      "  (337864, 5165)\t2\n",
      "  (337865, 1238)\t5\n",
      "  (337866, 251)\t5\n",
      "  (337866, 2932)\t4\n",
      "  (337866, 3779)\t4\n",
      "<class 'scipy.sparse._csr.csr_matrix'>\n",
      "(337867, 5899)\n"
     ]
    }
   ],
   "source": [
    "\"\"\"\n",
    "R:   scipy.sparse._csr.csr_matrix, shape[337867, 5899]\n",
    "\"\"\"\n",
    "print(R)\n",
    "print(type(R))\n",
    "print(R.shape)"
   ]
  },
  {
   "attachments": {},
   "cell_type": "markdown",
   "metadata": {},
   "source": [
    "# Pre-processed matrix\n",
    "- Avoid cold start\n",
    "- Prune rows and columns which have less than min_entries "
   ]
  },
  {
   "cell_type": "code",
   "execution_count": 48,
   "metadata": {},
   "outputs": [
    {
     "name": "stdout",
     "output_type": "stream",
     "text": [
      "shape before: (337867, 5899)\n",
      "----------- V -----------\n",
      "shape after: (3529, 2072)\n",
      "<class 'scipy.sparse._csr.csr_matrix'>\n",
      "(3529, 2072)\n"
     ]
    }
   ],
   "source": [
    "\"\"\"\n",
    "R_prune:    scipy.sparse._csr.csr_matrix, shape [3529, 2072]\n",
    "\"\"\"\n",
    "min_entries = 20\n",
    "R_prune = cold_start_preprocessing(R, min_entries)\n",
    "print(type(R_prune))\n",
    "print(R_prune.shape)"
   ]
  },
  {
   "attachments": {},
   "cell_type": "markdown",
   "metadata": {},
   "source": [
    "# Centralized matrix\n",
    "- Shifted matrix by corresponding mean over ratings (i) by a user (u)"
   ]
  },
  {
   "cell_type": "code",
   "execution_count": 49,
   "metadata": {},
   "outputs": [
    {
     "name": "stdout",
     "output_type": "stream",
     "text": [
      "337867\n",
      "5899\n",
      "<class 'numpy.matrix'>\n",
      "\n",
      "(337867, 1)\n",
      "<class 'scipy.sparse._csr.csr_matrix'>\n",
      "(337867, 5899)\n",
      "<class 'numpy.matrix'>\n",
      "(337867, 1)\n"
     ]
    }
   ],
   "source": [
    "\"\"\"\n",
    "cent_R: scipy.sparse._csr.csr_matrix, shape [337867, 5899]\n",
    "user_means: numpy.matrix, shape [337867, 1]\n",
    "\"\"\"\n",
    "cent_R, user_means = centralization(R)\n",
    "print(type(cent_R))\n",
    "print(cent_R.shape)\n",
    "print(type(user_means))\n",
    "print(user_means.shape)"
   ]
  },
  {
   "cell_type": "code",
   "execution_count": 50,
   "metadata": {},
   "outputs": [],
   "source": [
    "def info(matrix):\n",
    "    return type(matrix), matrix.shape"
   ]
  },
  {
   "attachments": {},
   "cell_type": "markdown",
   "metadata": {},
   "source": [
    "# Split data into train, valid, and test set\n",
    "- We can not split the matrix after centralization\n",
    "- This is because, in the split function\n",
    "  - Replace assigned ratings to valid and test in the training matrix with 0\n",
    "  - If the train_matrix had already been centralized, you replace ratings with respective user's average (mean)\n",
    "  - We should split the data first following centralization"
   ]
  },
  {
   "cell_type": "code",
   "execution_count": 51,
   "metadata": {},
   "outputs": [],
   "source": [
    "\n",
    "n_val = 200\n",
    "n_test = 200\n",
    "# get shape of R_prune\n",
    "n_users, n_items = R_prune.shape"
   ]
  },
  {
   "cell_type": "code",
   "execution_count": 52,
   "metadata": {},
   "outputs": [],
   "source": [
    "# split pruned matrix into train, valid, and test\n",
    "train_matrix, val_idx, test_idx, val_values, test_values = split_data(R_prune, n_val, n_test)"
   ]
  },
  {
   "cell_type": "code",
   "execution_count": 53,
   "metadata": {},
   "outputs": [
    {
     "name": "stdout",
     "output_type": "stream",
     "text": [
      "3529\n",
      "2072\n",
      "<class 'numpy.matrix'>\n",
      "\n",
      "(3529, 1)\n",
      "(<class 'scipy.sparse._csr.csr_matrix'>, (3529, 2072))\n"
     ]
    }
   ],
   "source": [
    "# centralize only train_matrix by each user rating means\n",
    "# assigned ratings to valid and test are already replaced with 0 \n",
    "train_R, user_means = centralization(train_matrix)\n",
    "print(info(train_R))"
   ]
  },
  {
   "cell_type": "code",
   "execution_count": 54,
   "metadata": {},
   "outputs": [],
   "source": [
    "# val_idx is tuple, shape [n_val, 2]\n",
    "# [n_val, 0]: index of the corresponding user_index u\n",
    "# [n_val, 1]: index of the corresponding item_index i\n",
    "\n",
    "# convert val_idx(tuple) to array\n",
    "# get the list of index of user_index u\n",
    "_a = np.array(val_idx).T[:, 0]\n",
    "# print(_a)\n",
    "# obtain the corresponding user_means with list of indices\n",
    "# convert the matrix to the 1D array by using np.ravel\n",
    "a = np.ravel(user_means[_a])\n",
    "# print(type(a))"
   ]
  },
  {
   "cell_type": "code",
   "execution_count": 55,
   "metadata": {},
   "outputs": [
    {
     "name": "stdout",
     "output_type": "stream",
     "text": [
      "(<class 'scipy.sparse._csr.csr_matrix'>, (3529, 2072))\n"
     ]
    }
   ],
   "source": [
    "# centralize val data set.\n",
    "# In this case, val_values is np.ndarray\n",
    "# We need to use 1D array of corresponding user means, subtract from the val_values\n",
    "# create matrix from the values and index\n",
    "\n",
    "val_values = val_values - np.ravel(user_means[np.array(val_idx).T[:,0]])\n",
    "val_R = sp.coo_matrix((val_values, (val_idx[0], val_idx[1])), shape=(n_users, n_items)).tocsr()\n",
    "print(info(val_R))"
   ]
  },
  {
   "cell_type": "code",
   "execution_count": 56,
   "metadata": {},
   "outputs": [
    {
     "name": "stdout",
     "output_type": "stream",
     "text": [
      "(<class 'scipy.sparse._csr.csr_matrix'>, (3529, 2072))\n"
     ]
    }
   ],
   "source": [
    "# centralize test data set.\n",
    "# In this case, val_values is np.ndarray\n",
    "# We need to use 1D array of corresponding user means, subtract from the test_values\n",
    "# create matrix from the values and index\n",
    "\n",
    "test_values = test_values - np.ravel(user_means[np.array(test_idx).T[:,0]])\n",
    "test_R = sp.coo_matrix((test_values, (test_idx[0], test_idx[1])), shape=(n_users, n_items)).tocsr()\n",
    "print(info(test_R))"
   ]
  },
  {
   "cell_type": "code",
   "execution_count": 57,
   "metadata": {},
   "outputs": [
    {
     "name": "stdout",
     "output_type": "stream",
     "text": [
      "3529\n",
      "2072\n",
      "<class 'numpy.matrix'>\n",
      "\n",
      "(3529, 1)\n",
      "(<class 'scipy.sparse._csr.csr_matrix'>, (3529, 2072))\n",
      "(<class 'scipy.sparse._csr.csr_matrix'>, (337867, 5899))\n",
      "(<class 'scipy.sparse._csr.csr_matrix'>, (337867, 5899))\n"
     ]
    }
   ],
   "source": [
    "\"\"\"\n",
    "train_R:    scipy.sparse._csr.csr_matrix, shape (337867, 5899)\n",
    "            Set valid and test entries to zero, only leave out train entries\n",
    "\n",
    "val_idx:    tuple, shape [n_val, 2]\n",
    "            u_index_list\n",
    "            i_index_list\n",
    "\n",
    "val_values: numpy.array, shape [n_val, ]\n",
    "            corresponding values to the indices in val_idx\n",
    "\n",
    "test_idx:   tuple, shape [n_test, 2]\n",
    "            corresponding values to the indices in test_idx\n",
    "\n",
    "\n",
    "val_R:      scipy.sparse._csr.csr_matrix, shape (337867, 5899)\n",
    "            selected data as validation set are having values, others are set to zero\n",
    "\n",
    "test_R:     scipy.sparse._csr.csr_matrix, shape (337867, 5899)\n",
    "            selected data as test set are having values, others are set to zero\n",
    "\n",
    "\"\"\"\n",
    "n_val = 200\n",
    "n_test = 200\n",
    "n_users, n_items = cent_R.shape\n",
    "train_matrix, val_idx, test_idx, val_values, test_values = split_data(R_prune, n_val, n_test)\n",
    "train_R, user_means = centralization(train_matrix)\n",
    "print(info(train_R))\n",
    "val_values = val_values - np.ravel(user_means[np.array(val_idx).T[:,0]])\n",
    "val_R = sp.coo_matrix((val_values, (val_idx[0], val_idx[1])), shape=(n_users, n_items)).tocsr()\n",
    "print(info(val_R))\n",
    "test_values = test_values - np.ravel(user_means[np.array(test_idx).T[:,0]])\n",
    "test_R = sp.coo_matrix((test_values, (test_idx[0], test_idx[1])), shape=(n_users, n_items)).tocsr()\n",
    "print(info(test_R))"
   ]
  },
  {
   "attachments": {},
   "cell_type": "markdown",
   "metadata": {},
   "source": [
    "# Initialization of Q and P"
   ]
  },
  {
   "cell_type": "code",
   "execution_count": 58,
   "metadata": {},
   "outputs": [
    {
     "name": "stdout",
     "output_type": "stream",
     "text": [
      "(3529, 100)\n",
      "(100, 2072)\n"
     ]
    }
   ],
   "source": [
    "# option1 : random initialization\n",
    "k = 100\n",
    "np.random.seed(0)\n",
    "Q = np.random.rand(n_users, k)\n",
    "P = np.random.rand(k, n_items)\n",
    "\n",
    "# option2 : initialize with SVD\n",
    "U, s, V = svds(train_R, k=k)\n",
    "S = np.diag(s)\n",
    "Q = U.dot(S)\n",
    "P = V\n",
    "print(Q.shape)\n",
    "print(P.shape)"
   ]
  },
  {
   "attachments": {},
   "cell_type": "markdown",
   "metadata": {},
   "source": [
    "# Compute loss\n",
    "$$\n",
    "\\mathcal{L} = \\min_{P, Q} {\\sum_{(u, i) \\in S}} (R_{ui} - \\mathbf{q}_u\\mathbf{p}_i^T)^2 + \\lambda [\\sum_i{\\left\\lVert \\mathbf{p}_i \\right\\rVert}^2 + \\sum_u{\\left\\lVert \\mathbf{q}_u \\right\\rVert}^2]\n",
    "$$ \n"
   ]
  },
  {
   "cell_type": "code",
   "execution_count": 59,
   "metadata": {},
   "outputs": [],
   "source": [
    "# sum of squared error (Ridge loss, using L2 loss)\n",
    "# We must obtain nnz_index from not-centralized matrix if we are using np.argwhere\n",
    "# otherwise, we will get rid of zero value as rating 0 but they were actually equal to user-mean.\n",
    "nnz_index = np.argwhere(train_matrix)\n",
    "train_idx = tuple(nnz_index.T)\n",
    "train_values = train_R[train_idx].A1\n",
    "sse_loss = np.sum((train_values-Q.dot(P)[train_idx])**2)\n",
    "redge_lambda = 1e-4\n",
    "regulalization_loss = redge_lambda * (np.sum(np.linalg.norm(P, axis = 0)**2) + np.sum(np.linalg.norm(Q, axis = 1)**2))"
   ]
  },
  {
   "attachments": {},
   "cell_type": "markdown",
   "metadata": {},
   "source": [
    "# Optimization (Learning)"
   ]
  },
  {
   "cell_type": "code",
   "execution_count": 60,
   "metadata": {},
   "outputs": [
    {
     "name": "stdout",
     "output_type": "stream",
     "text": [
      "<class 'numpy.ndarray'>\n",
      "[   0    0    0 ... 3528 3528 3528] [   3   24  219 ... 1945 1954 1998]\n"
     ]
    }
   ],
   "source": [
    "print(type(nnz_index))\n",
    "print(nnz_index[:, 0], nnz_index[:, 1])"
   ]
  },
  {
   "attachments": {},
   "cell_type": "markdown",
   "metadata": {},
   "source": [
    "### Create stencil buffer masking index pairs having non-zero value in original matrix"
   ]
  },
  {
   "cell_type": "code",
   "execution_count": 61,
   "metadata": {},
   "outputs": [
    {
     "name": "stdout",
     "output_type": "stream",
     "text": [
      "[[0 0 0 ... 0 0 0]\n",
      " [0 0 0 ... 0 0 0]\n",
      " [0 0 0 ... 0 0 0]\n",
      " ...\n",
      " [0 0 0 ... 0 0 0]\n",
      " [0 0 0 ... 0 0 0]\n",
      " [0 0 0 ... 0 0 0]]\n"
     ]
    }
   ],
   "source": [
    "# create the stencil buffer such that mask index pair which are having argue in original matrix\n",
    "# ones compressed sparse rows matrix such that only non-zero indices have 1.\n",
    "nnz_mask = sp.coo_matrix((np.ones(len(nnz_index)), (nnz_index[:, 0], nnz_index[:, 1])), shape=R.shape, dtype = 'uint8').tocsr()\n",
    "\n",
    "print(nnz_mask.toarray())"
   ]
  },
  {
   "attachments": {},
   "cell_type": "markdown",
   "metadata": {},
   "source": [
    "### Create version of mask sorted in columns (compressed sparse column)"
   ]
  },
  {
   "cell_type": "code",
   "execution_count": 62,
   "metadata": {},
   "outputs": [
    {
     "name": "stdout",
     "output_type": "stream",
     "text": [
      "  (0, 0)\tTrue\n",
      "  (0, 1)\tTrue\n",
      "  (0, 2)\tTrue\n",
      "  (0, 3)\tTrue\n",
      "  (0, 4)\tTrue\n",
      "  (0, 5)\tTrue\n",
      "  (0, 6)\tTrue\n",
      "  (0, 7)\tTrue\n",
      "  (0, 8)\tTrue\n",
      "  (0, 9)\tTrue\n",
      "  (0, 10)\tTrue\n",
      "  (0, 11)\tTrue\n",
      "  (0, 12)\tTrue\n",
      "  (0, 13)\tTrue\n",
      "  (0, 14)\tTrue\n",
      "  (0, 15)\tTrue\n",
      "  (0, 16)\tTrue\n",
      "  (0, 17)\tTrue\n",
      "  (0, 18)\tTrue\n",
      "  (0, 19)\tTrue\n",
      "  (0, 20)\tTrue\n",
      "  (0, 21)\tTrue\n",
      "  (0, 22)\tTrue\n",
      "  (0, 23)\tTrue\n",
      "  (0, 24)\tTrue\n",
      "  :\t:\n",
      "  (0, 5874)\tTrue\n",
      "  (0, 5875)\tTrue\n",
      "  (0, 5876)\tTrue\n",
      "  (0, 5877)\tTrue\n",
      "  (0, 5878)\tTrue\n",
      "  (0, 5879)\tTrue\n",
      "  (0, 5880)\tTrue\n",
      "  (0, 5881)\tTrue\n",
      "  (0, 5882)\tTrue\n",
      "  (0, 5883)\tTrue\n",
      "  (0, 5884)\tTrue\n",
      "  (0, 5885)\tTrue\n",
      "  (0, 5886)\tTrue\n",
      "  (0, 5887)\tTrue\n",
      "  (0, 5888)\tTrue\n",
      "  (0, 5889)\tTrue\n",
      "  (0, 5890)\tTrue\n",
      "  (0, 5891)\tTrue\n",
      "  (0, 5892)\tTrue\n",
      "  (0, 5893)\tTrue\n",
      "  (0, 5894)\tTrue\n",
      "  (0, 5895)\tTrue\n",
      "  (0, 5896)\tTrue\n",
      "  (0, 5897)\tTrue\n",
      "  (0, 5898)\tTrue\n"
     ]
    },
    {
     "name": "stderr",
     "output_type": "stream",
     "text": [
      "/home/ryotok/anaconda3/envs/dlml/lib/python3.10/site-packages/IPython/core/interactiveshell.py:3369: SparseEfficiencyWarning: Comparing sparse matrices using == is inefficient, try using != instead.\n",
      "  exec(code_obj, self.user_global_ns, self.user_ns)\n"
     ]
    }
   ],
   "source": [
    "nnz_mask_col = nnz_mask.tocsc()\n",
    "print(nnz_mask_col.tocsr()[0] == nnz_mask[0])"
   ]
  },
  {
   "attachments": {},
   "cell_type": "markdown",
   "metadata": {},
   "source": [
    "### Create lists of column and row "
   ]
  },
  {
   "cell_type": "code",
   "execution_count": 63,
   "metadata": {},
   "outputs": [
    {
     "name": "stdout",
     "output_type": "stream",
     "text": [
      "<class 'numpy.ndarray'>\n",
      "[list([78, 126, 436, 607, 684, 693, 710, 1078, 1102, 1134, 1303, 1445, 1451, 1656, 1721, 1979, 2085, 2165, 2316, 2378, 2420, 2530, 2545, 2800, 2961, 3072, 3134, 3198, 3366, 3394, 3397, 3496, 3497])\n",
      " list([141, 177, 191, 192, 214, 235, 266, 300, 359, 362, 412, 508, 515, 601, 606, 623, 630, 642, 743, 801, 855, 871, 884, 905, 1158, 1176, 1196, 1259, 1505, 1609, 1667, 1679, 1699, 1751, 1752, 1857, 1901, 1909, 1936, 2016, 2055, 2089, 2103, 2150, 2165, 2217, 2237, 2329, 2380, 2388, 2408, 2420, 2445, 2457, 2524, 2598, 2603, 2607, 2682, 2714, 2750, 2772, 2798, 2898, 2919, 2920, 2946, 3057, 3130, 3137, 3240, 3298, 3314, 3320, 3353, 3358, 3397, 3404, 3522])\n",
      " list([25, 54, 55, 136, 147, 226, 298, 325, 368, 418, 453, 506, 534, 551, 574, 590, 622, 680, 723, 740, 741, 767, 784, 795, 868, 962, 964, 967, 1023, 1133, 1136, 1153, 1164, 1190, 1234, 1236, 1278, 1352, 1354, 1355, 1356, 1361, 1473, 1563, 1612, 1628, 1633, 1669, 1692, 1785, 1807, 1824, 1861, 1920, 1950, 2043, 2068, 2125, 2140, 2243, 2311, 2314, 2323, 2383, 2417, 2430, 2475, 2503, 2513, 2559, 2606, 2624, 2651, 2704, 2795, 2831, 2838, 2848, 2889, 2926, 3178, 3203, 3302, 3358, 3451, 3476, 3499, 3500])\n",
      " ... list([]) list([]) list([])]\n",
      "<class 'numpy.ndarray'>\n"
     ]
    }
   ],
   "source": [
    "# cols: numpy.ndarray\n",
    "\n",
    "n_row, n_col = train_R.shape\n",
    "\n",
    "cols = nnz_mask.T.tolil().rows\n",
    "print(type(cols))\n",
    "print(cols)\n",
    "\n",
    "rows = nnz_mask.tolil().rows\n",
    "print(type(rows))"
   ]
  },
  {
   "attachments": {},
   "cell_type": "markdown",
   "metadata": {},
   "source": [
    "### Create module for ridge regression loss"
   ]
  },
  {
   "cell_type": "code",
   "execution_count": 64,
   "metadata": {},
   "outputs": [],
   "source": [
    "reg_lambda = 1e-4\n",
    "# Fit intercept = False means that setting y_intercept to 0.\n",
    "# This should be False if we already centralize the data in advance \n",
    "\n",
    "reg = Ridge(alpha = reg_lambda, fit_intercept=False)"
   ]
  },
  {
   "attachments": {},
   "cell_type": "markdown",
   "metadata": {},
   "source": [
    "### Initializing Q and P"
   ]
  },
  {
   "cell_type": "code",
   "execution_count": 65,
   "metadata": {},
   "outputs": [],
   "source": [
    "init = 'svd'\n",
    "Q, P = initialize_Q_P(train_R, k = 100, init = init)"
   ]
  },
  {
   "attachments": {},
   "cell_type": "markdown",
   "metadata": {},
   "source": [
    "### Optimization procedure"
   ]
  },
  {
   "cell_type": "code",
   "execution_count": 66,
   "metadata": {},
   "outputs": [],
   "source": [
    "max_steps = 10\n",
    "eval_every = 1\n",
    "patience = 5\n",
    "optimizer = 'alt'\n",
    "lr = 1e-2\n",
    "reg_lambda = 1\n",
    "converged_after = -1"
   ]
  },
  {
   "cell_type": "code",
   "execution_count": 67,
   "metadata": {},
   "outputs": [],
   "source": [
    "train_losses = []\n",
    "valid_losses = []\n",
    "\n",
    "best_val_loss = best_Q = best_P = converged_after = -1\n",
    "\n",
    "bef = -1 # average time to execute one iteration\n",
    "times = [] # time stamp lists"
   ]
  },
  {
   "cell_type": "code",
   "execution_count": 68,
   "metadata": {},
   "outputs": [
    {
     "name": "stdout",
     "output_type": "stream",
     "text": [
      "0\n",
      "1\n",
      "2\n",
      "3\n"
     ]
    }
   ],
   "source": [
    "for i in range(4):\n",
    "    print(i)"
   ]
  },
  {
   "cell_type": "code",
   "execution_count": 69,
   "metadata": {},
   "outputs": [],
   "source": [
    "for user_idx in range(train_R.shape[0]):\n",
    "    _rating_idx = rows[user_idx]\n",
    "    if len(_rating_idx) == 0:\n",
    "        print(len(_rating_idx))"
   ]
  },
  {
   "cell_type": "code",
   "execution_count": 70,
   "metadata": {},
   "outputs": [
    {
     "name": "stdout",
     "output_type": "stream",
     "text": [
      "Iteration 0, train_loss: 150018.293, validation_loss 43252.095\n",
      "Iteration 1, train_loss: 124524.421, validation_loss 127707.732\n",
      "Iteration 2, train_loss: 98155.727, validation_loss 99579.143\n",
      "Iteration 3, train_loss: 93081.593, validation_loss 94355.281\n",
      "Iteration 4, train_loss: 90200.576, validation_loss 91279.658\n",
      "Converged after 0 iterations, on average 7.358s per iteration\n"
     ]
    }
   ],
   "source": [
    "for it in range(max_steps):\n",
    "    # If it is not the first iteration,\n",
    "    if bef != -1:\n",
    "        times.append(time.time()-bef)\n",
    "    bef = time.time()\n",
    "\n",
    "    \n",
    "    # Evaluation\n",
    "    # Matrix factorization model evaluation\n",
    "    # only execute every 'eval_every',\n",
    "    if it % eval_every == 0:\n",
    "        # evaluate model on train_R\n",
    "        # calculate train loss\n",
    "        train_loss = loss(train_R[train_idx].A1, train_idx, Q, P, reg_lambda)\n",
    "        train_losses.append(train_loss)\n",
    "\n",
    "        # evaluate model on val_R\n",
    "        # calculate val loss\n",
    "        val_loss = loss(val_R[val_idx].A1, val_idx, Q, P, reg_lambda)\n",
    "        valid_losses.append(val_loss)\n",
    "\n",
    "        # update the Q and P and the minimum loss so far\n",
    "        if best_val_loss < 0 or val_loss < best_val_loss:\n",
    "            best_val_loss = val_loss\n",
    "            best_Q = Q\n",
    "            best_P = P\n",
    "            # where there is improvement, let 'patience' remain original number\n",
    "            current_patience = patience\n",
    "        else:\n",
    "            # where there is no improvement, decrement the counter of patience\n",
    "            current_patience -= 1\n",
    "        \n",
    "        # if there are no improvement in 'patience', we stop this evaluation\n",
    "        if current_patience == 0:\n",
    "            # report the number of iteration (steps) \n",
    "            converged_after = it - patience * eval_every\n",
    "            break\n",
    "    print(\"Iteration {}, train_loss: {:.3f}, validation_loss {:.3f}\".format(it, train_loss, val_loss))\n",
    "    # Learning\n",
    "    # Optimization step\n",
    "\n",
    "    # stochastic gradient descent\n",
    "    if optimizer == 'sgd':\n",
    "        # random sample index of indices pair (u, i) from the tuple of non-zero value indices of train_R\n",
    "        sgd_indices = np.arange(len(train_idx[0]))\n",
    "        # shuffle the indices\n",
    "        np.random.shuffle(sgd_indices)\n",
    "\n",
    "        for idx in sgd_indices:\n",
    "            # obtain u and i pair from the tuple by using random sampled index of them\n",
    "            u, i = train_idx[0][idx], train_idx[1][idx]\n",
    "            # predict the value of R_ui by using factorized matrix Q and P\n",
    "            prediction = Q[u, :].dot(P[:, i])\n",
    "            # calculate error of prediction\n",
    "            # this e is a helper to get the gradients\n",
    "            e = (R[u, i]-prediction)\n",
    "\n",
    "            # Update latent factors\n",
    "            Q[u, :] += lr * (e * P[:, i] - reg_lambda * Q[u, :])\n",
    "            P[:, i] += lr * (e * Q[u, :] - reg_lambda * P[:, i])\n",
    "    \n",
    "    # alternating optimization\n",
    "    elif optimizer == 'alt':\n",
    "        # fix Q and update P\n",
    "        for rating_idx in range(train_R.shape[1]):\n",
    "            # Obtain user u lists in rating_idx which are having non-zero value \n",
    "            # e.g nnz_index = [179783, 195038, 234835, 282041, 303144, 321814]\n",
    "            # and [179783, rating_idx], [195038, rating_idx],....\n",
    "            _user_idx = cols[rating_idx]\n",
    "            # X   -> Q[_user_idx]\n",
    "            # W.T -> P[_user_idx] (weights) ==> .coef__\n",
    "            # y   -> np.squeeze(train_R[_user_idx, rating_idx])\n",
    "            res = reg.fit(Q[_user_idx], np.squeeze(train_R[_user_idx, rating_idx].toarray()))\n",
    "            P[:, rating_idx] = res.coef_\n",
    "        \n",
    "        # fix P and update Q\n",
    "        for user_idx in range(train_R.shape[0]):\n",
    "            # Obtain item i lists in user_idx which are having non-zero value\n",
    "            # e,g, [100. 200, ,,, 300]\n",
    "            # e.g, [user_idx, 100], [user_idx, 200], ...\n",
    "            _rating_idx = rows[user_idx]\n",
    "            # X  -> P[:, _rating_idx].T\n",
    "            # W  -> Q[user_idx]\n",
    "            # Y  -> np.squeeze(train_R[user_idx, _rating_idx])\n",
    "            res = reg.fit(P[:, _rating_idx].T, np.squeeze(train_R[user_idx, _rating_idx].toarray()))\n",
    "            Q[user_idx, :] = res.coef_\n",
    "\n",
    "if max_steps - 1 != it:\n",
    "    print(\"Converged after {} iterations, on average {:.3f}s per iteration\".format(converged_after, np.mean(times)))\n",
    "else:\n",
    "    print(\"{} iterations, not converged, on average {:.3f}s per iteration\".format(it, np.mean(times)))\n"
   ]
  },
  {
   "cell_type": "code",
   "execution_count": 77,
   "metadata": {},
   "outputs": [],
   "source": [
    "def latent_factor_alternating_optimization(R, non_zero_idx, k, val_idx, val_values, reg_lambda, max_steps = 100, init = 'random', log_every = 1, patience = 5, eval_every = 1, optimizer = 'sgd', lr = 1e-2):\n",
    "    \"\"\"\n",
    "    Perform matrix factorization using alternating optimization. \n",
    "    Training is done via patience.\n",
    "    i.e. we stop training after we observe no improvement \n",
    "    on the validation loss for a certain\n",
    "    amount of training steps. We then return the best values \n",
    "    for Q and P observed during training.\n",
    "    \n",
    "    Args:\n",
    "        R:              sp.spmatrix, shape [N, D]\n",
    "                        The input matrix to be factorized (train_matrix)\n",
    "                        It has to be centralized by mean.\n",
    "        \n",
    "        non_zero_idx:   np.array, shape [nnz, 2]\n",
    "                        The indices of the non-zero entries of the **un-shifted** matrix to be factorized.\n",
    "                        nnz refers to the number of non-zero entries. Note that this may be different \n",
    "                        from the number of non-zero entries in the input matrix(training matrix) since this indices refers\n",
    "                        original data matrix\n",
    "        \n",
    "        k:              int\n",
    "                        The latent factor dimension\n",
    "        \n",
    "        val_idx:        tuple, shape[2, n_val]\n",
    "                        [u1, u2, ,,,,, u_n_val]\n",
    "                        [i1, i2, ,,,,, i_n_val]\n",
    "                        Tuple pf the validation set indices\n",
    "                        n_val refers to the size of the validation set\n",
    "        \n",
    "        val_values:     np.array, shape [n_val, ]\n",
    "                        The values in the validation set\n",
    "\n",
    "        reg_lambda:     float\n",
    "                        The regularization strength\n",
    "        \n",
    "        max_steps:      int, optional, default = 100\n",
    "                        Maximum number of training interactions (steps, 1 steps, one optimization of two matrix factor Q and P),\n",
    "                        Note that we will step early if we observe\n",
    "                        no improvement on the validation with the step to be patient\n",
    "\n",
    "        init:           str in ['random', 'svd'], default 'random'\n",
    "                        The initialization strategy for P and Q.\n",
    "        \n",
    "        log_every:      int, optional, default: 1\n",
    "                        Log the training status every X iterations\n",
    "        \n",
    "        patience:       int, optional, default: 5\n",
    "                        Stop training after we observe no improvement of the valid loss for X evaluation\n",
    "                        iterations. After we stop training, we restore the best observed values for Q and P\n",
    "\n",
    "        eval_every:     int, optional, default: 1\n",
    "                        Evaluate the training and validation loss every x steps\n",
    "                        If we observe no improvement of the validation error, we decrease out patience by 1, else we reset it to *patience*\n",
    "        \n",
    "        optimizer:      str in ['sgd', 'alt'], optional, default: 'sgd'\n",
    "                        If 'sgd; stochastic gradient descent shall be used, otherwise, use alternating least squares.\n",
    "        \n",
    "    Returns:\n",
    "\n",
    "        best_Q:             np.array, shape [N, k]\n",
    "                            Best value for Q (based on the validation loss) observed during training\n",
    "        \n",
    "        best_P:             np.array, shape[k, D]\n",
    "                            Best value for P (based on validation loss) observed during training\n",
    "\n",
    "        validation_losses:  list of floats\n",
    "                            Validation loss for every evaluation iteration, can be used for plotting the validation loss\n",
    "                            over time\n",
    "        \n",
    "        train_losses:       list of floats\n",
    "                            Training loss for every evaluation iteration, can be used for plotting the training loss over time\n",
    "\n",
    "        converged_after:    int\n",
    "                            it - patience * eval_every, where it is the iteration in which patience hits 0,\n",
    "                            or -1 if we hit max_steps before converging.\n",
    "\n",
    "    \"\"\"\n",
    "\n",
    "    nnz_mask = sp.coo_matrix((np.ones(len(non_zero_idx)), (non_zero_idx[:, 0], non_zero_idx[:, 1])), shape=R.shape, dtype = \"uint8\").tocsr()\n",
    "\n",
    "    nnz_mask_col = nnz_mask.tocsc()\n",
    "\n",
    "    cols = nnz_mask.T.tolil().rows\n",
    "    rows = nnz_mask.tolil().rows\n",
    "\n",
    "    reg  = Ridge(alpha=reg_lambda, fit_intercept = False)\n",
    "\n",
    "    Q, P = initialize_Q_P(R, k, init)\n",
    "    train_losses = []\n",
    "    validation_losses = []\n",
    "\n",
    "    best_val_loss = best_Q = best_P = converged_after = -1\n",
    "\n",
    "    train_idx = tuple(non_zero_idx.T)\n",
    "\n",
    "    bef = -1\n",
    "    times = []\n",
    "    for it in range(max_steps):\n",
    "        if bef != -1:\n",
    "            times.append(time.time()-bef)\n",
    "        bef = time.time()\n",
    "\n",
    "        if it % eval_every ==0:\n",
    "            train_loss = loss(R[train_idx].A1, train_idx, Q, P, reg_lambda)\n",
    "            train_losses.append(train_loss)\n",
    "\n",
    "            val_loss = loss(val_values, val_idx, Q, P, reg_lambda)\n",
    "            validation_losses.append(val_loss)\n",
    "\n",
    "            if best_val_loss < 0 or val_loss < best_val_loss:\n",
    "                best_val_loss = val_loss\n",
    "                best_Q = Q\n",
    "                best_P = P\n",
    "                current_patience = patience\n",
    "            else:\n",
    "                current_patience -=1\n",
    "\n",
    "            if current_patience ==0:\n",
    "                converged_after = it - patience * eval_every\n",
    "                break\n",
    "\n",
    "        print(\"Iteration {}, training loss: {:.3f}, validation loss: {:.3f}\".format(it, train_loss, val_loss))\n",
    "\n",
    "        if optimizer == 'sgd':\n",
    "            sgd_indices = np.arange(len(train_idx[0]))\n",
    "            np.random.shuffle(sgd_indices)\n",
    "\n",
    "            for idx in sgd_indices:\n",
    "                u, i = train_idx[0][idx], train_idx[1][idx]\n",
    "                prediction=Q[u, :].dot(P[:, i])\n",
    "                e = (R[u, i] - prediction) # error\n",
    "\n",
    "                # Update latent factors\n",
    "                Q[u, :] += lr * (e * P[:, i]-reg_lambda * Q[u, :])\n",
    "                P[:, i] += lr * (e * Q[u, :]-reg_lambda * P[:, i])\n",
    "\n",
    "        elif optimizer == 'als':\n",
    "            # fix Q and update P\n",
    "            for rating_idx in range(R.shape[1]):\n",
    "                nnz_idx = cols[rating_idx]\n",
    "                res = reg.fit(Q[nnz_idx], np.squeeze(R[nnz_idx, rating_idx].toarray()))\n",
    "                P[:, rating_idx] = res.coef_\n",
    "\n",
    "            for user_idx in range(R.shape[0]):\n",
    "                 nnz_idx = rows[user_idx]\n",
    "                 res = reg.fit(P[:, nnz_idx].T, np.squeeze(R[user_idx, nnz_idx].toarray()))\n",
    "                 Q[user_idx, :] = res.coef_\n",
    "            \n",
    "    print(\"Converged after {} iteration, ob average {:.3f}s per iteration\".format(converged_after, np.mean(times)))\n",
    "    return best_Q, best_P, validation_losses, train_losses, converged_after"
   ]
  },
  {
   "cell_type": "code",
   "execution_count": 72,
   "metadata": {},
   "outputs": [
    {
     "name": "stdout",
     "output_type": "stream",
     "text": [
      "Iteration 0, training loss: 96807391.002, validation loss: 124961.399\n",
      "Iteration 1, training loss: 287023.484, validation loss: 480.975\n",
      "Iteration 2, training loss: 164484.476, validation loss: 419.506\n",
      "Iteration 3, training loss: 113543.996, validation loss: 397.418\n",
      "Iteration 4, training loss: 84503.943, validation loss: 403.396\n",
      "Iteration 5, training loss: 65215.333, validation loss: 394.426\n",
      "Iteration 6, training loss: 51606.927, validation loss: 408.041\n",
      "Iteration 7, training loss: 41809.605, validation loss: 409.658\n",
      "Iteration 8, training loss: 34263.540, validation loss: 419.733\n",
      "Iteration 9, training loss: 28514.861, validation loss: 422.941\n",
      "Iteration 10, training loss: 23960.059, validation loss: 435.107\n",
      "Iteration 11, training loss: 20158.383, validation loss: 438.870\n",
      "Iteration 12, training loss: 17221.384, validation loss: 440.479\n",
      "Iteration 13, training loss: 14846.437, validation loss: 446.602\n",
      "Iteration 14, training loss: 12812.737, validation loss: 454.161\n",
      "Converged after 5 iteration, ob average 3.662s per iteration\n"
     ]
    }
   ],
   "source": [
    "Q_sgd, P_sgd, val_loss_sgd, train_loss_sgd, converged_sgd = latent_factor_alternating_optimization(\n",
    "    R_shifted, nnz_index, k=100, val_idx=val_idx, val_values=val_values, \n",
    "    reg_lambda=1e-4, init='random', max_steps=100, patience=10, optimizer='sgd', lr=1e-2\n",
    ")"
   ]
  },
  {
   "cell_type": "code",
   "execution_count": 78,
   "metadata": {},
   "outputs": [
    {
     "name": "stdout",
     "output_type": "stream",
     "text": [
      "Iteration 0, training loss: 96807391.002, validation loss: 124961.399\n",
      "Iteration 1, training loss: 2202.146, validation loss: 1754.420\n",
      "Iteration 2, training loss: 510.550, validation loss: 1687.371\n",
      "Iteration 3, training loss: 198.060, validation loss: 1439.626\n",
      "Iteration 4, training loss: 96.909, validation loss: 1327.029\n",
      "Iteration 5, training loss: 54.617, validation loss: 1325.758\n",
      "Iteration 6, training loss: 34.286, validation loss: 1300.199\n",
      "Iteration 7, training loss: 23.567, validation loss: 1020.435\n",
      "Iteration 8, training loss: 17.522, validation loss: 973.876\n",
      "Iteration 9, training loss: 13.955, validation loss: 870.060\n",
      "Iteration 10, training loss: 11.760, validation loss: 873.020\n",
      "Iteration 11, training loss: 10.359, validation loss: 867.943\n",
      "Iteration 12, training loss: 9.441, validation loss: 858.370\n",
      "Iteration 13, training loss: 8.829, validation loss: 839.465\n",
      "Iteration 14, training loss: 8.410, validation loss: 832.437\n",
      "Iteration 15, training loss: 8.116, validation loss: 825.507\n",
      "Iteration 16, training loss: 7.905, validation loss: 820.629\n",
      "Iteration 17, training loss: 7.751, validation loss: 816.179\n",
      "Iteration 18, training loss: 7.636, validation loss: 812.449\n",
      "Iteration 19, training loss: 7.548, validation loss: 809.245\n",
      "Iteration 20, training loss: 7.478, validation loss: 806.634\n",
      "Iteration 21, training loss: 7.422, validation loss: 804.544\n",
      "Iteration 22, training loss: 7.376, validation loss: 801.702\n",
      "Iteration 23, training loss: 7.336, validation loss: 798.359\n",
      "Iteration 24, training loss: 7.302, validation loss: 794.718\n",
      "Iteration 25, training loss: 7.271, validation loss: 791.055\n",
      "Iteration 26, training loss: 7.244, validation loss: 787.500\n",
      "Iteration 27, training loss: 7.218, validation loss: 784.199\n",
      "Iteration 28, training loss: 7.195, validation loss: 781.115\n",
      "Iteration 29, training loss: 7.172, validation loss: 778.272\n",
      "Iteration 30, training loss: 7.151, validation loss: 775.598\n",
      "Iteration 31, training loss: 7.131, validation loss: 773.078\n",
      "Iteration 32, training loss: 7.112, validation loss: 770.616\n",
      "Iteration 33, training loss: 7.094, validation loss: 768.236\n",
      "Iteration 34, training loss: 7.076, validation loss: 765.898\n",
      "Iteration 35, training loss: 7.058, validation loss: 763.628\n",
      "Iteration 36, training loss: 7.042, validation loss: 761.396\n",
      "Iteration 37, training loss: 7.025, validation loss: 759.218\n",
      "Iteration 38, training loss: 7.010, validation loss: 757.075\n",
      "Iteration 39, training loss: 6.994, validation loss: 754.980\n",
      "Iteration 40, training loss: 6.979, validation loss: 752.920\n",
      "Iteration 41, training loss: 6.964, validation loss: 750.898\n",
      "Iteration 42, training loss: 6.950, validation loss: 748.902\n",
      "Iteration 43, training loss: 6.936, validation loss: 746.928\n",
      "Iteration 44, training loss: 6.922, validation loss: 744.965\n",
      "Iteration 45, training loss: 6.908, validation loss: 743.005\n",
      "Iteration 46, training loss: 6.895, validation loss: 741.036\n",
      "Iteration 47, training loss: 6.882, validation loss: 739.055\n",
      "Iteration 48, training loss: 6.869, validation loss: 737.067\n",
      "Iteration 49, training loss: 6.856, validation loss: 735.086\n",
      "Iteration 50, training loss: 6.843, validation loss: 733.123\n",
      "Iteration 51, training loss: 6.830, validation loss: 731.190\n",
      "Iteration 52, training loss: 6.818, validation loss: 729.302\n",
      "Iteration 53, training loss: 6.806, validation loss: 727.379\n",
      "Iteration 54, training loss: 6.795, validation loss: 725.446\n",
      "Iteration 55, training loss: 6.784, validation loss: 723.563\n",
      "Iteration 56, training loss: 6.773, validation loss: 721.711\n",
      "Iteration 57, training loss: 6.763, validation loss: 719.887\n",
      "Iteration 58, training loss: 6.752, validation loss: 718.093\n",
      "Iteration 59, training loss: 6.742, validation loss: 716.328\n",
      "Iteration 60, training loss: 6.732, validation loss: 714.591\n",
      "Iteration 61, training loss: 6.722, validation loss: 712.883\n",
      "Iteration 62, training loss: 6.713, validation loss: 711.204\n",
      "Iteration 63, training loss: 6.703, validation loss: 709.555\n",
      "Iteration 64, training loss: 6.694, validation loss: 707.935\n",
      "Iteration 65, training loss: 6.685, validation loss: 706.346\n",
      "Iteration 66, training loss: 6.676, validation loss: 704.788\n",
      "Iteration 67, training loss: 6.667, validation loss: 703.260\n",
      "Iteration 68, training loss: 6.658, validation loss: 701.764\n",
      "Iteration 69, training loss: 6.649, validation loss: 700.299\n",
      "Iteration 70, training loss: 6.641, validation loss: 698.866\n",
      "Iteration 71, training loss: 6.632, validation loss: 697.464\n",
      "Iteration 72, training loss: 6.624, validation loss: 696.093\n",
      "Iteration 73, training loss: 6.616, validation loss: 694.754\n",
      "Iteration 74, training loss: 6.608, validation loss: 693.445\n",
      "Iteration 75, training loss: 6.600, validation loss: 692.168\n",
      "Iteration 76, training loss: 6.592, validation loss: 690.920\n",
      "Iteration 77, training loss: 6.584, validation loss: 689.702\n",
      "Iteration 78, training loss: 6.576, validation loss: 688.514\n",
      "Iteration 79, training loss: 6.568, validation loss: 687.355\n",
      "Iteration 80, training loss: 6.561, validation loss: 686.224\n",
      "Iteration 81, training loss: 6.553, validation loss: 685.121\n",
      "Iteration 82, training loss: 6.546, validation loss: 684.045\n",
      "Iteration 83, training loss: 6.539, validation loss: 682.996\n",
      "Iteration 84, training loss: 6.531, validation loss: 681.972\n",
      "Iteration 85, training loss: 6.524, validation loss: 680.974\n",
      "Iteration 86, training loss: 6.517, validation loss: 680.000\n",
      "Iteration 87, training loss: 6.510, validation loss: 679.051\n",
      "Iteration 88, training loss: 6.503, validation loss: 678.124\n",
      "Iteration 89, training loss: 6.496, validation loss: 677.220\n",
      "Iteration 90, training loss: 6.490, validation loss: 676.338\n",
      "Iteration 91, training loss: 6.483, validation loss: 675.477\n",
      "Iteration 92, training loss: 6.476, validation loss: 674.636\n",
      "Iteration 93, training loss: 6.470, validation loss: 673.816\n",
      "Iteration 94, training loss: 6.463, validation loss: 673.015\n",
      "Iteration 95, training loss: 6.456, validation loss: 672.232\n",
      "Iteration 96, training loss: 6.450, validation loss: 671.468\n",
      "Iteration 97, training loss: 6.444, validation loss: 670.721\n",
      "Iteration 98, training loss: 6.437, validation loss: 669.991\n",
      "Iteration 99, training loss: 6.431, validation loss: 669.278\n",
      "Converged after -1 iteration, ob average 9.923s per iteration\n"
     ]
    }
   ],
   "source": [
    "Q_als, P_als, val_loss_als, train_loss_als, converged_als = latent_factor_alternating_optimization(\n",
    "    R_shifted, nnz_index, k=100, val_idx=val_idx, val_values=val_values, \n",
    "    reg_lambda=1e-4, init='random', max_steps=100, patience=10, optimizer='als'\n",
    ")"
   ]
  },
  {
   "cell_type": "code",
   "execution_count": 79,
   "metadata": {},
   "outputs": [
    {
     "data": {
      "text/plain": [
       "<matplotlib.legend.Legend at 0x7fed05093700>"
      ]
     },
     "execution_count": 79,
     "metadata": {},
     "output_type": "execute_result"
    },
    {
     "data": {
      "image/png": "[encoded data removed]",
      "text/plain": [
       "<Figure size 1000x500 with 2 Axes>"
      ]
     },
     "metadata": {},
     "output_type": "display_data"
    }
   ],
   "source": [
    "### Plot the validation and training losses over for each iteration\n",
    "fig, ax = plt.subplots(1, 2, figsize = [10, 5])\n",
    "fig.suptitle(\"Alternating optimization, k=100\")\n",
    "\n",
    "ax[0].plot(train_loss_sgd[1::], label = 'sgd')\n",
    "ax[0].plot(train_loss_als[1::], label = 'als')\n",
    "ax[0].set_title('Training loss')\n",
    "ax[0].set_xlabel(\"Training iteration\")\n",
    "ax[0].set_ylabel(\"Loss\")\n",
    "ax[0].legend()\n",
    "\n",
    "ax[1].plot(val_loss_sgd[1::], label = 'sgd')\n",
    "ax[1].plot(val_loss_als[1::], label = 'als')\n",
    "ax[1].set_title(\"Validation loss\")\n",
    "ax[1].set_xlabel(\"Validating interation\")\n",
    "ax[1].set_ylabel(\"Loss\")\n",
    "ax[1].legend()"
   ]
  },
  {
   "cell_type": "code",
   "execution_count": 94,
   "metadata": {},
   "outputs": [
    {
     "name": "stdout",
     "output_type": "stream",
     "text": [
      "<class 'numpy.ndarray'>\n"
     ]
    },
    {
     "data": {
      "text/plain": [
       "<matplotlib.legend.Legend at 0x7fed050362c0>"
      ]
     },
     "execution_count": 94,
     "metadata": {},
     "output_type": "execute_result"
    },
    {
     "data": {
      "image/png": "[encoded data removed]",
      "text/plain": [
       "<Figure size 1000x500 with 2 Axes>"
      ]
     },
     "metadata": {},
     "output_type": "display_data"
    }
   ],
   "source": [
    "print(type(train_loss_sgd))\n",
    "train_loss_sgd = np.array(train_loss_sgd)\n",
    "val_loss_sgd = np.array(val_loss_sgd)\n",
    "train_loss_als = np.array(train_loss_als)\n",
    "val_loss_als = np.array(val_loss_als)\n",
    "fig, ax = plt.subplots(1, 2, figsize = [10, 5])\n",
    "fig.suptitle(\"Alternating optimization, k=100\")\n",
    "\n",
    "ax[0].plot(train_loss_sgd, label = 'train')\n",
    "ax[0].plot(val_loss_sgd, label = 'val')\n",
    "ax[0].set_title('stochastic gradient descent')\n",
    "ax[0].set_xlabel(\"Iteration\")\n",
    "ax[0].set_ylabel(\"Loss\")\n",
    "ax[0].legend()\n",
    "\n",
    "ax[1].plot(train_loss_als, label = 'train')\n",
    "ax[1].plot(val_loss_als, label = 'val')\n",
    "ax[1].set_title(\"alternative iteration\")\n",
    "ax[1].set_xlabel(\"Iteration\")\n",
    "ax[1].set_ylabel(\"Loss\")\n",
    "ax[1].legend()\n"
   ]
  },
  {
   "attachments": {},
   "cell_type": "markdown",
   "metadata": {},
   "source": [
    "# Autoencoder and t-SNE\n",
    "Hereinafter, we will implement an autoencoder and analyze uts latent space via interpolations annd t-SNE. For this, we will use the famous Fasion-MNIST dataset\n"
   ]
  },
  {
   "cell_type": "code",
   "execution_count": null,
   "metadata": {},
   "outputs": [],
   "source": [
    "from typing import List\n",
    "from matplotlib"
   ]
  }
 ],
 "metadata": {
  "kernelspec": {
   "display_name": "dlml",
   "language": "python",
   "name": "python3"
  },
  "language_info": {
   "codemirror_mode": {
    "name": "ipython",
    "version": 3
   },
   "file_extension": ".py",
   "mimetype": "text/x-python",
   "name": "python",
   "nbconvert_exporter": "python",
   "pygments_lexer": "ipython3",
   "version": "3.10.9"
  },
  "orig_nbformat": 4,
  "vscode": {
   "interpreter": {
    "hash": "e6b7a25b8b2426eb550c8146811605d9bdb61f23d99ada7f1c3a4f71b608de8f"
   }
  }
 },
 "nbformat": 4,
 "nbformat_minor": 2
}
