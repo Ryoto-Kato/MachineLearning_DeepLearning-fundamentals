{
 "cells": [
  {
   "attachments": {},
   "cell_type": "markdown",
   "metadata": {},
   "source": [
    "# Dimensionality reduction 1"
   ]
  },
  {
   "cell_type": "code",
   "execution_count": 1,
   "metadata": {},
   "outputs": [],
   "source": [
    "import numpy as np\n",
    "import matplotlib.pyplot as plt\n",
    "\n",
    "%matplotlib inline"
   ]
  },
  {
   "attachments": {},
   "cell_type": "markdown",
   "metadata": {},
   "source": [
    "## Principal Component Analysis\n",
    "- Linear dimensionality reduction method\n",
    "- Find optimal orthogonal transformation such that covariance between the new dimensions is 0\n",
    "    - Exploits eigen decomposition\n",
    "    - By the orthogonal transformation, we could ignore the low variance direction to reduce the dimensionality of the features.\n",
    "- Transformations\n",
    "    - Find the basis (eigen vector of covariance matrix) such that independent each other\n",
    "    - Diagonalization by changing the basis (inner-product of the original matrix and basis (new coordinate system)) \n",
    "    $\n",
    "    \\mathbf{X} \\text{: Data original coordinates}\n",
    "    \\\\\n",
    "    \\hat{\\mathbf{X}} \\text{: Centralized dataset}\n",
    "    \\\\\n",
    "    \\mathbf{\\Gamma} \\text{: New coordinate system (Eigen vectors matrix)}\n",
    "    \\\\\n",
    "    \\mathbf{\\Lambda} \\text{: Variance of respective direction (Eigen values matrix)}\n",
    "    \\\\\n",
    "    $$\n",
    "    Eigen Decomposition of covariance matrix of original data\n",
    "    $$\n",
    "    \\Sigma_{\\hat{\\mathbf{X}}} =  \\mathbf{\\Gamma} \\mathbf{\\Lambda} \\mathbf{\\Gamma}^T\n",
    "    $\n",
    "    \n",
    "        New coordinate system\n",
    "    $$\\mathbf{\\Gamma}$$\n",
    "\n",
    "        Variance of each direction\n",
    "        Covariance matrix on the new coordinate\n",
    "    $$\\mathbf{\\Lambda}$$\n",
    "    $$"
   ]
  },
  {
   "attachments": {},
   "cell_type": "markdown",
   "metadata": {},
   "source": [
    "# PCA\n",
    "### Process of principal component analysis\n",
    "Given input\n",
    "Args\n",
    "$\\mathbf{X} \\text{: array, shape[N, D]}$\n",
    "- N : #samples, D : features dimensions\n",
    "\n",
    "1. Calculate the mean over samples\n",
    "$$\\mathbf{x_m} \\text{: array, shape [D, 1]}$$\n",
    "\n",
    "2. Centralized (Standardized) the given data matrix around the mean $\\mathbf{x_m}$\n",
    "$$\\hat{\\mathbf{X}} = X - x_m[\\text{none}, :]$$\n",
    "$$\\text{or}$$\n",
    "$$\\hat{\\mathbf{X}} = X -  1_N@x_m^T$$\n",
    "\n",
    "3. Calculate the covariance matrix of the centralized data matrix \n",
    "$$\\Sigma_{\\hat{\\mathbf{X}}} = \\frac{1}{N}\\hat{\\mathbf{X}}^T\\hat{\\mathbf{X}}$$\n",
    "\n",
    "4. Eigendecomposition\n",
    "   - Derived the eigen values and eigenvectos of $\\Sigma_{\\hat{\\mathbf{X}}}$ \n",
    "$$\n",
    "\\Sigma_{\\hat{\\mathbf{X}}} = \\mathbf{\\Gamma}\\mathbf{\\Lambda}\\mathbf{\\Gamma^T}\n",
    "$$\n",
    "\n",
    "   - $\\mathbf{\\Gamma}$ : Eigenvector matrix, shape[D, D]\n",
    "     - Orthonormal matrix\n",
    "       - All rows are independent with each other.\n",
    "   - $\\mathbf{\\Lambda}$ : Eigenvalue matrix, dig(1, .... , D)\n",
    "     - variance of each direction\n",
    "     - none-covariance between the direction\n",
    "     - Directions (new coordinate systems) are independent with each other\n",
    "\n",
    "5. Plot the original data $\\mathbf{X}$ and the eigenvectors to a single diagram\n",
    "   - To obtain optimal diagonal transformation system onto M-dim space\n",
    "   - We need to prune the eigenvectors' matrix leaving out only corresponding M the largest eigenvalues\n",
    "   - We could obtain the \n",
    "   - $\\mathbf{\\Gamma_{prune}}$: some columns are zero\n",
    "\n",
    "\n",
    "6. Transform all vectors in X in this new subspace by expressing all vectors in X in this new basis (project the vectors in $\\mathbf{X}$ onto the M-dim subspace)."
   ]
  },
  {
   "attachments": {},
   "cell_type": "markdown",
   "metadata": {},
   "source": [
    "    Transformed dataset\n",
    "$$\\mathbf{Y}=\\mathbf{X}\\mathbf{\\Gamma}$$\n",
    "    Covariance matrix of transformed dataset\n",
    "$$\\mathbf{\\Sigma_\\mathbf{Y}}=\\mathbf{\\Lambda}=\\mathbf{\\Gamma}^T{\\mathbf{\\Sigma_{\\hat{\\mathbf{X}}}}}\\mathbf{\\Gamma}$$"
   ]
  },
  {
   "attachments": {},
   "cell_type": "markdown",
   "metadata": {},
   "source": [
    "The given data X"
   ]
  },
  {
   "cell_type": "code",
   "execution_count": 2,
   "metadata": {},
   "outputs": [
    {
     "name": "stdout",
     "output_type": "stream",
     "text": [
      "shape: (17, 2)\n",
      "sample: 17\n",
      "features: 2\n",
      "    [-3 -2]\n",
      "    [-2 -1]\n",
      "    [-1  0]\n",
      "    [0 1]\n",
      "    [1 2]\n",
      "    [2 3]\n",
      "    [-2 -2]\n",
      "    [-1 -1]\n",
      "    [0 0]\n",
      "    [1 1]\n",
      "    [2 2]\n",
      "    [-2 -3]\n",
      "    [-1 -2]\n",
      "    [ 0 -1]\n",
      "    [1 0]\n",
      "    [2 1]\n",
      "    [3 2]\n"
     ]
    }
   ],
   "source": [
    "X = np.array([(-3,-2),(-2,-1),(-1,0),(0,1),\n",
    "              (1,2),(2,3),(-2,-2),(-1,-1),\n",
    "              (0,0),(1,1),(2,2), (-2,-3),\n",
    "              (-1,-2),(0,-1),(1,0), (2,1),(3,2)])\n",
    "\n",
    "N, D = X.shape[0], X.shape[1]\n",
    "\n",
    "print(f\"shape: {X.shape}\")\n",
    "print(f\"sample: {N}\")\n",
    "print(f\"features: {D}\")\n",
    "\n",
    "for idx, x in enumerate(X):\n",
    "    print(f'    {x}')"
   ]
  },
  {
   "attachments": {},
   "cell_type": "markdown",
   "metadata": {},
   "source": [
    "1. Calculate the mean over samples\n",
    "$$\\mathbf{x_m} \\text{: array, shape [D, 1]}$$"
   ]
  },
  {
   "cell_type": "code",
   "execution_count": 3,
   "metadata": {},
   "outputs": [
    {
     "name": "stdout",
     "output_type": "stream",
     "text": [
      "[0. 0.]\n",
      "shape: (2,)\n"
     ]
    }
   ],
   "source": [
    "# Axis = over which axis we take mean\n",
    "# Keepdims(False) for the subsequent operation\n",
    "# To use augumentation in the following operation, \n",
    "# we should squeeze the dimension of the derived mean of data vectors over samples\n",
    "x_m = X.mean(0, keepdims=False)\n",
    "print(x_m)\n",
    "print(f\"shape: {x_m.shape}\")"
   ]
  },
  {
   "attachments": {},
   "cell_type": "markdown",
   "metadata": {},
   "source": [
    "2. Centralized (Standardized) the given data matrix around the mean $\\mathbf{x_m}$\n",
    "$$\\hat{\\mathbf{X}} = X - x_m[None, :]$$\n",
    "$$\\text{or}$$\n",
    "$$\\hat{\\mathbf{X}} = X - x_m^T 1_N$$"
   ]
  },
  {
   "cell_type": "code",
   "execution_count": 4,
   "metadata": {},
   "outputs": [
    {
     "name": "stdout",
     "output_type": "stream",
     "text": [
      "[[-3. -2.]\n",
      " [-2. -1.]\n",
      " [-1.  0.]\n",
      " [ 0.  1.]\n",
      " [ 1.  2.]\n",
      " [ 2.  3.]\n",
      " [-2. -2.]\n",
      " [-1. -1.]\n",
      " [ 0.  0.]\n",
      " [ 1.  1.]\n",
      " [ 2.  2.]\n",
      " [-2. -3.]\n",
      " [-1. -2.]\n",
      " [ 0. -1.]\n",
      " [ 1.  0.]\n",
      " [ 2.  1.]\n",
      " [ 3.  2.]]\n",
      "shape: (17, 2)\n"
     ]
    }
   ],
   "source": [
    "X_hat = X - x_m[None, :]\n",
    "## alternative\n",
    "# rx_m = X.mean(0, keepdims=True)\n",
    "# one_n = np.ones((N, 1))\n",
    "# print(f\"1_N shape: {one_n.shape}\")\n",
    "# X_hat = X - one_n @ rx_m\n",
    "print(X_hat)\n",
    "print(f\"shape: {X_hat.shape}\")"
   ]
  },
  {
   "attachments": {},
   "cell_type": "markdown",
   "metadata": {},
   "source": [
    "3. Calculate the covariance matrix of the centralized data matrix \n",
    "$$\\Sigma_{\\hat{\\mathbf{X}}} = \\frac{1}{N}\\hat{\\mathbf{X^T}}\\hat{\\mathbf{X}}$$"
   ]
  },
  {
   "cell_type": "code",
   "execution_count": 5,
   "metadata": {},
   "outputs": [
    {
     "name": "stdout",
     "output_type": "stream",
     "text": [
      "shape: (2, 2)\n"
     ]
    }
   ],
   "source": [
    "C_X = X_hat.transpose() @ X_hat\n",
    "C_X = C_X * (1/N)\n",
    "# print(C_X)\n",
    "print(f\"shape: {C_X.shape}\")"
   ]
  },
  {
   "attachments": {},
   "cell_type": "markdown",
   "metadata": {},
   "source": [
    "# Function to get covariance matrix"
   ]
  },
  {
   "cell_type": "code",
   "execution_count": 6,
   "metadata": {},
   "outputs": [],
   "source": [
    "def get_covariance(X):\n",
    "    \"\"\"\n",
    "    Args:\n",
    "        X: array[N, D]\n",
    "        data matrix including each data vectors on original space (Usually, Cartesian Space)\n",
    "    Return:\n",
    "        C_X: array[N, N]\n",
    "        covariance matrix of the centralized data of given data matrix X\n",
    "    \"\"\"\n",
    "\n",
    "    # taking mean over samples\n",
    "    # x_m: array(D)\n",
    "\n",
    "    x_m = X.mean(0, keepdims=False)\n",
    "    \n",
    "    # Centralized X\n",
    "    # X_hat: array[N, D], dtype=Float\n",
    "\n",
    "    X_hat = X - x_m[None, :]\n",
    "\n",
    "    # Calculating the covariance matrix of the centralized data X_hat\n",
    "    # C_X: array[N, N], dtype=Float\n",
    "\n",
    "    C_X = X_hat.transpose() @ X_hat\n",
    "    # Normalization\n",
    "    C_X *= (1/N)\n",
    "\n",
    "    return C_X"
   ]
  },
  {
   "attachments": {},
   "cell_type": "markdown",
   "metadata": {},
   "source": [
    "4. Eigendecomposition\n",
    "   - Derived the eigen values and eigenvectos of $\\Sigma_{\\hat{\\mathbf{X}}}$ \n",
    "$$\n",
    "\\Sigma_{\\hat{\\mathbf{X}}} = \\mathbf{\\Gamma}\\mathbf{\\Lambda}\\mathbf{\\Gamma^T}\n",
    "$$\n",
    "\n",
    "   - $\\mathbf{\\Gamma}$ : Eigenvector matrix, shape[D, D]\n",
    "     - Orthonormal matrix\n",
    "       - All rows are independent with each other.\n",
    "   - $\\mathbf{\\Lambda}$ : Eigenvalue matrix, dig(1, .... , D)\n",
    "     - variance of each direction\n",
    "     - none-covariance between the direction\n",
    "     - Directions (new coordinate systems) are independent with each other"
   ]
  },
  {
   "attachments": {},
   "cell_type": "markdown",
   "metadata": {},
   "source": [
    "Using Numpy eigendecomposition function\n",
    "- numpy.linalg.eig function"
   ]
  },
  {
   "cell_type": "code",
   "execution_count": 7,
   "metadata": {},
   "outputs": [
    {
     "name": "stdout",
     "output_type": "stream",
     "text": [
      "Gamma:(2, 2)\n",
      " [[ 0.70710678 -0.70710678]\n",
      " [ 0.70710678  0.70710678]]\n",
      "Lammda:(2,)\n",
      " [5.29411765 0.35294118]\n",
      "0\n"
     ]
    }
   ],
   "source": [
    "eig_values, eig_vectors = np.linalg.eig(C_X)\n",
    "print(f\"Gamma:{eig_vectors.shape}\\n {eig_vectors}\")\n",
    "print(f\"Lammda:{eig_values.shape}\\n {eig_values}\")\n",
    "max_dim = np.argmax(eig_values)\n",
    "print(max_dim)"
   ]
  },
  {
   "cell_type": "code",
   "execution_count": 8,
   "metadata": {},
   "outputs": [
    {
     "name": "stdout",
     "output_type": "stream",
     "text": [
      "(2, 2)\n",
      "diagonal mat\n",
      " [[5.29411765 0.        ]\n",
      " [0.         0.35294118]]\n"
     ]
    }
   ],
   "source": [
    "I = np.eye(len(eig_values))\n",
    "print(I.shape)\n",
    "\n",
    "_dig_eig_values = I * eig_values\n",
    "print(f\"diagonal mat\\n {_dig_eig_values}\")"
   ]
  },
  {
   "cell_type": "code",
   "execution_count": 9,
   "metadata": {},
   "outputs": [],
   "source": [
    "def get_eigen(Cov_x):\n",
    "    \"\"\"\n",
    "    Args (1):\n",
    "        Cov_x : array[D, D]\n",
    "            Covariance matrix of the standardized given data matrix X\n",
    "    \n",
    "    Returns (2):\n",
    "        g : array[D, D]\n",
    "            eigen_vectors matrix\n",
    "        \n",
    "        l : array[D, D]\n",
    "            eigen_values diagonal matrix\n",
    "    \"\"\"\n",
    "\n",
    "    D = Cov_x.shape[0]\n",
    "\n",
    "    l, g = np.linalg.eig(Cov_x)\n",
    "    I = np.eye(D)\n",
    "    l = I * l[None, :]\n",
    "\n",
    "    return g, l\n"
   ]
  },
  {
   "attachments": {},
   "cell_type": "markdown",
   "metadata": {},
   "source": [
    "5. Plot the original data $\\mathbf{X}$ and the eigenvectors to a single diagram\n",
    "   - To obtain optimal diagonal transformation system onto M-dim space\n",
    "   - We need to prune the eigenvectors' matrix leaving out only corresponding M the largest eigenvalues\n",
    "   - We could obtain the \n",
    "   - $\\mathbf{\\Gamma_{prune}}$: some columns are zero"
   ]
  },
  {
   "cell_type": "code",
   "execution_count": 10,
   "metadata": {},
   "outputs": [
    {
     "data": {
      "text/plain": [
       "(-3.3, 3.3, -3.3, 3.3)"
      ]
     },
     "execution_count": 10,
     "metadata": {},
     "output_type": "execute_result"
    },
    {
     "data": {
      "image/png": "[encoded data removed]",
      "text/plain": [
       "<Figure size 640x480 with 1 Axes>"
      ]
     },
     "metadata": {},
     "output_type": "display_data"
    }
   ],
   "source": [
    "# plot given data\n",
    "plt.scatter(X[:, 0], X[:, 1])\n",
    "plt.axis('equal')"
   ]
  },
  {
   "cell_type": "code",
   "execution_count": 11,
   "metadata": {},
   "outputs": [
    {
     "data": {
      "text/plain": [
       "[<matplotlib.lines.Line2D at 0x7f0e57191870>]"
      ]
     },
     "execution_count": 11,
     "metadata": {},
     "output_type": "execute_result"
    },
    {
     "data": {
      "image/png": "[encoded data removed]",
      "text/plain": [
       "<Figure size 640x480 with 1 Axes>"
      ]
     },
     "metadata": {},
     "output_type": "display_data"
    }
   ],
   "source": [
    "# plot the mean of the data\n",
    "mean = X.mean(0)\n",
    "plt.plot(mean[0], mean[1], 'o', markersize=10, color='red', alpha=0.25)"
   ]
  },
  {
   "cell_type": "code",
   "execution_count": 12,
   "metadata": {},
   "outputs": [
    {
     "data": {
      "image/png": "[encoded data removed]",
      "text/plain": [
       "<Figure size 640x480 with 1 Axes>"
      ]
     },
     "metadata": {},
     "output_type": "display_data"
    }
   ],
   "source": [
    "# plot summery\n",
    "\n",
    "plt.scatter(X[:, 0], X[:, 1])\n",
    "plt.axis('equal')\n",
    "\n",
    "mean = X.mean(0)\n",
    "plt.plot(mean[0], mean[1], 'o', markersize=10, color='red', alpha=0.5)\n",
    "\n",
    "Sigma = get_covariance(X)\n",
    "g, l = get_eigen(Sigma)\n",
    "\n",
    "max_dim = np.argmax(l)\n",
    "\n",
    "for i in range(l.shape[0]):\n",
    "    variance = l[i][i]\n",
    "    value = str(np.round(variance, 2))\n",
    "    if i == max_dim:\n",
    "        plt.arrow(mean[0], mean[1], g[0][i], g[1][i], width=0.05, color='red', alpha=0.5)\n",
    "        plt.annotate(f'PC\\n{value}' , [g[0][i], g[1][i]])\n",
    "    else:\n",
    "        plt.arrow(mean[0], mean[1], g[0][i], g[1][i], width=0.05, color='blue', alpha=0.5)\n",
    "        plt.annotate(f'{value}', [g[0][i], g[1][i]])\n"
   ]
  },
  {
   "attachments": {},
   "cell_type": "markdown",
   "metadata": {},
   "source": [
    "## Singular Value Decomposition (SVD)\n",
    "\n",
    "$$\n",
    "\\mathbf{M} = \\mathbf{U} \\cdot \\mathbf{\\Sigma} \\cdot \\mathbf{V}\n",
    "$$\n",
    "\n",
    "- $\\mathbf{U}$: array[N, D]\n",
    "    - Left Singular Matrix\n",
    "- $\\mathbf{\\Sigma}$: array [D, D]\n",
    "    - Singular Matrix\n",
    "- $\\mathbf{V}$: array[D, D]\n",
    "    - Right Singular Matrix"
   ]
  },
  {
   "attachments": {},
   "cell_type": "markdown",
   "metadata": {},
   "source": [
    "## PCA and SVD\n",
    "- Relationship\n",
    "$$\\lambda_i = \\frac{s_i^2}{N}$$"
   ]
  },
  {
   "cell_type": "code",
   "execution_count": 13,
   "metadata": {},
   "outputs": [
    {
     "name": "stdout",
     "output_type": "stream",
     "text": [
      "shape: (3, 2)\n",
      "sample: 17\n",
      "features: 2\n",
      "    [1 2]\n",
      "    [6 3]\n",
      "    [0 2]\n"
     ]
    }
   ],
   "source": [
    "# Given data\n",
    "M = np.array([[1, 2], [6, 3], [0, 2]])\n",
    "\n",
    "N, D = X.shape[0], X.shape[1]\n",
    "\n",
    "print(f\"shape: {M.shape}\")\n",
    "print(f\"sample: {N}\")\n",
    "print(f\"features: {D}\")\n",
    "\n",
    "for _, m in enumerate(M):\n",
    "    print(f'    {m}')"
   ]
  },
  {
   "attachments": {},
   "cell_type": "markdown",
   "metadata": {},
   "source": [
    "Using numpy linalg library\n",
    "- np.linalg.svd"
   ]
  },
  {
   "cell_type": "code",
   "execution_count": 14,
   "metadata": {},
   "outputs": [
    {
     "name": "stdout",
     "output_type": "stream",
     "text": [
      "(17, 17)\n",
      "(2,)\n",
      "<class 'numpy.ndarray'>\n",
      "[9.48683298 2.44948974]\n",
      "(2, 2)\n",
      "[[ 0.70710678  0.70710678]\n",
      " [ 0.70710678 -0.70710678]]\n"
     ]
    }
   ],
   "source": [
    "u, s, v = np.linalg.svd(X)\n",
    "print(u.shape)\n",
    "print(s.shape)\n",
    "print(type(s))\n",
    "print(s)\n",
    "print(v.shape)\n",
    "print(v)"
   ]
  },
  {
   "cell_type": "code",
   "execution_count": 15,
   "metadata": {},
   "outputs": [
    {
     "name": "stdout",
     "output_type": "stream",
     "text": [
      "[0. 0.]\n",
      "0\n"
     ]
    },
    {
     "data": {
      "image/png": "[encoded data removed]",
      "text/plain": [
       "<Figure size 640x480 with 1 Axes>"
      ]
     },
     "metadata": {},
     "output_type": "display_data"
    }
   ],
   "source": [
    "plt.scatter(X[:, 0], X[:, 1])\n",
    "plt.axis('equal')\n",
    "\n",
    "mean = X.mean(0)\n",
    "print(mean)\n",
    "plt.plot(mean[0], mean[1], 'o', markersize = 10, color='red', alpha=0.5)\n",
    "\n",
    "max_dim = np.argmax(s)\n",
    "print(max_dim)\n",
    "\n",
    "for i in range(len(s)):\n",
    "    variance = s[i]**2 / (N)\n",
    "    value = str(np.round(variance, 2))\n",
    "    if i == max_dim:\n",
    "        plt.arrow(mean[0], mean[1], v[i][0], v[i][1], width=0.05, color='red', alpha=0.5)\n",
    "        plt.annotate(f'PC\\n{value}' , [v[i][0], v[i][1]])\n",
    "    else:\n",
    "        plt.arrow(mean[0], mean[1], v[i][0], v[i][1], width=0.05, color='blue', alpha=0.5)\n",
    "        plt.annotate(f'{value}', [v[i][0], v[i][1]])\n"
   ]
  }
 ],
 "metadata": {
  "kernelspec": {
   "display_name": "dlml",
   "language": "python",
   "name": "python3"
  },
  "language_info": {
   "codemirror_mode": {
    "name": "ipython",
    "version": 3
   },
   "file_extension": ".py",
   "mimetype": "text/x-python",
   "name": "python",
   "nbconvert_exporter": "python",
   "pygments_lexer": "ipython3",
   "version": "3.10.9"
  },
  "orig_nbformat": 4,
  "vscode": {
   "interpreter": {
    "hash": "e6b7a25b8b2426eb550c8146811605d9bdb61f23d99ada7f1c3a4f71b608de8f"
   }
  }
 },
 "nbformat": 4,
 "nbformat_minor": 2
}
