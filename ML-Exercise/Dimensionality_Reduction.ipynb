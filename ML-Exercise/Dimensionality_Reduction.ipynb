{
 "cells": [
  {
   "attachments": {},
   "cell_type": "markdown",
   "metadata": {},
   "source": [
    "# Dimensionality reduction 1\n",
    "## PCA and SVD\n",
    "    Linear dimensionality reduction"
   ]
  },
  {
   "cell_type": "code",
   "execution_count": 1,
   "metadata": {},
   "outputs": [],
   "source": [
    "import numpy as np\n",
    "import matplotlib.pyplot as plt\n",
    "\n",
    "%matplotlib inline"
   ]
  },
  {
   "attachments": {},
   "cell_type": "markdown",
   "metadata": {},
   "source": [
    "## Principal Component Analysis\n",
    "- Linear dimensionality reduction method\n",
    "- Find optimal orthogonal transformation such that covariance between the new dimensions is 0\n",
    "    - Exploits eigen decomposition\n",
    "    - By the orthogonal transformation, we could ignore the low variance direction to reduce the dimensionality of the features.\n",
    "- Transformations\n",
    "    - Find the basis (eigen vector of covariance matrix) such that independent each other\n",
    "    - Diagonalization by changing the basis (inner-product of the original matrix and basis (new coordinate system)) \n",
    "    $\n",
    "    \\mathbf{X} \\text{: Data original coordinates}\n",
    "    \\\\\n",
    "    \\hat{\\mathbf{X}} \\text{: Centralized dataset}\n",
    "    \\\\\n",
    "    \\mathbf{\\Gamma} \\text{: New coordinate system (Eigen vectors matrix)}\n",
    "    \\\\\n",
    "    \\mathbf{\\Lambda} \\text{: Variance of respective direction (Eigen values matrix)}\n",
    "    \\\\\n",
    "    $$\n",
    "    Eigen Decomposition of covariance matrix of original data\n",
    "    $$\n",
    "    \\Sigma_{\\hat{\\mathbf{X}}} =  \\mathbf{\\Gamma} \\mathbf{\\Lambda} \\mathbf{\\Gamma}^T\n",
    "    $\n",
    "    \n",
    "        New coordinate system\n",
    "    $$\\mathbf{\\Gamma}$$\n",
    "\n",
    "        Variance of each direction\n",
    "        Covariance matrix on the new coordinate\n",
    "    $$\\mathbf{\\Lambda}$$\n",
    "    $$"
   ]
  },
  {
   "attachments": {},
   "cell_type": "markdown",
   "metadata": {},
   "source": [
    "# PCA\n",
    "### Process of principal component analysis\n",
    "Given input\n",
    "Args\n",
    "$\\mathbf{X} \\text{: array, shape[N, D]}$\n",
    "- N : #samples, D : features dimensions\n",
    "\n",
    "1. Calculate the mean over samples\n",
    "$$\\mathbf{x_m} \\text{: array, shape [D, 1]}$$\n",
    "\n",
    "2. Centralized (Standardized) the given data matrix around the mean $\\mathbf{x_m}$\n",
    "$$\\hat{\\mathbf{X}} = X - x_m[\\text{none}, :]$$\n",
    "$$\\text{or}$$\n",
    "$$\\hat{\\mathbf{X}} = X -  1_N@x_m^T$$\n",
    "\n",
    "3. Calculate the covariance matrix of the centralized data matrix \n",
    "$$\\Sigma_{\\hat{\\mathbf{X}}} = \\frac{1}{N}\\hat{\\mathbf{X}}^T\\hat{\\mathbf{X}}$$\n",
    "\n",
    "4. Eigendecomposition\n",
    "   - Derived the eigen values and eigenvectos of $\\Sigma_{\\hat{\\mathbf{X}}}$ \n",
    "$$\n",
    "\\Sigma_{\\hat{\\mathbf{X}}} = \\mathbf{\\Gamma}\\mathbf{\\Lambda}\\mathbf{\\Gamma^T}\n",
    "$$\n",
    "\n",
    "   - $\\mathbf{\\Gamma}$ : Eigenvector matrix, shape[D, D]\n",
    "     - Orthonormal matrix\n",
    "       - All rows are independent with each other.\n",
    "   - $\\mathbf{\\Lambda}$ : Eigenvalue matrix, dig(1, .... , D)\n",
    "     - variance of each direction\n",
    "     - none-covariance between the direction\n",
    "     - Directions (new coordinate systems) are independent with each other\n",
    "\n",
    "5. Plot the original data $\\mathbf{X}$ and the eigenvectors to a single diagram\n",
    "   - To obtain optimal diagonal transformation system onto M-dim space\n",
    "   - We need to prune the eigenvectors' matrix leaving out only corresponding M the largest eigenvalues\n",
    "   - We could obtain the \n",
    "   - $\\mathbf{\\Gamma_{prune}}$: some columns are zero\n",
    "\n",
    "\n",
    "6. Transform all vectors in X in this new subspace by expressing all vectors in X in this new basis (project the vectors in $\\mathbf{X}$ onto the M-dim subspace)."
   ]
  },
  {
   "attachments": {},
   "cell_type": "markdown",
   "metadata": {},
   "source": [
    "    Transformed dataset\n",
    "$$\\mathbf{Y}=\\mathbf{X}\\mathbf{\\Gamma}$$\n",
    "    Covariance matrix of transformed dataset\n",
    "$$\\mathbf{\\Sigma_\\mathbf{Y}}=\\mathbf{\\Lambda}=\\mathbf{\\Gamma}^T{\\mathbf{\\Sigma_{\\hat{\\mathbf{X}}}}}\\mathbf{\\Gamma}$$"
   ]
  },
  {
   "attachments": {},
   "cell_type": "markdown",
   "metadata": {},
   "source": [
    "The given data X"
   ]
  },
  {
   "cell_type": "code",
   "execution_count": 2,
   "metadata": {},
   "outputs": [
    {
     "name": "stdout",
     "output_type": "stream",
     "text": [
      "shape: (17, 2)\n",
      "sample: 17\n",
      "features: 2\n",
      "    [-3 -2]\n",
      "    [-2 -1]\n",
      "    [-1  0]\n",
      "    [0 1]\n",
      "    [1 2]\n",
      "    [2 3]\n",
      "    [-2 -2]\n",
      "    [-1 -1]\n",
      "    [0 0]\n",
      "    [1 1]\n",
      "    [2 2]\n",
      "    [-2 -3]\n",
      "    [-1 -2]\n",
      "    [ 0 -1]\n",
      "    [1 0]\n",
      "    [2 1]\n",
      "    [3 2]\n"
     ]
    }
   ],
   "source": [
    "X = np.array([(-3,-2),(-2,-1),(-1,0),(0,1),\n",
    "              (1,2),(2,3),(-2,-2),(-1,-1),\n",
    "              (0,0),(1,1),(2,2), (-2,-3),\n",
    "              (-1,-2),(0,-1),(1,0), (2,1),(3,2)])\n",
    "\n",
    "N, D = X.shape[0], X.shape[1]\n",
    "\n",
    "print(f\"shape: {X.shape}\")\n",
    "print(f\"sample: {N}\")\n",
    "print(f\"features: {D}\")\n",
    "\n",
    "for idx, x in enumerate(X):\n",
    "    print(f'    {x}')"
   ]
  },
  {
   "attachments": {},
   "cell_type": "markdown",
   "metadata": {},
   "source": [
    "1. Calculate the mean over samples\n",
    "$$\\mathbf{x_m} \\text{: array, shape [D, 1]}$$"
   ]
  },
  {
   "cell_type": "code",
   "execution_count": 3,
   "metadata": {},
   "outputs": [
    {
     "name": "stdout",
     "output_type": "stream",
     "text": [
      "[0. 0.]\n",
      "shape: (2,)\n"
     ]
    }
   ],
   "source": [
    "# Axis = over which axis we take mean\n",
    "# Keepdims(False) for the subsequent operation\n",
    "# To use augumentation in the following operation, \n",
    "# we should squeeze the dimension of the derived mean of data vectors over samples\n",
    "x_m = X.mean(0, keepdims=False)\n",
    "print(x_m)\n",
    "print(f\"shape: {x_m.shape}\")"
   ]
  },
  {
   "attachments": {},
   "cell_type": "markdown",
   "metadata": {},
   "source": [
    "2. Centralized (Standardized) the given data matrix around the mean $\\mathbf{x_m}$\n",
    "$$\\hat{\\mathbf{X}} = X - x_m[None, :]$$\n",
    "$$\\text{or}$$\n",
    "$$\\hat{\\mathbf{X}} = X - x_m^T 1_N$$"
   ]
  },
  {
   "cell_type": "code",
   "execution_count": 4,
   "metadata": {},
   "outputs": [
    {
     "name": "stdout",
     "output_type": "stream",
     "text": [
      "[[-3. -2.]\n",
      " [-2. -1.]\n",
      " [-1.  0.]\n",
      " [ 0.  1.]\n",
      " [ 1.  2.]\n",
      " [ 2.  3.]\n",
      " [-2. -2.]\n",
      " [-1. -1.]\n",
      " [ 0.  0.]\n",
      " [ 1.  1.]\n",
      " [ 2.  2.]\n",
      " [-2. -3.]\n",
      " [-1. -2.]\n",
      " [ 0. -1.]\n",
      " [ 1.  0.]\n",
      " [ 2.  1.]\n",
      " [ 3.  2.]]\n",
      "shape: (17, 2)\n"
     ]
    }
   ],
   "source": [
    "X_hat = X - x_m[None, :]\n",
    "## alternative\n",
    "# rx_m = X.mean(0, keepdims=True)\n",
    "# one_n = np.ones((N, 1))\n",
    "# print(f\"1_N shape: {one_n.shape}\")\n",
    "# X_hat = X - one_n @ rx_m\n",
    "print(X_hat)\n",
    "print(f\"shape: {X_hat.shape}\")"
   ]
  },
  {
   "attachments": {},
   "cell_type": "markdown",
   "metadata": {},
   "source": [
    "3. Calculate the covariance matrix of the centralized data matrix \n",
    "$$\\Sigma_{\\hat{\\mathbf{X}}} = \\frac{1}{N}\\hat{\\mathbf{X^T}}\\hat{\\mathbf{X}}$$"
   ]
  },
  {
   "cell_type": "code",
   "execution_count": 5,
   "metadata": {},
   "outputs": [
    {
     "name": "stdout",
     "output_type": "stream",
     "text": [
      "shape: (2, 2)\n"
     ]
    }
   ],
   "source": [
    "C_X = X_hat.transpose() @ X_hat\n",
    "C_X = C_X * (1/N)\n",
    "# print(C_X)\n",
    "print(f\"shape: {C_X.shape}\")"
   ]
  },
  {
   "attachments": {},
   "cell_type": "markdown",
   "metadata": {},
   "source": [
    "# Function to get covariance matrix"
   ]
  },
  {
   "cell_type": "code",
   "execution_count": 6,
   "metadata": {},
   "outputs": [],
   "source": [
    "def get_covariance(X):\n",
    "    \"\"\"\n",
    "    Args:\n",
    "        X: array[N, D]\n",
    "        data matrix including each data vectors on original space (Usually, Cartesian Space)\n",
    "    Return:\n",
    "        C_X: array[N, N]\n",
    "        covariance matrix of the centralized data of given data matrix X\n",
    "    \"\"\"\n",
    "\n",
    "    # taking mean over samples\n",
    "    # x_m: array(D)\n",
    "\n",
    "    x_m = X.mean(0, keepdims=False)\n",
    "    \n",
    "    # Centralized X\n",
    "    # X_hat: array[N, D], dtype=Float\n",
    "\n",
    "    X_hat = X - x_m[None, :]\n",
    "\n",
    "    # Calculating the covariance matrix of the centralized data X_hat\n",
    "    # C_X: array[N, N], dtype=Float\n",
    "\n",
    "    C_X = X_hat.transpose() @ X_hat\n",
    "    # Normalization\n",
    "    C_X *= (1/N)\n",
    "\n",
    "    return C_X"
   ]
  },
  {
   "attachments": {},
   "cell_type": "markdown",
   "metadata": {},
   "source": [
    "4. Eigendecomposition\n",
    "   - Derived the eigen values and eigenvectos of $\\Sigma_{\\hat{\\mathbf{X}}}$ \n",
    "$$\n",
    "\\Sigma_{\\hat{\\mathbf{X}}} = \\mathbf{\\Gamma}\\mathbf{\\Lambda}\\mathbf{\\Gamma^T}\n",
    "$$\n",
    "\n",
    "   - $\\mathbf{\\Gamma}$ : Eigenvector matrix, shape[D, D]\n",
    "     - Orthonormal matrix\n",
    "       - All rows are independent with each other.\n",
    "   - $\\mathbf{\\Lambda}$ : Eigenvalue matrix, dig(1, .... , D)\n",
    "     - variance of each direction\n",
    "     - none-covariance between the direction\n",
    "     - Directions (new coordinate systems) are independent with each other"
   ]
  },
  {
   "attachments": {},
   "cell_type": "markdown",
   "metadata": {},
   "source": [
    "Using Numpy eigendecomposition function\n",
    "- numpy.linalg.eig function"
   ]
  },
  {
   "cell_type": "code",
   "execution_count": 7,
   "metadata": {},
   "outputs": [
    {
     "name": "stdout",
     "output_type": "stream",
     "text": [
      "Gamma:(2, 2)\n",
      " [[ 0.70710678 -0.70710678]\n",
      " [ 0.70710678  0.70710678]]\n",
      "Lammda:(2,)\n",
      " [5.29411765 0.35294118]\n",
      "0\n"
     ]
    }
   ],
   "source": [
    "eig_values, eig_vectors = np.linalg.eig(C_X)\n",
    "print(f\"Gamma:{eig_vectors.shape}\\n {eig_vectors}\")\n",
    "print(f\"Lammda:{eig_values.shape}\\n {eig_values}\")\n",
    "max_dim = np.argmax(eig_values)\n",
    "print(max_dim)"
   ]
  },
  {
   "cell_type": "code",
   "execution_count": 8,
   "metadata": {},
   "outputs": [
    {
     "name": "stdout",
     "output_type": "stream",
     "text": [
      "(2, 2)\n",
      "diagonal mat\n",
      " [[5.29411765 0.        ]\n",
      " [0.         0.35294118]]\n"
     ]
    }
   ],
   "source": [
    "I = np.eye(len(eig_values))\n",
    "print(I.shape)\n",
    "\n",
    "_dig_eig_values = I * eig_values\n",
    "print(f\"diagonal mat\\n {_dig_eig_values}\")"
   ]
  },
  {
   "cell_type": "code",
   "execution_count": 9,
   "metadata": {},
   "outputs": [],
   "source": [
    "def get_eigen(Cov_x):\n",
    "    \"\"\"\n",
    "    Args (1):\n",
    "        Cov_x : array[D, D]\n",
    "            Covariance matrix of the standardized given data matrix X\n",
    "    \n",
    "    Returns (2):\n",
    "        g : array[D, D]\n",
    "            eigen_vectors matrix\n",
    "        \n",
    "        l : array[D, D]\n",
    "            eigen_values diagonal matrix\n",
    "    \"\"\"\n",
    "\n",
    "    D = Cov_x.shape[0]\n",
    "\n",
    "    l, g = np.linalg.eig(Cov_x)\n",
    "    I = np.eye(D)\n",
    "    l = I * l[None, :]\n",
    "\n",
    "    return g, l\n"
   ]
  },
  {
   "attachments": {},
   "cell_type": "markdown",
   "metadata": {},
   "source": [
    "5. Plot the original data $\\mathbf{X}$ and the eigenvectors to a single diagram\n",
    "   - To obtain optimal diagonal transformation system onto M-dim space\n",
    "   - We need to prune the eigenvectors' matrix leaving out only corresponding M the largest eigenvalues\n",
    "   - We could obtain the \n",
    "   - $\\mathbf{\\Gamma_{prune}}$: some columns are zero"
   ]
  },
  {
   "cell_type": "code",
   "execution_count": 10,
   "metadata": {},
   "outputs": [
    {
     "data": {
      "text/plain": [
       "(-3.3, 3.3, -3.3, 3.3)"
      ]
     },
     "execution_count": 10,
     "metadata": {},
     "output_type": "execute_result"
    },
    {
     "data": {
      "image/png": "[encoded data removed]",
      "text/plain": [
       "<Figure size 640x480 with 1 Axes>"
      ]
     },
     "metadata": {},
     "output_type": "display_data"
    }
   ],
   "source": [
    "# plot given data\n",
    "plt.scatter(X[:, 0], X[:, 1])\n",
    "plt.axis('equal')"
   ]
  },
  {
   "cell_type": "code",
   "execution_count": 11,
   "metadata": {},
   "outputs": [
    {
     "data": {
      "text/plain": [
       "[<matplotlib.lines.Line2D at 0x7ff85b2f4190>]"
      ]
     },
     "execution_count": 11,
     "metadata": {},
     "output_type": "execute_result"
    },
    {
     "data": {
      "image/png": "[encoded data removed]",
      "text/plain": [
       "<Figure size 640x480 with 1 Axes>"
      ]
     },
     "metadata": {},
     "output_type": "display_data"
    }
   ],
   "source": [
    "# plot the mean of the data\n",
    "mean = X.mean(0)\n",
    "plt.plot(mean[0], mean[1], 'o', markersize=10, color='red', alpha=0.25)"
   ]
  },
  {
   "cell_type": "code",
   "execution_count": 12,
   "metadata": {},
   "outputs": [
    {
     "data": {
      "image/png": "[encoded data removed]",
      "text/plain": [
       "<Figure size 640x480 with 1 Axes>"
      ]
     },
     "metadata": {},
     "output_type": "display_data"
    }
   ],
   "source": [
    "# plot summery\n",
    "\n",
    "plt.scatter(X[:, 0], X[:, 1])\n",
    "plt.axis('equal')\n",
    "\n",
    "mean = X.mean(0)\n",
    "plt.plot(mean[0], mean[1], 'o', markersize=10, color='red', alpha=0.5)\n",
    "\n",
    "Sigma = get_covariance(X)\n",
    "g, l = get_eigen(Sigma)\n",
    "\n",
    "max_dim = np.argmax(l)\n",
    "\n",
    "for i in range(l.shape[0]):\n",
    "    variance = l[i][i]\n",
    "    value = str(np.round(variance, 2))\n",
    "    if i == max_dim:\n",
    "        plt.arrow(mean[0], mean[1], g[0][i], g[1][i], width=0.05, color='red', alpha=0.5)\n",
    "        plt.annotate(f'PC\\n{value}' , [g[0][i], g[1][i]])\n",
    "    else:\n",
    "        plt.arrow(mean[0], mean[1], g[0][i], g[1][i], width=0.05, color='blue', alpha=0.5)\n",
    "        plt.annotate(f'{value}', [g[0][i], g[1][i]])\n"
   ]
  },
  {
   "attachments": {},
   "cell_type": "markdown",
   "metadata": {},
   "source": [
    "## Singular Value Decomposition (SVD)\n",
    "\n",
    "$$\n",
    "\\mathbf{M} = \\mathbf{U} \\cdot \\mathbf{\\Sigma} \\cdot \\mathbf{V}\n",
    "$$\n",
    "\n",
    "- $\\mathbf{U}$: array[N, D]\n",
    "    - Left Singular Matrix\n",
    "- $\\mathbf{\\Sigma}$: array [D, D]\n",
    "    - Singular Matrix\n",
    "- $\\mathbf{V}$: array[D, D]\n",
    "    - Right Singular Matrix"
   ]
  },
  {
   "attachments": {},
   "cell_type": "markdown",
   "metadata": {},
   "source": [
    "## PCA and SVD\n",
    "- Relationship\n",
    "$$\\lambda_i = \\frac{s_i^2}{N}$$"
   ]
  },
  {
   "cell_type": "code",
   "execution_count": 13,
   "metadata": {},
   "outputs": [
    {
     "name": "stdout",
     "output_type": "stream",
     "text": [
      "shape: (3, 2)\n",
      "sample: 17\n",
      "features: 2\n",
      "    [1 2]\n",
      "    [6 3]\n",
      "    [0 2]\n"
     ]
    }
   ],
   "source": [
    "# Given data\n",
    "M = np.array([[1, 2], [6, 3], [0, 2]])\n",
    "\n",
    "N, D = X.shape[0], X.shape[1]\n",
    "\n",
    "print(f\"shape: {M.shape}\")\n",
    "print(f\"sample: {N}\")\n",
    "print(f\"features: {D}\")\n",
    "\n",
    "for _, m in enumerate(M):\n",
    "    print(f'    {m}')"
   ]
  },
  {
   "attachments": {},
   "cell_type": "markdown",
   "metadata": {},
   "source": [
    "Using numpy linalg library\n",
    "- np.linalg.svd"
   ]
  },
  {
   "cell_type": "code",
   "execution_count": 14,
   "metadata": {},
   "outputs": [
    {
     "name": "stdout",
     "output_type": "stream",
     "text": [
      "(17, 17)\n",
      "(2,)\n",
      "<class 'numpy.ndarray'>\n",
      "[9.48683298 2.44948974]\n",
      "(2, 2)\n",
      "[[ 0.70710678  0.70710678]\n",
      " [ 0.70710678 -0.70710678]]\n"
     ]
    }
   ],
   "source": [
    "u, s, v = np.linalg.svd(X)\n",
    "print(u.shape)\n",
    "print(s.shape)\n",
    "print(type(s))\n",
    "print(s)\n",
    "print(v.shape)\n",
    "print(v)"
   ]
  },
  {
   "cell_type": "code",
   "execution_count": 15,
   "metadata": {},
   "outputs": [
    {
     "name": "stdout",
     "output_type": "stream",
     "text": [
      "[0. 0.]\n",
      "0\n"
     ]
    },
    {
     "data": {
      "image/png": "[encoded data removed]",
      "text/plain": [
       "<Figure size 640x480 with 1 Axes>"
      ]
     },
     "metadata": {},
     "output_type": "display_data"
    }
   ],
   "source": [
    "plt.scatter(X[:, 0], X[:, 1])\n",
    "plt.axis('equal')\n",
    "\n",
    "mean = X.mean(0)\n",
    "print(mean)\n",
    "plt.plot(mean[0], mean[1], 'o', markersize = 10, color='red', alpha=0.5)\n",
    "\n",
    "max_dim = np.argmax(s)\n",
    "print(max_dim)\n",
    "\n",
    "for i in range(len(s)):\n",
    "    variance = s[i]**2 / (N)\n",
    "    value = str(np.round(variance, 2))\n",
    "    if i == max_dim:\n",
    "        plt.arrow(mean[0], mean[1], v[i][0], v[i][1], width=0.05, color='red', alpha=0.5)\n",
    "        plt.annotate(f'PC\\n{value}' , [v[i][0], v[i][1]])\n",
    "    else:\n",
    "        plt.arrow(mean[0], mean[1], v[i][0], v[i][1], width=0.05, color='blue', alpha=0.5)\n",
    "        plt.annotate(f'{value}', [v[i][0], v[i][1]])\n"
   ]
  },
  {
   "attachments": {},
   "cell_type": "markdown",
   "metadata": {},
   "source": [
    "# Dimensionality reduction 2\n",
    "## Matrix Factorization\n",
    "    Non-linear dimensionality reduction"
   ]
  },
  {
   "cell_type": "code",
   "execution_count": 16,
   "metadata": {},
   "outputs": [],
   "source": [
    "import time\n",
    "import scipy.sparse as sp\n",
    "import numpy as np\n",
    "from scipy.sparse.linalg import svds\n",
    "from sklearn.linear_model import Ridge\n",
    "\n",
    "import matplotlib.pyplot as plt\n",
    "%matplotlib inline"
   ]
  },
  {
   "attachments": {},
   "cell_type": "markdown",
   "metadata": {},
   "source": [
    "# Recommendation system\n",
    "- Restaurant recommendation system\n",
    "- Primary optimization problem\n",
    "  - [Goal] minimize the reconstruction error\n",
    "    - Matrix $\\mathbf{R}$ completion task\n",
    "  - Predict the ratings a user will give to a restaurant they have not yet rated based on a latent factor model\n",
    "  - We are going to factorize the rating matrix by $\\mathbf{Q}$ and $\\mathbf{P}$ given $\\mathbf{R}$\n",
    "  - Given $\\mathbf{R}$\n",
    "    - $\\mathbf{r_{ui}}$ : ratings to item i by user u\n",
    "- Args\n",
    "  - $\\mathbf{R}$: array[N, D]\n",
    "    - rating matrix, sparse\n",
    "  - S={(u, i)|$r_{ui}$ != None} \n",
    "- Returns (optimum solution)\n",
    "  - $\\mathbf{Q}$: array[N, K]\n",
    "    - $\\mathbf{q}_u$ : Latent factor for user $u$\n",
    "  - $\\mathbf{P}$: array[K, D]\n",
    "    - $\\mathbf{p}_i$ : Latent factor for item $i$\n",
    "\n",
    "- Objective function (minimization of reconstruction error)\n",
    "  - including the regularization term\n",
    "    - If R is too sparse to reconstruct, \n",
    "      - Regularization term becomes __Dominant__\n",
    "        - push latent factors to the undetermined area (minimize the length)\n",
    "    - Else,\n",
    "      - Sum of Squared loss becomes __Dominant__\n",
    "\n",
    "$$\n",
    "\\mathcal{L} = \\min{P, Q}_{\\sum{(u, i) \\in S}} (R_{ui} - \\mathbf{q}_u\\mathbf{p}_i^T)^2 + \\lambda [\\sum_i{\\left\\lVert \\mathbf{p}_i \\right\\rVert}^2 + \\sum_u{\\left\\lVert \\mathbf{q}_u \\right\\rVert}^2]\n",
    "$$ \n"
   ]
  },
  {
   "attachments": {},
   "cell_type": "markdown",
   "metadata": {},
   "source": [
    "## How to solve this minimization problem\n",
    "- Problem to solve\n",
    "  - We need to optimize __TWO VARIABLES__ {P and Q} at the same time\n",
    "$$\n",
    "\\mathcal{L} = \\min{P, Q}_{\\sum{(u, i) \\in S}} (R_{ui} - \\mathbf{q}_u\\mathbf{p}_i^T)^2 + \\lambda [\\sum_i{\\left\\lVert \\mathbf{p}_i \\right\\rVert}^2 + \\sum_u{\\left\\lVert \\mathbf{q}_u \\right\\rVert}^2]\n",
    "$$ \n",
    "\n",
    "### Methods\n",
    "1. Alternating optimization\n",
    "   - We assume that one of the free parameters is given\n",
    "   - Optimize the two parameters in turns\n",
    "2. Stochastic gradient descent (SGD)\n",
    "   - Sample $\\mathbf{r}_{ui}$ (mini-batch)\n",
    "   - Optimize the parameters by approximating the loss of all data samples with sampled dataset."
   ]
  },
  {
   "attachments": {},
   "cell_type": "markdown",
   "metadata": {},
   "source": [
    "## Load and Pre-process the Data"
   ]
  },
  {
   "cell_type": "code",
   "execution_count": 17,
   "metadata": {},
   "outputs": [],
   "source": [
    "ratings = np.load(\"yelp-dataset.npy\")\n",
    "\n",
    "## given data interior\n",
    "## [user_id, restaurant, ratings]\n",
    "#   [[101968   1880      1]\n",
    "#   [101968    284      5]\n",
    "#   [101968   1378      2]\n",
    "#   ...\n",
    "#   [ 72452   2100      4]\n",
    "#   [ 72452   2050      5]\n",
    "#   [ 74861   3979      5]]"
   ]
  },
  {
   "cell_type": "code",
   "execution_count": 18,
   "metadata": {},
   "outputs": [
    {
     "name": "stdout",
     "output_type": "stream",
     "text": [
      "#users: 337867\n",
      "#items (restaurants): 5899\n",
      "data type: <class 'numpy.ndarray'>\n"
     ]
    }
   ],
   "source": [
    "# shape of the rating matrix\n",
    "# Given matrix is containing the ratings by each user\n",
    "\n",
    "n_users, n_rests = np.max(ratings[:,0]), np.max(ratings[:, 1])\n",
    "print(f'#users: {n_users + 1}')\n",
    "print(f'#items (restaurants): {n_rests + 1}')\n",
    "print(f'data type: {type(ratings)}')"
   ]
  },
  {
   "cell_type": "code",
   "execution_count": 19,
   "metadata": {},
   "outputs": [],
   "source": [
    "# We need to store this matrix as a sparse matrix to avoid out-of-memory issues\n",
    "R = sp.coo_matrix((ratings[:, 2], (ratings[:, 0], ratings[:, 1])), shape = (n_users+1, n_rests+1)).tocsr()\n",
    "# R interior\n",
    "#  (User_id, restaurant), rating\n",
    "#     (0, 2050)\t        5\n",
    "#     (1, 36)\t        1\n",
    "#     (1, 580)\t        5\n",
    "#     (1, 628)\t        5\n",
    "#     (1, 703)\t        1\n",
    "#     (1, 774)\t        5\n",
    "#     (1, 1303)\t        4\n",
    "#     (1, 2345)\t        4\n",
    "#     (1, 2809)\t        5\n",
    "#     (1, 3870)\t        4\n",
    "#     (1, 4193)\t        5\n",
    "#     (1, 5256)\t        5\n",
    "#     (1, 5344)\t        4\n",
    "#     (1, 5703)\t        4\n",
    "#     (1, 5890)\t        5\n",
    "#     (2, 3694)\t        5"
   ]
  },
  {
   "attachments": {},
   "cell_type": "markdown",
   "metadata": {},
   "source": [
    "## Solution for the cold start problem\n",
    "- Cold start problem\n",
    "  - When a new user is coming into the recommendation system, we can not predict about his/her future rating because there is no history\n",
    "- In preprocessing step\n",
    "  - We recursively remove all users and restaurants with 10 or less ratings\n",
    "  - Then, we randomly select 200 data points for the validation and tests sets, respectively\n",
    "  - After this, we subtract the mean rating for each user to account for this global effects (standardize)\n",
    "\n",
    "\n",
    "__NOTE__:\n",
    "  Zero in R is the rating with 0 not the 'unknown' zeros in the matrix. We store the indices for which we are rating data available in a separate variable"
   ]
  },
  {
   "cell_type": "code",
   "execution_count": 20,
   "metadata": {},
   "outputs": [],
   "source": [
    "def cold_start_preprocessing(matrix, min_entries):\n",
    "    \"\"\"\n",
    "    Recursively removes rows and columns from the input matrix\n",
    "    which have less ratings than min_entries\n",
    "\n",
    "    Args:\n",
    "        matrix: array[n_users, n_items]\n",
    "            rating data matrix R\n",
    "        min_entries: int\n",
    "            minimum entries to be arrowed to exist in the matrix\n",
    "    \n",
    "    Returns:\n",
    "        matrix: sp.spmatrix, shape[N', D']\n",
    "        The pre-processed matrix -> where N' <= N, D' <= D\n",
    "    \"\"\"\n",
    "    print(\"shape before: {}\".format(matrix.shape))\n",
    "    print(\"----------- V -----------\")\n",
    "\n",
    "    shape = (-1, -1)\n",
    "    while matrix.shape != shape:\n",
    "        shape = matrix.shape\n",
    "        # Make stencil buffer (mask) masking more than 0 entries\n",
    "        nnz = matrix > 0\n",
    "        # Make stencil buffer masking the row which has less than minimum entries\n",
    "        # .A1 returns flatten matrix\n",
    "        row_ixs = nnz.sum(1).A1 > min_entries\n",
    "        # Only leave out the rows having more than minimum entries\n",
    "        matrix = matrix[row_ixs]\n",
    "\n",
    "        # Make stencil buffer masking more than 0 entries\n",
    "        nnz = matrix > 0\n",
    "        # Make stencil buffer masking the column which has less than minimum entries\n",
    "        # .A1 returns flatten matrix\n",
    "        col_ixs = nnz.sum(0).A1 > min_entries\n",
    "        # Only leave out the columns having more than minimum entries\n",
    "        matrix = matrix[:, col_ixs]\n",
    "    print(\"shape after: {}\".format(matrix.shape))\n",
    "    nnz = matrix > 0\n",
    "\n",
    "    assert (nnz.sum(0).A1 > min_entries).all()\n",
    "    assert (nnz.sum(1).A1 > min_entries).all()\n",
    "\n",
    "    return matrix\n"
   ]
  },
  {
   "cell_type": "code",
   "execution_count": 21,
   "metadata": {},
   "outputs": [
    {
     "name": "stdout",
     "output_type": "stream",
     "text": [
      "shape before: (337867, 5899)\n",
      "----------- V -----------\n",
      "shape after: (11275, 3531)\n"
     ]
    },
    {
     "data": {
      "text/plain": [
       "<11275x3531 sparse matrix of type '<class 'numpy.int64'>'\n",
       "\twith 285343 stored elements in Compressed Sparse Row format>"
      ]
     },
     "execution_count": 21,
     "metadata": {},
     "output_type": "execute_result"
    }
   ],
   "source": [
    "cold_start_preprocessing(R, 10)"
   ]
  },
  {
   "attachments": {},
   "cell_type": "markdown",
   "metadata": {},
   "source": [
    "## Subtraction the mean user rating from the sparse rating matrix"
   ]
  },
  {
   "cell_type": "code",
   "execution_count": 22,
   "metadata": {},
   "outputs": [
    {
     "name": "stdout",
     "output_type": "stream",
     "text": [
      "shape before: (337867, 5899)\n",
      "----------- V -----------\n",
      "shape after: (11275, 3531)\n"
     ]
    }
   ],
   "source": [
    "dev_mat = cold_start_preprocessing(R, 10)"
   ]
  },
  {
   "cell_type": "code",
   "execution_count": 23,
   "metadata": {},
   "outputs": [
    {
     "name": "stdout",
     "output_type": "stream",
     "text": [
      "11275, 3531\n"
     ]
    }
   ],
   "source": [
    "n_users, n_rests = dev_mat.shape\n",
    "print(f'{n_users}, {n_rests}')"
   ]
  },
  {
   "cell_type": "code",
   "execution_count": 24,
   "metadata": {},
   "outputs": [
    {
     "name": "stdout",
     "output_type": "stream",
     "text": [
      "num_nnz: 13\n",
      "sum_ratings: 52\n",
      "mean ratings over a user\n",
      "[4.         4.4        3.72727273 ... 3.5        4.11764706 2.1       ]\n",
      "shape: (11275,)\n",
      "\n",
      "mean ratings over an item\n",
      "[[0.01800443 0.00381375 0.04399113 ... 0.00629712 0.00700665 0.01649667]]\n",
      "shape: (1, 3531)\n",
      "\n"
     ]
    }
   ],
   "source": [
    "# mean ratings over a user\n",
    "row = dev_mat.getrow(0)\n",
    "sum_ratings = row.sum()\n",
    "num_nnz = row.count_nonzero()\n",
    "\n",
    "print(f'num_nnz: {num_nnz}')\n",
    "print(f'sum_ratings: {sum_ratings}')\n",
    "\n",
    "\n",
    "mean_over_u = np.zeros(n_users)\n",
    "\n",
    "for u in range(n_users):\n",
    "    row = dev_mat.getrow(u)\n",
    "    sum_ratings = row.sum()\n",
    "    num_nnz = row.count_nonzero()\n",
    "    mean_user = sum_ratings/num_nnz\n",
    "    mean_over_u[u] = mean_user\n",
    "\n",
    "print('mean ratings over a user')\n",
    "print(mean_over_u)\n",
    "print(f'shape: {mean_over_u.shape}\\n')\n",
    "\n",
    "\n",
    "# mean ratings over an item\\\n",
    "print('mean ratings over an item')\n",
    "mean_over_i = dev_mat.mean(0)\n",
    "print(mean_over_i)\n",
    "print(f'shape: {mean_over_i.shape}\\n')"
   ]
  },
  {
   "cell_type": "code",
   "execution_count": 25,
   "metadata": {},
   "outputs": [
    {
     "name": "stdout",
     "output_type": "stream",
     "text": [
      "(11275,)\n"
     ]
    }
   ],
   "source": [
    "# flatten the mean ratings over a user\n",
    "f_mou = mean_over_u.flatten()\n",
    "print(f_mou.shape)"
   ]
  },
  {
   "cell_type": "code",
   "execution_count": 26,
   "metadata": {},
   "outputs": [
    {
     "name": "stdout",
     "output_type": "stream",
     "text": [
      "[[-3.98527329]\n",
      " [-4.38130841]\n",
      " [-3.71566129]\n",
      " ...\n",
      " [-3.48810535]\n",
      " [-4.09782265]\n",
      " [-2.07621071]]\n"
     ]
    }
   ],
   "source": [
    "# Standardization\n",
    "std_mat = dev_mat - f_mou[:, None]\n",
    "# mean ratings over a user should be close to zero\n",
    "eps = 1e-10\n",
    "print(std_mat.mean(1))\n",
    "assert (std_mat.mean(1).A1 < eps).all()"
   ]
  },
  {
   "cell_type": "code",
   "execution_count": 27,
   "metadata": {},
   "outputs": [
    {
     "data": {
      "text/plain": [
       "scipy.sparse._csr.csr_matrix"
      ]
     },
     "execution_count": 27,
     "metadata": {},
     "output_type": "execute_result"
    }
   ],
   "source": [
    "type(dev_mat)"
   ]
  },
  {
   "attachments": {},
   "cell_type": "markdown",
   "metadata": {},
   "source": [
    "## function 1: Centralization\n",
    "    for subtraction the man rating per user from the non-zero elements in the input matrix"
   ]
  },
  {
   "cell_type": "code",
   "execution_count": 28,
   "metadata": {},
   "outputs": [],
   "source": [
    "def centralization(matrix):\n",
    "    \"\"\"\n",
    "    Subtract the mean rating per user from the non-zero elements\n",
    "\n",
    "    Args:\n",
    "    matrix: sp.spmatrix, shape [N, D]\n",
    "            Input sparse matrix\n",
    "\n",
    "    Retuns:\n",
    "    matrix: sp.spmatrix, shape[N, D]\n",
    "            centralized input matrix at 0 (the mean-shifted ones)\n",
    "    user_means: np.array, shape[N, 1]\n",
    "                The mean rating per user that can be used to recover the absolute ratings from the mean-shifted ones.\n",
    "    \"\"\"\n",
    "    n_users, n_items = matrix.shape\n",
    "    print(n_users)\n",
    "    print(n_items)\n",
    "\n",
    "    # Create mask of non_zero entries\n",
    "    nnz_mask = matrix > 0\n",
    "\n",
    "    # Take mean per user\n",
    "    # uer_means: matrix [n_users, 1]\n",
    "    user_means = matrix.sum(1) / nnz_mask.sum(1)\n",
    "    print(type(user_means))\n",
    "    print()\n",
    "    print(user_means.shape)\n",
    "\n",
    "    # cerate a compressed sparse row matrix(csr_matrix, same type with input matrix\n",
    "    #  \n",
    "    subtract_mask = sp.csr_matrix(user_means).multiply(nnz_mask)\n",
    "\n",
    "    cent_mat = matrix - subtract_mask\n",
    "\n",
    "#     assert np.all(np.isclose(matrix.mean(1), 0))\n",
    "    return cent_mat, user_means"
   ]
  },
  {
   "cell_type": "code",
   "execution_count": 29,
   "metadata": {},
   "outputs": [
    {
     "name": "stdout",
     "output_type": "stream",
     "text": [
      "11275\n",
      "3531\n",
      "<class 'numpy.matrix'>\n",
      "\n",
      "(11275, 1)\n"
     ]
    }
   ],
   "source": [
    "cent_mat, user_means = centralization(dev_mat)"
   ]
  },
  {
   "attachments": {},
   "cell_type": "markdown",
   "metadata": {},
   "source": [
    "## Split the data into a train, validation and test set"
   ]
  },
  {
   "cell_type": "code",
   "execution_count": 30,
   "metadata": {},
   "outputs": [
    {
     "name": "stdout",
     "output_type": "stream",
     "text": [
      "(array([ 9166,   157,  7275,  9043,   287,  8294, 10665, 11037,  7116,\n",
      "        4360,  4229,  1400,  7209,  6906,  7559,  1891, 10354,  3651,\n",
      "       10631,  8484,  4994,  9913,  2171, 11218,  7926,  7192,  2373,\n",
      "       10634, 10600,  7616,  5930, 10550,  4418,    69,  3245, 10533,\n",
      "        9181,  8294,  8806,  6509,   476,  5210,  4697,  7542,   758,\n",
      "        9502,  2521,  8703,  6742,  4716,  3109,  5971,  2478,  9391,\n",
      "        2790,  7807,  3670,  2987,  6697, 10015,  7938,  4222,  6971,\n",
      "       10663,  1082,  1111,  1995,  6543,  4019,  6147,  6029,  5941,\n",
      "         156,  3113,  8706,  2269,  4144,  7923,  2234,  8026,  1764,\n",
      "        9859,  1221,  6059,  1426, 10751,  6784,  8615,  9592,  5378,\n",
      "        7287,  5469,  5678,  5029,  8443,   543,  3246,  7784,  4239,\n",
      "       10013], dtype=int32), array([1562, 3342, 2977,  430,  528,  459, 1967, 1428,   91, 3200, 2221,\n",
      "        775, 3168, 1442, 1005, 2672, 3447,  224, 1753, 1154, 1303, 2414,\n",
      "       1311, 3029, 3069, 2545, 2012, 2020, 1039, 1340, 2238, 3452, 2888,\n",
      "       1311, 3100,  545, 1851, 1519, 1910, 3465,  847,  872, 2344, 2934,\n",
      "       2247, 2351, 2229, 3487, 1345, 3300,  465, 3424, 1728, 2044, 2652,\n",
      "       1731,  715, 1493, 2445, 1859, 2550, 1799, 1264, 3128, 2633, 3120,\n",
      "       1203,  749, 3468, 1580, 2976, 2962,   36,  840, 2763, 2085,  771,\n",
      "       2660, 3325, 1112, 1519, 1133, 1645, 2293, 1021,  160, 3482, 1548,\n",
      "       2975,   62, 1813, 2129, 3326, 1238, 2397, 2030, 2398,  528,  387,\n",
      "        425], dtype=int32))\n",
      "(array([ 1951,  4951,  8617,  7334,  9495,  7836,  5481,  4221,  7859,\n",
      "        9997,  3527, 10837,  4384, 10766,  8709, 11239,  8989,  8371,\n",
      "        7793,  8204,  6028,  7829,  8197,  6691,  7899,  6053, 10216,\n",
      "        1187,  5530,  3003,  2809,  6900,  4433, 10395,  8290,  8847,\n",
      "        7797,  5405,  6079,  9723,  3942,  4669,  2697,  9285,  4948,\n",
      "        1372,  8495,  4606, 10832,  5836, 10032,  9290,  7492,  5501,\n",
      "        4871,  9096,  5445,  4513,  5686,  1916,  6722,  1302,  5685,\n",
      "        9622,  1118,  5840,  5014,  3523,  4307,  1369, 10476,  7252,\n",
      "        3417,  9123,  9417,  6692,  2626,  4490,  2570,  6929,  1902,\n",
      "        6739, 10630,  5749,  2382,  2724,  6301, 10533,  4992,  3637,\n",
      "         607,  7797,  9949,  1778,  6603,  9342, 10024,  6365,  7243,\n",
      "        2386], dtype=int32), array([ 540, 2942, 1291, 3027, 1785, 3212,  372, 1753, 3324, 2843, 2666,\n",
      "       2745, 1955, 2350, 1569, 2136, 1036, 3368, 1088,   58, 2838, 1832,\n",
      "        907, 2242, 3029, 1079, 1808, 1397,  104, 1618,  822, 2760, 2385,\n",
      "       1507, 1932, 3520, 2187, 2371, 1913, 3377, 2406, 1245, 2287,  683,\n",
      "        261, 2860,  783, 3311, 1812, 3285,  461,  319, 2457, 1006, 3128,\n",
      "       3029, 2839, 2753, 2130,  709, 1187, 1850, 3157, 2216, 2100, 3407,\n",
      "       2503,  224,  117, 1316, 1587, 2246, 3475, 2175, 1912, 1922, 3407,\n",
      "         62, 2733, 1813, 3127, 1085, 1764, 1750, 2441,  942, 3377,  798,\n",
      "       1750, 2053, 2058, 3281, 1813, 2331, 1817, 3217, 2044, 2277,  357,\n",
      "       3185], dtype=int32))\n",
      "(11275, 3531)\n"
     ]
    }
   ],
   "source": [
    "# create train, valid, and test dataset\n",
    "# create dataloader\n",
    "\n",
    "# Here we are using sparse matrix, then we need to sample train, valid, and test data samples randomly.\n",
    "\n",
    "# Configuration\n",
    "# The number of the valid and test samples\n",
    "\n",
    "n_validation = 100\n",
    "n_test = 100\n",
    "\n",
    "# copy centralized matrix\n",
    "matrix_cp = cent_mat.copy()\n",
    "# obtain the index lists which are containing non-zero variable\n",
    "non_zero_idx = np.argwhere(matrix_cp)\n",
    "\n",
    "# sample indices randomly (user u, item i)\n",
    "ixs = np.random.permutation(non_zero_idx)\n",
    "\n",
    "# obtain u-index list and i-index list as tuple (u, i)\n",
    "val_idx = tuple(ixs[:n_validation].T)\n",
    "test_idx = tuple(ixs[n_validation:n_validation + n_test].T)\n",
    "\n",
    "print(val_idx)\n",
    "print(test_idx)\n",
    "\n",
    "# obtain the array (flatten) \n",
    "val_values = matrix_cp[val_idx].A1\n",
    "test_values = matrix_cp[test_idx].A1\n",
    "\n",
    "# Eliminate valid and test samples and obtain train data.\n",
    "matrix_cp[val_idx] = matrix_cp[test_idx] = 0\n",
    "print(matrix_cp.shape)\n",
    "matrix_cp.eliminate_zeros()\n"
   ]
  },
  {
   "cell_type": "code",
   "execution_count": 31,
   "metadata": {},
   "outputs": [
    {
     "name": "stdout",
     "output_type": "stream",
     "text": [
      "train sample\n",
      "  (0, 3526)\t1.0\n",
      "  (0, 3120)\t1.0\n",
      "  (0, 2508)\t1.0\n",
      "  (0, 1694)\t1.0\n",
      "  (0, 461)\t1.0\n",
      "  (0, 416)\t-3.0\n",
      "  (0, 368)\t1.0\n",
      "  (0, 22)\t-3.0\n",
      "valid sample\n",
      "(9166, 1562):0.3125\n",
      "test sample\n",
      "(1951, 540):0.02499999999999991\n"
     ]
    }
   ],
   "source": [
    "for t, train in enumerate(matrix_cp):\n",
    "    if t > 0:\n",
    "        break\n",
    "    print('train sample')\n",
    "    print(train)\n",
    "    print('valid sample')\n",
    "    print(f'({val_idx[0][t]}, {val_idx[1][t]}):{val_values[t]}')\n",
    "    print('test sample')\n",
    "    print(f'({test_idx[0][t]}, {test_idx[1][t]}):{test_values[t]}')"
   ]
  },
  {
   "attachments": {},
   "cell_type": "markdown",
   "metadata": {},
   "source": [
    "### Function 2: split the centralized data into train, valid, and test"
   ]
  },
  {
   "cell_type": "code",
   "execution_count": 32,
   "metadata": {},
   "outputs": [],
   "source": [
    "def split_data(matrix, n_val, n_test):\n",
    "    \"\"\"\n",
    "    Extract validation and test entries from the input matrix\n",
    "\n",
    "    Args:\n",
    "        matrix: sp.spmatrix, shape [N, D]\n",
    "                The input data matrix\n",
    "        n_val:  int\n",
    "                The number of validation entries to extract\n",
    "        n_test: int\n",
    "                The number fo test entries to extract\n",
    "        \n",
    "    Returns:\n",
    "        matrix_split:   sp.spmatrix, shape [N, D]\n",
    "                        a copy of the input matrix in which the validation and \n",
    "\n",
    "        val_idx:        tuple, shape [2, n_val]\n",
    "                        The indices of the validation entries\n",
    "\n",
    "        test_idx:       tuple, shape [2, n_test]\n",
    "                        The indices of the test entries\n",
    "\n",
    "        val_values:     np.array, shape [n_val]\n",
    "                        The values of the input matrix at the validation indices\n",
    "\n",
    "        test_values:    np.array, shape [n_train]\n",
    "                        The values of the input matrix at the test indices\n",
    "    \"\"\"\n",
    "\n",
    "    # copy the input matrix\n",
    "    matrix_cp = matrix.copy()\n",
    "\n",
    "    # obtain indices pair (User u, Item i)\n",
    "    non_zero_idx = np.argwhere(matrix_cp)\n",
    "\n",
    "    # random permutation of the list of indices pair\n",
    "    ixs = np.random.permutation(non_zero_idx)\n",
    "\n",
    "    # obtain a tuple [n_val, 2] for u and i, respectively\n",
    "    val_idx =tuple(ixs[:n_val].T)\n",
    "    test_idx = tuple(ixs[n_val:n_val + n_test].T)\n",
    "\n",
    "    # obtain the ratings for the validation data\n",
    "    val_values = matrix_cp[val_idx].A1\n",
    "\n",
    "    # obtain the ratings for the test data\n",
    "    test_values = matrix_cp[test_idx].A1\n",
    "\n",
    "    # Set zero to entries which are assigned as valid or test data\n",
    "    matrix_cp[val_idx] = matrix_cp[test_idx] = 0\n",
    "\n",
    "    # Eliminate zero entries\n",
    "    matrix_cp.eliminate_zeros()\n",
    "\n",
    "    return matrix_cp, val_idx, test_idx, val_values, test_values"
   ]
  },
  {
   "cell_type": "code",
   "execution_count": 33,
   "metadata": {},
   "outputs": [
    {
     "name": "stdout",
     "output_type": "stream",
     "text": [
      "shape before: (337867, 5899)\n",
      "----------- V -----------\n",
      "shape after: (3529, 2072)\n"
     ]
    }
   ],
   "source": [
    "dev_mat = cold_start_preprocessing(R, 20)"
   ]
  },
  {
   "cell_type": "code",
   "execution_count": 34,
   "metadata": {},
   "outputs": [],
   "source": [
    "n_val = 200\n",
    "n_test = 200\n",
    "# split data\n",
    "R_train, val_idx, test_idx, val_values, test_values = split_data(dev_mat, n_val, n_test)"
   ]
  },
  {
   "cell_type": "code",
   "execution_count": 35,
   "metadata": {},
   "outputs": [
    {
     "name": "stdout",
     "output_type": "stream",
     "text": [
      "3529\n",
      "2072\n",
      "<class 'numpy.matrix'>\n",
      "\n",
      "(3529, 1)\n"
     ]
    }
   ],
   "source": [
    "# Centralization\n",
    "non_zero_indices = np.argwhere(R_train)\n",
    "R_shifted, user_means = centralization(R_train)\n",
    "\n",
    "# Apply the same shift to the validation and test data\n",
    "val_values_shifted = val_values - np.ravel(user_means[np.array(val_idx).T[:, 0]])\n",
    "test_values_shifted = test_values - np.ravel(user_means[np.array(test_idx).T[:, 0]])"
   ]
  },
  {
   "cell_type": "code",
   "execution_count": 36,
   "metadata": {},
   "outputs": [],
   "source": [
    "def loss(values, ixs, Q, P, reg_lambda):\n",
    "    \"\"\"\n",
    "    Compute the loss of the latent factor model (at indices ixs)\n",
    "\n",
    "    Args:\n",
    "        values (list of R_ui): np.array, shape[n_ixs, ]\n",
    "                The array with the ground-truth values\n",
    "        ixs (list of ui itself):    tuple, shape[2, n_ixs]\n",
    "                The indices at which we want to evaluate the loss(usually the nonzero indices of the unshifted data matrix)\n",
    "        Q:  np.array, shape [N. k]\n",
    "            The matrix Q of a latent factor model\n",
    "        P:  np.array, shape [k, D]\n",
    "            The matrix P of a latent factor model\n",
    "        reg_lambda: float\n",
    "            The regulation strength\n",
    "    \n",
    "    Returns:\n",
    "        loss:   float\n",
    "                The loss of the latent factor model\n",
    "    \"\"\"\n",
    "\n",
    "    # mean of sum of squared error\n",
    "    sse_loss = np.sum((values - Q.dot(P)[ixs])**2)\n",
    "    # regularization term \n",
    "    regularization_loss = reg_lambda * (np.sum(np.linalg.norm(P, axis = 0)**2) + np,sum(np.linalg.norm(Q, axis = 0)**2))\n",
    "\n",
    "    return sse_loss + regularization_loss"
   ]
  },
  {
   "attachments": {},
   "cell_type": "markdown",
   "metadata": {},
   "source": [
    "## Initialization of the Q and P for optimization"
   ]
  },
  {
   "cell_type": "code",
   "execution_count": 37,
   "metadata": {},
   "outputs": [
    {
     "name": "stdout",
     "output_type": "stream",
     "text": [
      "(3529, 2072)\n",
      "<class 'numpy.ndarray'>\n",
      "(3529, 2072)\n",
      "<class 'numpy.ndarray'>\n",
      "(2072, 2072)\n"
     ]
    }
   ],
   "source": [
    "print(R_train.shape)\n",
    "N, D = R_train.shape\n",
    "k = D\n",
    "Q = np.random.rand(N, k)\n",
    "print(type(Q))\n",
    "print(Q.shape)\n",
    "P = np.random.rand(k, D)\n",
    "print(type(P))\n",
    "print(P.shape)"
   ]
  },
  {
   "cell_type": "code",
   "execution_count": 38,
   "metadata": {},
   "outputs": [
    {
     "name": "stdout",
     "output_type": "stream",
     "text": [
      "(3529, 2072)\n",
      "<class 'scipy.sparse._csr.csr_matrix'>\n",
      "  (0, 24)\t3.0\n",
      "  (0, 219)\t4.0\n",
      "  (0, 333)\t2.0\n",
      "  (0, 344)\t3.0\n",
      "  (0, 393)\t5.0\n",
      "  (0, 470)\t4.0\n",
      "  (0, 530)\t5.0\n",
      "  (0, 570)\t3.0\n",
      "  (0, 585)\t3.0\n",
      "  (0, 657)\t4.0\n",
      "  (0, 664)\t4.0\n",
      "  (0, 711)\t5.0\n",
      "  (0, 799)\t4.0\n",
      "  (0, 825)\t3.0\n",
      "  (0, 872)\t4.0\n",
      "  (0, 1069)\t4.0\n",
      "  (0, 1120)\t5.0\n",
      "  (0, 1188)\t5.0\n",
      "  (0, 1323)\t4.0\n",
      "  (0, 1627)\t2.0\n",
      "  (0, 1648)\t4.0\n",
      "  (0, 1768)\t4.0\n",
      "  (0, 1865)\t4.0\n",
      "  (0, 1946)\t2.0\n",
      "  (1, 280)\t5.0\n",
      "  :\t:\n",
      "  (3528, 735)\t2.0\n",
      "  (3528, 795)\t1.0\n",
      "  (3528, 818)\t1.0\n",
      "  (3528, 839)\t4.0\n",
      "  (3528, 899)\t4.0\n",
      "  (3528, 936)\t1.0\n",
      "  (3528, 1001)\t2.0\n",
      "  (3528, 1005)\t1.0\n",
      "  (3528, 1070)\t4.0\n",
      "  (3528, 1130)\t2.0\n",
      "  (3528, 1144)\t2.0\n",
      "  (3528, 1170)\t2.0\n",
      "  (3528, 1175)\t2.0\n",
      "  (3528, 1215)\t2.0\n",
      "  (3528, 1252)\t2.0\n",
      "  (3528, 1332)\t3.0\n",
      "  (3528, 1363)\t1.0\n",
      "  (3528, 1395)\t3.0\n",
      "  (3528, 1682)\t3.0\n",
      "  (3528, 1685)\t4.0\n",
      "  (3528, 1689)\t2.0\n",
      "  (3528, 1798)\t1.0\n",
      "  (3528, 1945)\t5.0\n",
      "  (3528, 1954)\t4.0\n",
      "  (3528, 1998)\t1.0\n",
      "2072\n"
     ]
    }
   ],
   "source": [
    "f_R_train = R_train.astype(float)\n",
    "print(f_R_train.shape)\n",
    "print(type(f_R_train))\n",
    "print(f_R_train)\n",
    "print(k)"
   ]
  },
  {
   "cell_type": "code",
   "execution_count": 39,
   "metadata": {},
   "outputs": [],
   "source": [
    "# When we use svds function from the scipy.sparse.linalg, we need to set k as following\n",
    "# `k` must be an integer satisfying `0 < k < min(A.shape)`.\n",
    "U, s, V = svds(f_R_train, k=100)\n",
    "S = np.diag(s)\n",
    "Q = U.dot(S)\n",
    "P = V"
   ]
  },
  {
   "cell_type": "code",
   "execution_count": 40,
   "metadata": {},
   "outputs": [
    {
     "name": "stdout",
     "output_type": "stream",
     "text": [
      "(3529, 100)\n",
      "(100,)\n",
      "(100, 2072)\n"
     ]
    }
   ],
   "source": [
    "print(U.shape)\n",
    "print(s.shape)\n",
    "print(V.shape)"
   ]
  },
  {
   "cell_type": "code",
   "execution_count": 41,
   "metadata": {},
   "outputs": [
    {
     "name": "stdout",
     "output_type": "stream",
     "text": [
      "(3529, 100)\n",
      "(100, 2072)\n"
     ]
    }
   ],
   "source": [
    "S = np.diag(s)\n",
    "Q = U.dot(S)\n",
    "print(Q.shape)\n",
    "P = V\n",
    "print(P.shape)"
   ]
  },
  {
   "cell_type": "code",
   "execution_count": 42,
   "metadata": {},
   "outputs": [
    {
     "data": {
      "text/plain": [
       "dtype('int64')"
      ]
     },
     "execution_count": 42,
     "metadata": {},
     "output_type": "execute_result"
    }
   ],
   "source": [
    "R_train.dtype"
   ]
  },
  {
   "attachments": {},
   "cell_type": "markdown",
   "metadata": {},
   "source": [
    "### Function that initialize the latent factors Q and P\n"
   ]
  },
  {
   "cell_type": "code",
   "execution_count": 43,
   "metadata": {},
   "outputs": [],
   "source": [
    "def initialize_Q_P(matrix, k, init = 'random'):\n",
    "    \"\"\"\n",
    "    Initialize the matrices Q and P for a latent factor model\n",
    "    Initialize them by using SVD or random\n",
    "\n",
    "    Args:\n",
    "        matrix: sp.spmatrix, shape [N, D]\n",
    "                The matrix to be factorized\n",
    "        k:      int\n",
    "                The number of latent dimension\n",
    "        init:   str in ['svd', 'random'], default:'random'\n",
    "                The initialization strategy. 'svd' means that we use SVD to initialize P and Q\n",
    "                'random' means we initialize the entries in P and Q randomly in the interval [0. 1)\n",
    "                -> numpy.random.rand(shape)\n",
    "    Returns:\n",
    "        Q:  np.print(U.shape)\n",
    "            The initialized matrix Q of a latent factor model\n",
    "        P:  np.array, shape[k, D]\n",
    "            The initialized matrix P of a latent factor model\n",
    "    \"\"\" \n",
    "\n",
    "    N, D = matrix.shape\n",
    "\n",
    "    np.random.seed(0)\n",
    "\n",
    "    if matrix.dtype != float:\n",
    "        matrix = matrix.astype(float)\n",
    "\n",
    "    if init=='random':\n",
    "        Q = np.random.rand((N, k))\n",
    "        P = np.random.rand((k, D))\n",
    "    elif init=='svd':\n",
    "        U, s, V = svds(matrix, k=k)\n",
    "        S = np.diag(s)\n",
    "        Q = U.dot(S)\n",
    "        P = V\n",
    "    else:\n",
    "        raise ValueError\n",
    "    \n",
    "    assert Q.shape == (N, k)\n",
    "    assert P.shape == (k, D)\n",
    "    return Q, P"
   ]
  },
  {
   "cell_type": "code",
   "execution_count": 45,
   "metadata": {},
   "outputs": [],
   "source": [
    "Q, P = initialize_Q_P(R_train, k = 100, init='svd')"
   ]
  },
  {
   "cell_type": "code",
   "execution_count": 46,
   "metadata": {},
   "outputs": [
    {
     "name": "stdout",
     "output_type": "stream",
     "text": [
      "(3529, 100)\n",
      "(100, 2072)\n"
     ]
    }
   ],
   "source": [
    "print(f'{Q.shape}')\n",
    "print(f'{P.shape}')"
   ]
  },
  {
   "attachments": {},
   "cell_type": "markdown",
   "metadata": {},
   "source": [
    "## Optimization\n",
    "- Alternating optimization\n",
    "    - We need to optimize Q and P simultaneously in the primary optimization problem\n",
    "    - But this is really difficult to implement\n",
    "    - We are going to pretend knowing either Q or P at a moment and optimize the other variable\n"
   ]
  },
  {
   "cell_type": "code",
   "execution_count": 64,
   "metadata": {},
   "outputs": [
    {
     "name": "stdout",
     "output_type": "stream",
     "text": [
      "[[1 0 1 0]\n",
      " [0 1 0 0]\n",
      " [0 0 0 0]\n",
      " [0 0 0 1]]\n",
      "  (0, 0)\t1\n",
      "  (0, 2)\t1\n",
      "  (1, 1)\t1\n",
      "  (3, 3)\t1\n",
      "=list=\n",
      "[list([0, 2]) list([1]) list([]) list([3])]\n",
      "---------------------------\n",
      "[[1 0 1 0]\n",
      " [0 1 0 0]\n",
      " [0 0 0 0]\n",
      " [0 0 0 1]]\n",
      "  (0, 0)\t1\n",
      "  (1, 1)\t1\n",
      "  (0, 2)\t1\n",
      "  (3, 3)\t1\n",
      "=list=\n",
      "[list([0, 2]) list([1]) list([]) list([3])]\n"
     ]
    }
   ],
   "source": [
    "row  = np.array([0, 0, 1, 3])\n",
    "col  = np.array([0, 2, 1, 3])\n",
    "data = np.array([1, 1, 1, 1])\n",
    "\n",
    "A = sp.coo_matrix((data, (row, col)), shape=(4, 4)).tocsr()\n",
    "print(A.toarray())\n",
    "print(A)\n",
    "list_rows = A.tolil().rows\n",
    "print('=list=')\n",
    "print(list_rows)\n",
    "\n",
    "print('---------------------------')\n",
    "\n",
    "A = A.tocsc()\n",
    "print(A.toarray())\n",
    "print(A)\n",
    "list_colums = A.tolil().rows\n",
    "print('=list=')\n",
    "print(list_colums)\n",
    "\n"
   ]
  },
  {
   "attachments": {},
   "cell_type": "markdown",
   "metadata": {},
   "source": [
    "## Scipy sparse \n",
    "    csc vs csr\n",
    "- CSC: Compressed sparse column\n",
    "  - Sorted in the column indices \n",
    "- CSR: Compressed sparse row\n",
    "  - Sorted in the row indices \n",
    "They are used for write-once-read-many-tasks\n"
   ]
  },
  {
   "cell_type": "code",
   "execution_count": 70,
   "metadata": {},
   "outputs": [],
   "source": [
    "def latent_factor_alternating_optimization(R, non_zero_idx, k, val_idx, reg_lambda, max_steps = 100, init = 'random', log_every = 1, patience = 5, eval_every = 1, optimizer = 'sgd', lr = 1e-2):\n",
    "    \"\"\"\n",
    "    Perform matrix factorization using alternating optimization. \n",
    "    Training is done via patience.\n",
    "    i.e. we stop training after we observe no improvement \n",
    "    on the validation loss for a certain\n",
    "    amount of training steps. We then return the best values \n",
    "    for Q and P observed during training.\n",
    "    \n",
    "    Args:\n",
    "        R:              sp.spmatrix, shape [N, D]\n",
    "                        The input matrix to be factorized (train_matrix)\n",
    "                        It has to be centralized by mean.\n",
    "        \n",
    "        non_zero_idx:   np.array, shape [nnz, 2]\n",
    "                        The indices of the non-zero entries of the **un-shifted** matrix to be factorized.\n",
    "                        nnz refers to the number of non-zero entries. Note that this may be different \n",
    "                        from the number of non-zero entries in the input matrix(training matrix) since this indices refers\n",
    "                        original data matrix\n",
    "        \n",
    "        k:              int\n",
    "                        The latent factor dimension\n",
    "        \n",
    "        val_idx:        tuple, shape[2, n_val]\n",
    "                        [u1, u2, ,,,,, u_n_val]\n",
    "                        [i1, i2, ,,,,, i_n_val]\n",
    "                        Tuple pf the validation set indices\n",
    "                        n_val refers to the size of the validation set\n",
    "        \n",
    "        val_values:     np.array, shape [n_val, ]\n",
    "                        The values in the validation set\n",
    "\n",
    "        reg_lambda:     float\n",
    "                        The regularization strength\n",
    "        \n",
    "        max_steps:      int, optional, default = 100\n",
    "                        Maximum number of training interactions (steps, 1 steps, one optimization of two matrix factor Q and P),\n",
    "                        Note that we will step early if we observe\n",
    "                        no improvement on the validation with the step to be patient\n",
    "\n",
    "        init:           str in ['random', 'svd'], default 'random'\n",
    "                        The initialization strategy for P and Q.\n",
    "        \n",
    "        log_every:      int, optional, default: 1\n",
    "                        Log the training status every X iterations\n",
    "        \n",
    "        patience:       int, optional, default: 5\n",
    "                        Stop training after we observe no improvement of the valid loss for X evaluation\n",
    "                        iterations. After we stop training, we restore the best observed values for Q and P\n",
    "\n",
    "        eval_every:     int, optional, default: 1\n",
    "                        Evaluate the training and validation loss every x steps\n",
    "                        If we observe no improvement of the validation error, we decrease out patience by 1, else we reset it to *patience*\n",
    "        \n",
    "        optimizer:      str, optional, default: sgd\n",
    "                        If 'sgd; stochastic gradient descent shall be used, otherwise, use alternating least squares.\n",
    "        \n",
    "    Returns:\n",
    "\n",
    "        best_Q:             np.array, shape [N, k]\n",
    "                            Best value for Q (based on the validation loss) observed during training\n",
    "        \n",
    "        best_P:             np.array, shape[k, D]\n",
    "                            Best value for P (based on validation loss) observed during training\n",
    "\n",
    "        validation_losses:  list of floats\n",
    "                            Validation loss for every evaluation iteration, can be used for plotting the validation loss\n",
    "                            over time\n",
    "        \n",
    "        train_losses:       list of floats\n",
    "                            Training loss for every evaluation iteration, can be used for plotting the training loss over time\n",
    "\n",
    "        converged_after:    int\n",
    "                            it - patience * eval_every, where it is the iteration in which patience hits 0,\n",
    "                            or -1 if we hit max_steps before converging.\n",
    "\n",
    "    \"\"\"\n",
    "\n",
    "    nnz_mask = sp.coo_matrix((np.ones(len(non_zero_idx)), (non_zero_idx[:, 0], non_zero_idx[:, 1])), shape=R.shape, dtype = \"unit8\").tocsr()\n",
    "\n",
    "    nnz_mask_col = nnz_mask.tocsc()\n",
    "\n",
    "    cols = nnz_mask.T.tolil().rows\n",
    "    rows = nnz_mask.tolil().rows\n",
    "\n",
    "    reg  = Ridge(alpha=reg_lambda, fit_intercept = False)\n",
    "\n",
    "    Q, P = initialize_Q_P(R, k, init)\n",
    "    train_losses = []\n",
    "    validation_losses = []\n",
    "\n",
    "    best_val_losses = best_Q = best_P = converged_after = -1\n",
    "\n",
    "    train_idx = tuple(non_zero_idx.T)\n",
    "\n",
    "    bef = -1\n",
    "    times = []\n",
    "    for it in range(max_steps):\n",
    "        if bef != -1:\n",
    "            times.append(time.time()-bef)\n",
    "        bef = time.time()\n",
    "\n",
    "        if it % eval_every ==0:\n",
    "            train_loss = loss(R[train_idx].A1, train_idx, Q, P, reg_lambda)\n",
    "            train_losses.append(train_loss)\n",
    "\n",
    "            val_loss = loss(val_values, val_idx, Q, P, reg_lambda)\n",
    "            validation_losses.append(val_loss)\n",
    "\n",
    "            if best_val_loss < 0 or val_loss < best_val_loss:\n",
    "                best_val_loss = val_loss\n",
    "                best_Q = Q\n",
    "                best_P = P\n",
    "                current_patience = patience\n",
    "            else:\n",
    "                current_patience -=1\n",
    "\n",
    "            if current_patience ==0:\n",
    "                converged_after = it - patience * eval_every\n",
    "                break\n",
    "\n",
    "        print(\"Iteration {}, training loss: {:.3f}, validation loss: {:.3f}\".format(it, train_loss, val_loss))\n",
    "\n",
    "        if optimizer == 'sgd':\n",
    "            sgd_indices = np.arrange(len(train_idx[0]))\n",
    "            np.random.shuffle(sgd_indices)\n",
    "\n",
    "            for idx in sgd_indices:\n",
    "                u, i = train_idx[0][idx], train_idx[1][idx]\n",
    "                prediction=Q[u, :].dot(P[:, i])\n",
    "                e = (R[u, i] - prediction) # error\n",
    "\n",
    "                # Update latent factors\n",
    "                Q[u, :] += lr * (e * P[:, i]-reg_lambda * Q[u, :])\n",
    "                P[:, i] += lr * (e * Q[u, :]-reg_lambda * P[:, i])\n",
    "\n",
    "        else:\n",
    "            # fix Q and update P\n",
    "            for rating_idx in range(R.shape[1]):\n",
    "                nnz_idx = cols[rating_idx]\n",
    "                res = reg.fit(Q[nnz_idx], np.squeeze(R[nnz_idx, rating_idx].toarray()))\n",
    "                P[:, rating_idx] = res.coef_\n",
    "\n",
    "            for user_idx in range(R.shape[0]):\n",
    "                 nnz_idx = rows[user_idx]\n",
    "                 res = reg.fit(P[:, nnz_idx].T, np.squeeze(R[user_idx, nnz_idx].toarray()))\n",
    "                 Q[user_idx, :] = res.coef_\n",
    "            \n",
    "        print(\"Converged after {} iteration, ob average {:.3f}s per iteration\".format(converged_after, np.mean(times)))\n",
    "    return best_Q, best_P, validation_losses, train_losses, converged_after"
   ]
  },
  {
   "attachments": {},
   "cell_type": "markdown",
   "metadata": {},
   "source": []
  }
 ],
 "metadata": {
  "kernelspec": {
   "display_name": "dlml",
   "language": "python",
   "name": "python3"
  },
  "language_info": {
   "codemirror_mode": {
    "name": "ipython",
    "version": 3
   },
   "file_extension": ".py",
   "mimetype": "text/x-python",
   "name": "python",
   "nbconvert_exporter": "python",
   "pygments_lexer": "ipython3",
   "version": "3.10.9"
  },
  "orig_nbformat": 4,
  "vscode": {
   "interpreter": {
    "hash": "e6b7a25b8b2426eb550c8146811605d9bdb61f23d99ada7f1c3a4f71b608de8f"
   }
  }
 },
 "nbformat": 4,
 "nbformat_minor": 2
}
