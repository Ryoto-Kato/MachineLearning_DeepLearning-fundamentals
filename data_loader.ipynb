{
 "cells": [
  {
   "attachments": {},
   "cell_type": "markdown",
   "metadata": {},
   "source": [
    "# CIFAR-10: Image Dataset\n",
    "The CIFAR-10 dataset consists of 50000 32x32 colour images in 10 classes, which are *plane*, *car*, *bird*, *cat*, *deer*, *dog*, *frog*, *horse*, *ship*, *truck*."
   ]
  },
  {
   "cell_type": "code",
   "execution_count": 1,
   "metadata": {},
   "outputs": [],
   "source": [
    "# import os\n",
    "# import pickle\n",
    "# import numpy as np\n",
    "# from PIL import Image\n",
    "# import matplotlib.pyplot as plt\n",
    "# from tqdm import tqdm"
   ]
  },
  {
   "cell_type": "code",
   "execution_count": 2,
   "metadata": {},
   "outputs": [],
   "source": [
    "# from exercise_code.data import (\n",
    "#     ImageFolderDataset,\n",
    "#     RescaleTransform,\n",
    "#     NormalizeTransform,\n",
    "#     ComposeTransform,\n",
    "#     compute_image_mean_and_std,\n",
    "# )"
   ]
  },
  {
   "cell_type": "code",
   "execution_count": 3,
   "metadata": {},
   "outputs": [],
   "source": [
    "# from exercise_code.tests import (\n",
    "#     test_image_folder_dataset,\n",
    "#     test_rescale_transform,\n",
    "#     test_compute_image_mean_and_std,\n",
    "#     test_len_dataset,\n",
    "#     test_item_dataset,\n",
    "#     test_transform_dataset,\n",
    "#     save_pickle\n",
    "# )"
   ]
  },
  {
   "cell_type": "code",
   "execution_count": 4,
   "metadata": {},
   "outputs": [],
   "source": [
    "# import os\n",
    "# import pickle\n",
    "# import numpy as np\n",
    "# from PIL import Image\n",
    "# import matplotlib.pyplot as plt\n",
    "# from tqdm import tqdm\n",
    "# %load_ext autoreload\n",
    "# %autoreload 2\n",
    "# %matplotlib inline"
   ]
  },
  {
   "cell_type": "code",
   "execution_count": 5,
   "metadata": {},
   "outputs": [],
   "source": [
    "# plt.rcParams['figure.figsize'] = (10.0, 8.0)\n",
    "# plt.rcParams['image.interpolation'] = 'nearest'\n",
    "# plt.rcParams['image.cmap'] = 'gray'"
   ]
  },
  {
   "attachments": {},
   "cell_type": "markdown",
   "metadata": {},
   "source": [
    "1. Data Download"
   ]
  },
  {
   "cell_type": "code",
   "execution_count": 6,
   "metadata": {},
   "outputs": [],
   "source": [
    "# # get current directory\n",
    "# print(os.getcwd()) \n",
    "# # get absolute directory path\n",
    "# print(os.path.abspath(os.getcwd()))\n",
    "# # get parent directory\n",
    "# print(os.path.dirname(os.path.abspath(os.getcwd())))"
   ]
  },
  {
   "cell_type": "code",
   "execution_count": 7,
   "metadata": {},
   "outputs": [],
   "source": [
    "# i2dl_exercise_path = os.path.dirname(os.path.abspath(os.getcwd()))\n",
    "# cifar_root = os.path.join(i2dl_exercise_path, \"datasets\", \"cifar10\")\n",
    "# dataset = ImageFolderDataset(root=cifar_root, force_download = False, verbose = True)"
   ]
  },
  {
   "attachments": {},
   "cell_type": "markdown",
   "metadata": {},
   "source": [
    "2. Data Visualization"
   ]
  },
  {
   "cell_type": "code",
   "execution_count": 8,
   "metadata": {},
   "outputs": [],
   "source": [
    "# def load_image_as_numpy(image_path):\n",
    "#     return np.asrray(Image.open(image_path),dtype=float)"
   ]
  },
  {
   "cell_type": "code",
   "execution_count": 9,
   "metadata": {},
   "outputs": [],
   "source": [
    "# classes = [\n",
    "#     'plane', 'car', 'bird', 'cat', 'deer',\n",
    "#     'dog', 'frog', 'horse', 'ship', 'truck',\n",
    "# ]"
   ]
  },
  {
   "cell_type": "code",
   "execution_count": 10,
   "metadata": {},
   "outputs": [],
   "source": [
    "# num_classes = len(classes)\n",
    "# samples_per_class = 10"
   ]
  },
  {
   "cell_type": "code",
   "execution_count": 11,
   "metadata": {},
   "outputs": [],
   "source": [
    "# for label, cls in enumerate(sorted(classes)):\n",
    "#     for i in range(samples_per_class):\n",
    "#         image_path = os.path.join(\n",
    "#             cifar_root,\n",
    "#             cls, #folder name = class name\n",
    "#             str(i+1).zfill(4) + \".png\" #0004.png\n",
    "#         )\n",
    "#         image = np.asarray(Image.open(image_path))\n",
    "#         plt_idx = i * num_classes + label + 1 # calculate plot location in the grid\n",
    "#         plt.subplot(samples_per_class, num_classes, plt_idx)\n",
    "#         plt.imshow(image.astype('uint8')) #char=[0, 255]\n",
    "#         plt.axis('off')\n",
    "#         if i == 0:\n",
    "#             plt.title(cls)\n",
    "# plt.show()"
   ]
  },
  {
   "attachments": {},
   "cell_type": "markdown",
   "metadata": {},
   "source": [
    "# From here, using my own dataloader (./dataloader/)"
   ]
  },
  {
   "cell_type": "code",
   "execution_count": 12,
   "metadata": {},
   "outputs": [],
   "source": [
    "import os\n",
    "import pickle\n",
    "import numpy as np\n",
    "from PIL import Image\n",
    "import matplotlib.pyplot as plt\n",
    "from tqdm import tqdm\n",
    "%load_ext autoreload\n",
    "%autoreload 2\n",
    "%matplotlib inline\n",
    "plt.rcParams['figure.figsize'] = (10.0, 8.0)\n",
    "plt.rcParams['image.interpolation'] = 'nearest'\n",
    "plt.rcParams['image.cmap'] = 'gray'"
   ]
  },
  {
   "attachments": {},
   "cell_type": "markdown",
   "metadata": {},
   "source": [
    "# rk_ImageFolderData class\n",
    "- Access single files every time we access a dataset element by using get_item which are then loaded into the memory\n",
    "- This is time consuming when we get an image from a local HDD\n",
    "- To avoid this, we can store list of images and lists in a pickle and we can obtain lists by using Reader of pickle"
   ]
  },
  {
   "attachments": {},
   "cell_type": "markdown",
   "metadata": {},
   "source": [
    "- ImagedFolderDataset()\n",
    "  - Given file path (.zip) to download_url\n"
   ]
  },
  {
   "cell_type": "code",
   "execution_count": 13,
   "metadata": {},
   "outputs": [
    {
     "name": "stdout",
     "output_type": "stream",
     "text": [
      "/home/ryotok/Documents/ML_DL/machine-learning-excercise\n",
      "/home/ryotok/Documents/ML_DL/machine-learning-excercise\n",
      "/home/ryotok/Documents/ML_DL\n"
     ]
    }
   ],
   "source": [
    "# get current directory\n",
    "print(os.getcwd()) \n",
    "# get absolute directory path\n",
    "print(os.path.abspath(os.getcwd()))\n",
    "# get parent directory\n",
    "print(os.path.dirname(os.path.abspath(os.getcwd())))"
   ]
  },
  {
   "cell_type": "code",
   "execution_count": 14,
   "metadata": {},
   "outputs": [],
   "source": [
    "classes = [\n",
    "    'plane', 'car', 'bird', 'cat', 'deer',\n",
    "    'dog', 'frog', 'horse', 'ship', 'truck',\n",
    "]"
   ]
  },
  {
   "cell_type": "code",
   "execution_count": 15,
   "metadata": {},
   "outputs": [
    {
     "name": "stdout",
     "output_type": "stream",
     "text": [
      "Found dataset folder. Skipped downloading. If you face issues, please re-download the dataset using\n",
      "'--force_download=True'\n",
      "50000\n",
      "{'image': array([[[  3., 125., 233.],\n",
      "        [  3., 130., 238.],\n",
      "        [  4., 133., 241.],\n",
      "        ...,\n",
      "        [  2., 128., 237.],\n",
      "        [  3., 124., 233.],\n",
      "        [  3., 119., 227.]],\n",
      "\n",
      "       [[  2., 130., 239.],\n",
      "        [  1., 136., 243.],\n",
      "        [  3., 139., 244.],\n",
      "        ...,\n",
      "        [  3., 134., 241.],\n",
      "        [  4., 131., 238.],\n",
      "        [  3., 127., 232.]],\n",
      "\n",
      "       [[  4., 137., 244.],\n",
      "        [  8., 140., 250.],\n",
      "        [ 12., 145., 252.],\n",
      "        ...,\n",
      "        [  5., 140., 245.],\n",
      "        [  4., 138., 243.],\n",
      "        [  5., 135., 241.]],\n",
      "\n",
      "       ...,\n",
      "\n",
      "       [[ 52., 154., 252.],\n",
      "        [ 53., 155., 255.],\n",
      "        [ 55., 156., 254.],\n",
      "        ...,\n",
      "        [ 70., 158., 255.],\n",
      "        [ 70., 158., 254.],\n",
      "        [ 68., 156., 249.]],\n",
      "\n",
      "       [[ 50., 151., 251.],\n",
      "        [ 53., 154., 254.],\n",
      "        [ 55., 156., 253.],\n",
      "        ...,\n",
      "        [ 70., 158., 255.],\n",
      "        [ 68., 156., 254.],\n",
      "        [ 64., 151., 250.]],\n",
      "\n",
      "       [[ 45., 147., 252.],\n",
      "        [ 50., 150., 253.],\n",
      "        [ 53., 153., 251.],\n",
      "        ...,\n",
      "        [ 64., 154., 250.],\n",
      "        [ 60., 151., 249.],\n",
      "        [ 55., 146., 248.]]]), 'label': 0}\n",
      "(32, 32, 3)\n"
     ]
    },
    {
     "data": {
      "text/plain": [
       "<matplotlib.image.AxesImage at 0x7f31ab9df070>"
      ]
     },
     "execution_count": 15,
     "metadata": {},
     "output_type": "execute_result"
    },
    {
     "data": {
      "image/png": "[encoded data removed]",
      "text/plain": [
       "<Figure size 1000x800 with 1 Axes>"
      ]
     },
     "metadata": {},
     "output_type": "display_data"
    }
   ],
   "source": [
    "from dataloader.image_folder_dataset import rk_ImageFolderDataset\n",
    "\n",
    "# path to archive\n",
    "directory = os.path.dirname(os.path.abspath(os.getcwd()))\n",
    "cifar_root = os.path.join(directory, \"datasets\", \"cifar10\")\n",
    "\n",
    "# instance of ImageFolderDataset\n",
    "dataset = rk_ImageFolderDataset(root = cifar_root, force_download = False, verbose = True)\n",
    "\n",
    "print(dataset.__len__())\n",
    "# image: image file path, label: class indicator\n",
    "sample_dict_else = dataset[0]\n",
    "print(sample_dict_else)\n",
    "sample_image = sample_dict_else[\"image\"]\n",
    "sample_label = sample_dict_else[\"label\"]\n",
    "print(sample_image.shape)\n",
    "\n",
    "\n",
    "plt.imshow(sample_image.astype('uint8'))"
   ]
  },
  {
   "cell_type": "code",
   "execution_count": 16,
   "metadata": {},
   "outputs": [
    {
     "name": "stderr",
     "output_type": "stream",
     "text": [
      "101it [00:00, 5042.19it/s]             "
     ]
    },
    {
     "name": "stdout",
     "output_type": "stream",
     "text": [
      "Number of samples 101\n"
     ]
    },
    {
     "name": "stderr",
     "output_type": "stream",
     "text": [
      "\n"
     ]
    }
   ],
   "source": [
    "num_samples = 0\n",
    "max_num_samples = 100\n",
    "\n",
    "for i, sample in enumerate(tqdm(dataset, total = max_num_samples)):\n",
    "    if i > max_num_samples:\n",
    "        break\n",
    "    num_samples += 1\n",
    "\n",
    "print(\"Number of samples\", num_samples)"
   ]
  },
  {
   "cell_type": "code",
   "execution_count": 17,
   "metadata": {},
   "outputs": [
    {
     "name": "stdout",
     "output_type": "stream",
     "text": [
      "/home/ryotok/Documents/ML_DL\n"
     ]
    }
   ],
   "source": [
    "print(os.path.dirname(os.getcwd()))"
   ]
  },
  {
   "attachments": {},
   "cell_type": "markdown",
   "metadata": {},
   "source": [
    "# Save image dataset into a pckl"
   ]
  },
  {
   "cell_type": "code",
   "execution_count": 18,
   "metadata": {},
   "outputs": [],
   "source": [
    "dataset.damp_pckl(os.path.join(os.path.dirname(os.getcwd()),'datasets'),'cifar10.pckl')"
   ]
  },
  {
   "attachments": {},
   "cell_type": "markdown",
   "metadata": {},
   "source": [
    "# Restore the image dataset from pckl file"
   ]
  },
  {
   "cell_type": "code",
   "execution_count": 19,
   "metadata": {},
   "outputs": [],
   "source": [
    "pckl_file_path = os.path.join(os.path.dirname(os.getcwd()), 'datasets', 'memory')"
   ]
  },
  {
   "cell_type": "code",
   "execution_count": 20,
   "metadata": {},
   "outputs": [
    {
     "name": "stdout",
     "output_type": "stream",
     "text": [
      "/home/ryotok/Documents/ML_DL/datasets/memory\n"
     ]
    }
   ],
   "source": [
    "print(pckl_file_path)"
   ]
  },
  {
   "attachments": {},
   "cell_type": "markdown",
   "metadata": {},
   "source": [
    "# rk_MemoryImageFolderDataset\n",
    "- Restore instance of MemoryImageFolderDataset parameters which are stored in the pickle file (pckl_fname)"
   ]
  },
  {
   "cell_type": "code",
   "execution_count": 21,
   "metadata": {},
   "outputs": [
    {
     "name": "stdout",
     "output_type": "stream",
     "text": [
      "Found dataset folder. Skipped downloading. If you face issues, please re-download the dataset using\n",
      "'--force_download=True'\n"
     ]
    }
   ],
   "source": [
    "from dataloader.image_folder_dataset import rk_MemoryImageFolderDataset\n",
    "dataset_root = os.path.join(os.path.dirname(os.getcwd()))\n",
    "\n",
    "memory_dataset = rk_MemoryImageFolderDataset(\n",
    "    root= pckl_file_path,\n",
    "    pckl_fname = 'cifar10.pckl',\n",
    "    verbose = True,\n",
    ")"
   ]
  },
  {
   "cell_type": "code",
   "execution_count": 22,
   "metadata": {},
   "outputs": [
    {
     "name": "stdout",
     "output_type": "stream",
     "text": [
      "{'image': array([[[  3., 125., 233.],\n",
      "        [  3., 130., 238.],\n",
      "        [  4., 133., 241.],\n",
      "        ...,\n",
      "        [  2., 128., 237.],\n",
      "        [  3., 124., 233.],\n",
      "        [  3., 119., 227.]],\n",
      "\n",
      "       [[  2., 130., 239.],\n",
      "        [  1., 136., 243.],\n",
      "        [  3., 139., 244.],\n",
      "        ...,\n",
      "        [  3., 134., 241.],\n",
      "        [  4., 131., 238.],\n",
      "        [  3., 127., 232.]],\n",
      "\n",
      "       [[  4., 137., 244.],\n",
      "        [  8., 140., 250.],\n",
      "        [ 12., 145., 252.],\n",
      "        ...,\n",
      "        [  5., 140., 245.],\n",
      "        [  4., 138., 243.],\n",
      "        [  5., 135., 241.]],\n",
      "\n",
      "       ...,\n",
      "\n",
      "       [[ 52., 154., 252.],\n",
      "        [ 53., 155., 255.],\n",
      "        [ 55., 156., 254.],\n",
      "        ...,\n",
      "        [ 70., 158., 255.],\n",
      "        [ 70., 158., 254.],\n",
      "        [ 68., 156., 249.]],\n",
      "\n",
      "       [[ 50., 151., 251.],\n",
      "        [ 53., 154., 254.],\n",
      "        [ 55., 156., 253.],\n",
      "        ...,\n",
      "        [ 70., 158., 255.],\n",
      "        [ 68., 156., 254.],\n",
      "        [ 64., 151., 250.]],\n",
      "\n",
      "       [[ 45., 147., 252.],\n",
      "        [ 50., 150., 253.],\n",
      "        [ 53., 153., 251.],\n",
      "        ...,\n",
      "        [ 64., 154., 250.],\n",
      "        [ 60., 151., 249.],\n",
      "        [ 55., 146., 248.]]]), 'label': 0}\n"
     ]
    }
   ],
   "source": [
    "memory_sample_dict = memory_dataset[0]\n",
    "print(memory_sample_dict)"
   ]
  },
  {
   "cell_type": "code",
   "execution_count": 23,
   "metadata": {},
   "outputs": [
    {
     "name": "stdout",
     "output_type": "stream",
     "text": [
      "(32, 32, 3)\n"
     ]
    },
    {
     "data": {
      "text/plain": [
       "<matplotlib.image.AxesImage at 0x7f31a888e770>"
      ]
     },
     "execution_count": 23,
     "metadata": {},
     "output_type": "execute_result"
    },
    {
     "data": {
      "image/png": "[encoded data removed]",
      "text/plain": [
       "<Figure size 1000x800 with 1 Axes>"
      ]
     },
     "metadata": {},
     "output_type": "display_data"
    }
   ],
   "source": [
    "sample_image = memory_sample_dict[\"image\"]\n",
    "print(sample_image.shape)\n",
    "plt.imshow(sample_image.astype('uint8'))"
   ]
  },
  {
   "cell_type": "code",
   "execution_count": 24,
   "metadata": {},
   "outputs": [
    {
     "name": "stderr",
     "output_type": "stream",
     "text": [
      "100%|██████████| 100/100 [00:00<00:00, 9704.54it/s]"
     ]
    },
    {
     "name": "stdout",
     "output_type": "stream",
     "text": [
      "num_samples: 100\n"
     ]
    },
    {
     "name": "stderr",
     "output_type": "stream",
     "text": [
      "\n"
     ]
    }
   ],
   "source": [
    "num_samples = 0\n",
    "max_num_samples = 100\n",
    "\n",
    "for i, sample in enumerate(tqdm(dataset, total=max_num_samples)):\n",
    "    if i>=max_num_samples:\n",
    "        break\n",
    "    num_samples += 1\n",
    "\n",
    "print(\"num_samples:\",num_samples)"
   ]
  },
  {
   "cell_type": "code",
   "execution_count": 25,
   "metadata": {},
   "outputs": [],
   "source": [
    "DATASET = rk_MemoryImageFolderDataset"
   ]
  },
  {
   "attachments": {},
   "cell_type": "markdown",
   "metadata": {},
   "source": [
    "# Dataset Transforms and Image Processing\n",
    "Before training machine learning models, we usually need to pre-process the given dataset. For image datasets, two commonly applied techniques are:\n",
    "\n",
    "1. Normalization all images so that each value is either [-1, 1] or [0, 1]. By doing so the image are also converted to floating point number\n",
    "   - When you want to visualize them, we need to map value to unsigned char 1byte range [0, 255] and convert it to uint8\n",
    "2. Compute the mean over all images and subtract this mean from all images in the dataset. "
   ]
  },
  {
   "attachments": {},
   "cell_type": "markdown",
   "metadata": {},
   "source": [
    "In the ImageFolderDataset class, we are going to transform the image into a certain form when we call __getitem__ with dataset[index]"
   ]
  },
  {
   "attachments": {},
   "cell_type": "markdown",
   "metadata": {},
   "source": [
    "# Rescaling and Rescale Transform"
   ]
  },
  {
   "cell_type": "code",
   "execution_count": 26,
   "metadata": {},
   "outputs": [
    {
     "name": "stdout",
     "output_type": "stream",
     "text": [
      "Found dataset folder. Skipped downloading. If you face issues, please re-download the dataset using\n",
      "'--force_download=True'\n"
     ]
    }
   ],
   "source": [
    "pckl_file_path = os.path.join(os.path.dirname(os.getcwd()), 'datasets', 'memory')\n",
    "pckl_fname = 'cifar10.pckl'\n",
    "dataset_for_rescale = DATASET(root=pckl_file_path, pckl_fname=pckl_fname, verbose = True)"
   ]
  },
  {
   "cell_type": "code",
   "execution_count": 27,
   "metadata": {},
   "outputs": [
    {
     "name": "stdout",
     "output_type": "stream",
     "text": [
      "image index:  [37987]\n",
      "label: 0\n"
     ]
    },
    {
     "data": {
      "image/png": "[encoded data removed]",
      "text/plain": [
       "<Figure size 1000x800 with 1 Axes>"
      ]
     },
     "metadata": {},
     "output_type": "display_data"
    }
   ],
   "source": [
    "random_id = np.random.choice(len(dataset_for_rescale), 1)\n",
    "print(\"image index: \", random_id)\n",
    "sample = dataset_for_rescale[1] # sampling dict\n",
    "sample_image = sample[\"image\"] \n",
    "sample_label = sample[\"label\"]\n",
    "plt.imshow(sample_image.astype('uint8'))\n",
    "print(\"label:\", sample_label)"
   ]
  },
  {
   "cell_type": "code",
   "execution_count": null,
   "metadata": {},
   "outputs": [],
   "source": [
    "from .dataloader.transforms import RescaleTransform\n",
    "\n",
    "Normalized_dataset = rk_MemoryImageFolderDataset()"
   ]
  }
 ],
 "metadata": {
  "kernelspec": {
   "display_name": "dlml",
   "language": "python",
   "name": "python3"
  },
  "language_info": {
   "codemirror_mode": {
    "name": "ipython",
    "version": 3
   },
   "file_extension": ".py",
   "mimetype": "text/x-python",
   "name": "python",
   "nbconvert_exporter": "python",
   "pygments_lexer": "ipython3",
   "version": "3.10.9"
  },
  "orig_nbformat": 4
 },
 "nbformat": 4,
 "nbformat_minor": 2
}
